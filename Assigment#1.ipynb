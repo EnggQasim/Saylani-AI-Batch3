{
 "cells": [
  {
   "cell_type": "code",
   "execution_count": 61,
   "id": "1655587b",
   "metadata": {},
   "outputs": [
    {
     "name": "stdout",
     "output_type": "stream",
     "text": [
      " Enter Student NameShahzad Ahmed Khan\n",
      "Enter Student Roll NumberAI-46165\n",
      "Enter Batch NameAI BATCH (3)\n",
      "Enter Contact Number0300-2303175\n",
      "Enter the Score of Python Programmer9\n",
      "Enter the Score of Data Analyst with Python9\n",
      "Enter the Score of Data Scientist9\n"
     ]
    }
   ],
   "source": [
    "v_Institute = \"Saylani Mass IT Training Program\"\n",
    "v_instructor = \"Sir Qasim\"\n",
    "mySubj = (\"Python Programmer\", \"Data Analyst with Python\", \"Data Scientist\")\n",
    "myRating = [0,0,0]\n",
    "v_totmarks = 30\n",
    "v_gotmarks = 0\n",
    "\n",
    "v_student = input(\" Enter Student Name\")\n",
    "v_Rollnum = input(\"Enter Student Roll Number\")\n",
    "v_batch = input(\"Enter Batch Name\")\n",
    "v_Contact = input(\"Enter Contact Number\")\n",
    "\n",
    "for x in range(3): \n",
    "    myRating[x] = input(\"Enter the Score of \" + mySubj[x])\n",
    "    v_gotmarks = v_gotmarks + int(myRating[x])\n",
    "     \n"
   ]
  },
  {
   "cell_type": "code",
   "execution_count": 62,
   "id": "16f6f82c",
   "metadata": {},
   "outputs": [
    {
     "name": "stdout",
     "output_type": "stream",
     "text": [
      "Institute Name :  Saylani Mass IT Training Program\n",
      "Instructor Name :  Sir Qasim\n",
      "Student Name :  Shahzad Ahmed Khan\n",
      "Roll Number :  AI-46165\n",
      "Course :  AI BATCH (3)\n",
      "Contact Num :  0300-2303175\n",
      "\n",
      "\n",
      "Subject: Python Programmer  /  Your Score :  9\n",
      "Subject: Data Analyst with Python  /  Your Score :  9\n",
      "Subject: Data Scientist  /  Your Score :  9\n",
      "Your total score is  27  out of  30  !\n",
      "Your Percentage is :  90.0 %\n"
     ]
    }
   ],
   "source": [
    "print(\"Institute Name : \", v_Institute)\n",
    "print(\"Instructor Name : \",v_instructor)\n",
    "print(\"Student Name : \", v_student)\n",
    "print(\"Roll Number : \", v_Rollnum)\n",
    "print(\"Course : \", v_batch)\n",
    "print(\"Contact Num : \", v_Contact)\n",
    "print('\\n')\n",
    "for i in range(3):\n",
    "    print(\"Subject:\", mySubj[i], \" /  Your Score : \", myRating[i] )\n",
    " \n",
    "print(\"Your total score is \", v_gotmarks, \" out of \", v_totmarks, \" !\")\n",
    "print(\"Your Percentage is : \",  v_gotmarks/v_totmarks*100, \"%\")"
   ]
  },
  {
   "cell_type": "code",
   "execution_count": null,
   "id": "364b8e0a",
   "metadata": {},
   "outputs": [],
   "source": []
  }
 ],
 "metadata": {
  "celltoolbar": "Tags",
  "kernelspec": {
   "display_name": "Python 3 (ipykernel)",
   "language": "python",
   "name": "python3"
  },
  "language_info": {
   "codemirror_mode": {
    "name": "ipython",
    "version": 3
   },
   "file_extension": ".py",
   "mimetype": "text/x-python",
   "name": "python",
   "nbconvert_exporter": "python",
   "pygments_lexer": "ipython3",
   "version": "3.9.12"
  }
 },
 "nbformat": 4,
 "nbformat_minor": 5
}
