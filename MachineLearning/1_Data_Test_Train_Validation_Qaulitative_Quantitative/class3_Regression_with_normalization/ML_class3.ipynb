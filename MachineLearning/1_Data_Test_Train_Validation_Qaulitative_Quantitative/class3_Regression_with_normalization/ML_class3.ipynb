{
 "cells": [
  {
   "cell_type": "code",
   "execution_count": 1,
   "id": "02032902",
   "metadata": {},
   "outputs": [],
   "source": [
    "import numpy as np\n",
    "import pandas as pd\n",
    "import matplotlib.pyplot as plt\n",
    "from sklearn.model_selection import train_test_split"
   ]
  },
  {
   "cell_type": "code",
   "execution_count": 2,
   "id": "d71c2732",
   "metadata": {},
   "outputs": [
    {
     "name": "stdout",
     "output_type": "stream",
     "text": [
      "<class 'pandas.core.frame.DataFrame'>\n",
      "RangeIndex: 10000 entries, 0 to 9999\n",
      "Data columns (total 2 columns):\n",
      " #   Column  Non-Null Count  Dtype  \n",
      "---  ------  --------------  -----  \n",
      " 0   Height  10000 non-null  float64\n",
      " 1   Weight  10000 non-null  float64\n",
      "dtypes: float64(2)\n",
      "memory usage: 156.4 KB\n"
     ]
    }
   ],
   "source": [
    "df = pd.read_csv(\"https://raw.githubusercontent.com/EnggQasim/Saylani-AI-Batch3/main/MachineLearning/1_Data_Test_Train_Validation_Qaulitative_Quantitative/2_Regression/data/weight-height.csv\",\n",
    "                usecols=[\"Height\",\"Weight\"])\n",
    "df.info()"
   ]
  },
  {
   "cell_type": "code",
   "execution_count": 3,
   "id": "69cc172e",
   "metadata": {},
   "outputs": [
    {
     "data": {
      "text/html": [
       "<div>\n",
       "<style scoped>\n",
       "    .dataframe tbody tr th:only-of-type {\n",
       "        vertical-align: middle;\n",
       "    }\n",
       "\n",
       "    .dataframe tbody tr th {\n",
       "        vertical-align: top;\n",
       "    }\n",
       "\n",
       "    .dataframe thead th {\n",
       "        text-align: right;\n",
       "    }\n",
       "</style>\n",
       "<table border=\"1\" class=\"dataframe\">\n",
       "  <thead>\n",
       "    <tr style=\"text-align: right;\">\n",
       "      <th></th>\n",
       "      <th>Height</th>\n",
       "      <th>Weight</th>\n",
       "    </tr>\n",
       "  </thead>\n",
       "  <tbody>\n",
       "    <tr>\n",
       "      <th>count</th>\n",
       "      <td>10000.000000</td>\n",
       "      <td>10000.000000</td>\n",
       "    </tr>\n",
       "    <tr>\n",
       "      <th>mean</th>\n",
       "      <td>66.367560</td>\n",
       "      <td>161.440357</td>\n",
       "    </tr>\n",
       "    <tr>\n",
       "      <th>std</th>\n",
       "      <td>3.847528</td>\n",
       "      <td>32.108439</td>\n",
       "    </tr>\n",
       "    <tr>\n",
       "      <th>min</th>\n",
       "      <td>54.263133</td>\n",
       "      <td>64.700127</td>\n",
       "    </tr>\n",
       "    <tr>\n",
       "      <th>25%</th>\n",
       "      <td>63.505620</td>\n",
       "      <td>135.818051</td>\n",
       "    </tr>\n",
       "    <tr>\n",
       "      <th>50%</th>\n",
       "      <td>66.318070</td>\n",
       "      <td>161.212928</td>\n",
       "    </tr>\n",
       "    <tr>\n",
       "      <th>75%</th>\n",
       "      <td>69.174262</td>\n",
       "      <td>187.169525</td>\n",
       "    </tr>\n",
       "    <tr>\n",
       "      <th>max</th>\n",
       "      <td>78.998742</td>\n",
       "      <td>269.989699</td>\n",
       "    </tr>\n",
       "  </tbody>\n",
       "</table>\n",
       "</div>"
      ],
      "text/plain": [
       "             Height        Weight\n",
       "count  10000.000000  10000.000000\n",
       "mean      66.367560    161.440357\n",
       "std        3.847528     32.108439\n",
       "min       54.263133     64.700127\n",
       "25%       63.505620    135.818051\n",
       "50%       66.318070    161.212928\n",
       "75%       69.174262    187.169525\n",
       "max       78.998742    269.989699"
      ]
     },
     "execution_count": 3,
     "metadata": {},
     "output_type": "execute_result"
    }
   ],
   "source": [
    "df.describe()"
   ]
  },
  {
   "cell_type": "code",
   "execution_count": 27,
   "id": "a250f38d",
   "metadata": {},
   "outputs": [],
   "source": [
    "X , Y = df.Height.values, df.Weight.values"
   ]
  },
  {
   "cell_type": "code",
   "execution_count": 34,
   "id": "38e96f3f",
   "metadata": {},
   "outputs": [],
   "source": [
    "X = X.reshape(10000,-1)"
   ]
  },
  {
   "cell_type": "raw",
   "id": "6556d6b6",
   "metadata": {},
   "source": [
    "# try to understand above 2D array requirements\n",
    "[1,2,3] -> 1 , 2 , 3\n",
    "[[1],[2],[3]] -> [1] , [2] , [3] # model will be accepted this format data/input"
   ]
  },
  {
   "cell_type": "code",
   "execution_count": 35,
   "id": "88af92ac",
   "metadata": {},
   "outputs": [
    {
     "name": "stdout",
     "output_type": "stream",
     "text": [
      "<class 'numpy.ndarray'> 10000 (10000, 1) [[73.84701702]\n",
      " [68.78190405]\n",
      " [74.11010539]\n",
      " ...\n",
      " [63.86799221]\n",
      " [69.03424313]\n",
      " [61.94424588]]\n"
     ]
    }
   ],
   "source": [
    "print(type(X),len(X),X.shape,X)"
   ]
  },
  {
   "cell_type": "code",
   "execution_count": 36,
   "id": "251181b0",
   "metadata": {},
   "outputs": [
    {
     "name": "stdout",
     "output_type": "stream",
     "text": [
      "<class 'numpy.ndarray'> 10000 [241.89356318 162.31047252 212.74085556 ... 128.47531878 163.85246135\n",
      " 113.64910268]\n"
     ]
    }
   ],
   "source": [
    "print(type(Y),len(Y),Y)"
   ]
  },
  {
   "cell_type": "code",
   "execution_count": 37,
   "id": "14f8626a",
   "metadata": {},
   "outputs": [],
   "source": [
    "X_train, X_test, y_train, y_test = train_test_split(X, Y, \n",
    "                                                    test_size=0.3,\n",
    "                                                   shuffle=False)\n"
   ]
  },
  {
   "cell_type": "code",
   "execution_count": 38,
   "id": "e8a4acce",
   "metadata": {},
   "outputs": [
    {
     "name": "stdout",
     "output_type": "stream",
     "text": [
      "Training Data length: 7000 7000\n",
      "Training Test length: 3000 3000\n"
     ]
    }
   ],
   "source": [
    "print(\"Training Data length:\",len(X_train), len(y_train)) # 7K\n",
    "print(\"Training Test length:\",len(X_test), len(y_test))# 3K"
   ]
  },
  {
   "cell_type": "markdown",
   "id": "081769e0",
   "metadata": {},
   "source": [
    "# Create Model with SKLearn"
   ]
  },
  {
   "cell_type": "code",
   "execution_count": 39,
   "id": "61b97971",
   "metadata": {},
   "outputs": [],
   "source": [
    "from sklearn.linear_model import LinearRegression"
   ]
  },
  {
   "cell_type": "code",
   "execution_count": 40,
   "id": "589312d3",
   "metadata": {},
   "outputs": [],
   "source": [
    "reg = LinearRegression().fit(X_train, y_train)# .fit(input, output) start training\n",
    "#after runing above code your model has been trained"
   ]
  },
  {
   "cell_type": "code",
   "execution_count": 42,
   "id": "e441f986",
   "metadata": {},
   "outputs": [
    {
     "data": {
      "text/plain": [
       "array([136.27998519, 130.42580076, 130.91316518, ..., 145.02423634,\n",
       "       183.86521716, 130.5610994 ])"
      ]
     },
     "execution_count": 42,
     "metadata": {},
     "output_type": "execute_result"
    }
   ],
   "source": [
    "y_predect_test = reg.predict(X_test) # just give input data it will provide predicted output"
   ]
  },
  {
   "cell_type": "code",
   "execution_count": 43,
   "id": "482716ed",
   "metadata": {},
   "outputs": [
    {
     "data": {
      "text/plain": [
       "array([220.04868197, 181.96807788, 222.02663671, ..., 144.41569845,\n",
       "       124.86239195, 111.08580566])"
      ]
     },
     "execution_count": 43,
     "metadata": {},
     "output_type": "execute_result"
    }
   ],
   "source": [
    "y_predect_train = reg.predict(X_train)\n",
    "y_predect_train"
   ]
  },
  {
   "cell_type": "code",
   "execution_count": 44,
   "id": "64f3ff31",
   "metadata": {},
   "outputs": [
    {
     "data": {
      "image/png": "[encoded data removed]",
      "text/plain": [
       "<Figure size 432x288 with 1 Axes>"
      ]
     },
     "metadata": {
      "needs_background": "light"
     },
     "output_type": "display_data"
    }
   ],
   "source": [
    "plt.scatter(X_train,y_train)# train Acctual data with actual y\n",
    "plt.show()"
   ]
  },
  {
   "cell_type": "code",
   "execution_count": 45,
   "id": "9cc6dece",
   "metadata": {},
   "outputs": [
    {
     "data": {
      "image/png": "[encoded data removed]",
      "text/plain": [
       "<Figure size 432x288 with 1 Axes>"
      ]
     },
     "metadata": {
      "needs_background": "light"
     },
     "output_type": "display_data"
    }
   ],
   "source": [
    "plt.scatter(X_train,y_predect_train)# train Acctual data with actual y\n",
    "plt.show()"
   ]
  },
  {
   "cell_type": "code",
   "execution_count": 46,
   "id": "cb51cbf2",
   "metadata": {},
   "outputs": [
    {
     "data": {
      "image/png": "[encoded data removed]",
      "text/plain": [
       "<Figure size 432x288 with 1 Axes>"
      ]
     },
     "metadata": {
      "needs_background": "light"
     },
     "output_type": "display_data"
    }
   ],
   "source": [
    "plt.scatter(X_test,y_test)# train Acctual data with actual y Testing data\n",
    "plt.show()"
   ]
  },
  {
   "cell_type": "code",
   "execution_count": 47,
   "id": "8b270004",
   "metadata": {},
   "outputs": [
    {
     "data": {
      "image/png": "[encoded data removed]",
      "text/plain": [
       "<Figure size 432x288 with 1 Axes>"
      ]
     },
     "metadata": {
      "needs_background": "light"
     },
     "output_type": "display_data"
    }
   ],
   "source": [
    "plt.scatter(X_test,y_predict)# train Acctual data with actual y Testing data\n",
    "plt.show()"
   ]
  },
  {
   "cell_type": "markdown",
   "id": "743b5812",
   "metadata": {},
   "source": [
    "# get model learning parameters"
   ]
  },
  {
   "cell_type": "raw",
   "id": "bbbd0f35",
   "metadata": {},
   "source": [
    "w = coff\n",
    "b = incercept"
   ]
  },
  {
   "cell_type": "code",
   "execution_count": 48,
   "id": "6e2286cc",
   "metadata": {},
   "outputs": [
    {
     "data": {
      "text/plain": [
       "array([7.51821416])"
      ]
     },
     "execution_count": 48,
     "metadata": {},
     "output_type": "execute_result"
    }
   ],
   "source": [
    "reg.coef_"
   ]
  },
  {
   "cell_type": "code",
   "execution_count": 49,
   "id": "b5540644",
   "metadata": {},
   "outputs": [
    {
     "data": {
      "text/plain": [
       "-335.1490074060419"
      ]
     },
     "execution_count": 49,
     "metadata": {},
     "output_type": "execute_result"
    }
   ],
   "source": [
    "reg.intercept_"
   ]
  },
  {
   "cell_type": "code",
   "execution_count": 50,
   "id": "8cd955c1",
   "metadata": {},
   "outputs": [
    {
     "data": {
      "text/plain": [
       "{'copy_X': True,\n",
       " 'fit_intercept': True,\n",
       " 'n_jobs': None,\n",
       " 'normalize': False,\n",
       " 'positive': False}"
      ]
     },
     "execution_count": 50,
     "metadata": {},
     "output_type": "execute_result"
    }
   ],
   "source": [
    "reg.get_params()"
   ]
  },
  {
   "cell_type": "code",
   "execution_count": 51,
   "id": "c910fe2a",
   "metadata": {},
   "outputs": [
    {
     "data": {
      "text/plain": [
       "0.5029095795982477"
      ]
     },
     "execution_count": 51,
     "metadata": {},
     "output_type": "execute_result"
    }
   ],
   "source": [
    "reg.score(X_test,y_test)"
   ]
  },
  {
   "cell_type": "markdown",
   "id": "cc383d23",
   "metadata": {},
   "source": [
    "# Apply Regression on Booston house data"
   ]
  },
  {
   "cell_type": "raw",
   "id": "9a973bd3",
   "metadata": {},
   "source": [
    "https://www.kaggle.com/datasets\n",
    "you can learn about data from above link"
   ]
  },
  {
   "cell_type": "code",
   "execution_count": 52,
   "id": "70705a10",
   "metadata": {},
   "outputs": [
    {
     "name": "stdout",
     "output_type": "stream",
     "text": [
      "(506, 13)\n"
     ]
    }
   ],
   "source": [
    "import warnings\n",
    "from sklearn.datasets import load_boston\n",
    "with warnings.catch_warnings():\n",
    "    # You should probably not use this dataset.\n",
    "    warnings.filterwarnings(\"ignore\")\n",
    "    X, y = load_boston(return_X_y=True)\n",
    "print(X.shape)"
   ]
  },
  {
   "cell_type": "code",
   "execution_count": 1,
   "id": "f0c59574",
   "metadata": {},
   "outputs": [],
   "source": [
    "import warnings\n",
    "from sklearn.datasets import load_boston\n",
    "X, y = load_boston(return_X_y=True)"
   ]
  },
  {
   "cell_type": "code",
   "execution_count": 3,
   "id": "feccef8a",
   "metadata": {},
   "outputs": [
    {
     "data": {
      "text/plain": [
       "array([6.320e-03, 1.800e+01, 2.310e+00, 0.000e+00, 5.380e-01, 6.575e+00,\n",
       "       6.520e+01, 4.090e+00, 1.000e+00, 2.960e+02, 1.530e+01, 3.969e+02,\n",
       "       4.980e+00])"
      ]
     },
     "execution_count": 3,
     "metadata": {},
     "output_type": "execute_result"
    }
   ],
   "source": [
    "X[0]"
   ]
  },
  {
   "cell_type": "code",
   "execution_count": 4,
   "id": "50e0a405",
   "metadata": {},
   "outputs": [
    {
     "data": {
      "text/plain": [
       "24.0"
      ]
     },
     "execution_count": 4,
     "metadata": {},
     "output_type": "execute_result"
    }
   ],
   "source": [
    "y[0]"
   ]
  },
  {
   "cell_type": "code",
   "execution_count": 9,
   "id": "8c1a769c",
   "metadata": {},
   "outputs": [],
   "source": [
    "from sklearn.linear_model import LinearRegression\n",
    "from sklearn.model_selection import train_test_split"
   ]
  },
  {
   "cell_type": "code",
   "execution_count": 11,
   "id": "dcdb14e7",
   "metadata": {},
   "outputs": [],
   "source": [
    "X_train, X_test, y_train, y_test = train_test_split(X, y, \n",
    "                                                    test_size=0.3,\n",
    "                                                   shuffle=False)"
   ]
  },
  {
   "cell_type": "code",
   "execution_count": 16,
   "id": "9fa26fec",
   "metadata": {},
   "outputs": [],
   "source": [
    "boston_house_m = LinearRegression().fit(**{\"X\":X_train, \"y\":y_train})"
   ]
  },
  {
   "cell_type": "code",
   "execution_count": 17,
   "id": "db1b77a8",
   "metadata": {},
   "outputs": [
    {
     "data": {
      "text/plain": [
       "-7.243407441977778"
      ]
     },
     "execution_count": 17,
     "metadata": {},
     "output_type": "execute_result"
    }
   ],
   "source": [
    "boston_house_m.score(X_test,y_test)"
   ]
  },
  {
   "cell_type": "code",
   "execution_count": 19,
   "id": "37a77ccf",
   "metadata": {},
   "outputs": [
    {
     "data": {
      "text/plain": [
       "0.8732816456576405"
      ]
     },
     "execution_count": 19,
     "metadata": {},
     "output_type": "execute_result"
    }
   ],
   "source": [
    "boston_house_m.score(X_train,y_train)"
   ]
  },
  {
   "cell_type": "code",
   "execution_count": 20,
   "id": "6950e7cd",
   "metadata": {},
   "outputs": [
    {
     "data": {
      "text/plain": [
       "array([ 1.29693856,  0.01469497,  0.04050457,  0.79060732, -9.12933243,\n",
       "        9.24839787, -0.0451214 , -0.91395374,  0.14079658, -0.01477291,\n",
       "       -0.63369567,  0.01577172, -0.09514128])"
      ]
     },
     "execution_count": 20,
     "metadata": {},
     "output_type": "execute_result"
    }
   ],
   "source": [
    "boston_house_m.coef_"
   ]
  },
  {
   "cell_type": "markdown",
   "id": "11ea4e93",
   "metadata": {},
   "source": [
    "# Normalization Technique"
   ]
  },
  {
   "cell_type": "markdown",
   "id": "88509641",
   "metadata": {},
   "source": [
    "* we have to covert each columns values in same range"
   ]
  },
  {
   "cell_type": "code",
   "execution_count": 22,
   "id": "d05dfa55",
   "metadata": {},
   "outputs": [],
   "source": [
    "import numpy as np"
   ]
  },
  {
   "cell_type": "markdown",
   "id": "fffa39d1",
   "metadata": {},
   "source": [
    "# (x-mean)/std for each column"
   ]
  },
  {
   "cell_type": "code",
   "execution_count": 23,
   "id": "6b9ec1fe",
   "metadata": {},
   "outputs": [],
   "source": [
    "data = np.array([[0.2, 20000, 90],\n",
    "                [0.9, 1000, 70],\n",
    "                [0.8, 15000, 50],\n",
    "                [0.6, 17000, 50],\n",
    "                [0.2, 13000, 35]])"
   ]
  },
  {
   "cell_type": "code",
   "execution_count": 24,
   "id": "f5a4fd91",
   "metadata": {},
   "outputs": [
    {
     "data": {
      "text/plain": [
       "array([[2.0e-01, 2.0e+04, 9.0e+01],\n",
       "       [9.0e-01, 1.0e+03, 7.0e+01],\n",
       "       [8.0e-01, 1.5e+04, 5.0e+01],\n",
       "       [6.0e-01, 1.7e+04, 5.0e+01],\n",
       "       [2.0e-01, 1.3e+04, 3.5e+01]])"
      ]
     },
     "execution_count": 24,
     "metadata": {},
     "output_type": "execute_result"
    }
   ],
   "source": [
    "data"
   ]
  },
  {
   "cell_type": "markdown",
   "id": "33b83023",
   "metadata": {},
   "source": [
    "### use library of sklearn for preprocessing"
   ]
  },
  {
   "cell_type": "code",
   "execution_count": 25,
   "id": "4b289885",
   "metadata": {},
   "outputs": [],
   "source": [
    "from sklearn import preprocessing"
   ]
  },
  {
   "cell_type": "code",
   "execution_count": 26,
   "id": "25e5bdf1",
   "metadata": {},
   "outputs": [],
   "source": [
    "scaler = preprocessing.StandardScaler().fit(data)"
   ]
  },
  {
   "cell_type": "code",
   "execution_count": 27,
   "id": "3f5126ab",
   "metadata": {},
   "outputs": [
    {
     "data": {
      "text/plain": [
       "StandardScaler()"
      ]
     },
     "execution_count": 27,
     "metadata": {},
     "output_type": "execute_result"
    }
   ],
   "source": [
    "scaler"
   ]
  },
  {
   "cell_type": "code",
   "execution_count": 28,
   "id": "10900dd3",
   "metadata": {},
   "outputs": [
    {
     "data": {
      "text/plain": [
       "array([5.40e-01, 1.32e+04, 5.90e+01])"
      ]
     },
     "execution_count": 28,
     "metadata": {},
     "output_type": "execute_result"
    }
   ],
   "source": [
    "scaler.mean_\n"
   ]
  },
  {
   "cell_type": "code",
   "execution_count": 29,
   "id": "30eb7052",
   "metadata": {},
   "outputs": [
    {
     "data": {
      "text/plain": [
       "array([2.93938769e-01, 6.52380257e+03, 1.90787840e+01])"
      ]
     },
     "execution_count": 29,
     "metadata": {},
     "output_type": "execute_result"
    }
   ],
   "source": [
    "scaler.scale_"
   ]
  },
  {
   "cell_type": "code",
   "execution_count": 30,
   "id": "f099f025",
   "metadata": {},
   "outputs": [
    {
     "data": {
      "text/plain": [
       "array([[2.0e-01, 2.0e+04, 9.0e+01],\n",
       "       [9.0e-01, 1.0e+03, 7.0e+01],\n",
       "       [8.0e-01, 1.5e+04, 5.0e+01],\n",
       "       [6.0e-01, 1.7e+04, 5.0e+01],\n",
       "       [2.0e-01, 1.3e+04, 3.5e+01]])"
      ]
     },
     "execution_count": 30,
     "metadata": {},
     "output_type": "execute_result"
    }
   ],
   "source": [
    "data"
   ]
  },
  {
   "cell_type": "code",
   "execution_count": 31,
   "id": "0c837ad8",
   "metadata": {},
   "outputs": [
    {
     "data": {
      "text/plain": [
       "20000.0"
      ]
     },
     "execution_count": 31,
     "metadata": {},
     "output_type": "execute_result"
    }
   ],
   "source": [
    "data[0][1]"
   ]
  },
  {
   "cell_type": "code",
   "execution_count": 33,
   "id": "9dbe1446",
   "metadata": {},
   "outputs": [
    {
     "data": {
      "text/plain": [
       "array([[-1.15670349,  1.04233688,  1.6248415 ],\n",
       "       [ 1.22474487, -1.87007499,  0.57655666],\n",
       "       [ 0.88453796,  0.2759127 , -0.47172818],\n",
       "       [ 0.20412415,  0.58248237, -0.47172818],\n",
       "       [-1.15670349, -0.03065697, -1.2579418 ]])"
      ]
     },
     "execution_count": 33,
     "metadata": {},
     "output_type": "execute_result"
    }
   ],
   "source": [
    "normalized_data = scaler.transform(data)\n",
    "normalized_data"
   ]
  },
  {
   "cell_type": "code",
   "execution_count": 35,
   "id": "27847bac",
   "metadata": {},
   "outputs": [
    {
     "data": {
      "text/plain": [
       "1.042336877124442"
      ]
     },
     "execution_count": 35,
     "metadata": {},
     "output_type": "execute_result"
    }
   ],
   "source": [
    "normalized_data[0][1]"
   ]
  },
  {
   "cell_type": "code",
   "execution_count": null,
   "id": "3e05b6e7",
   "metadata": {},
   "outputs": [],
   "source": []
  }
 ],
 "metadata": {
  "kernelspec": {
   "display_name": "Python 3 (ipykernel)",
   "language": "python",
   "name": "python3"
  },
  "language_info": {
   "codemirror_mode": {
    "name": "ipython",
    "version": 3
   },
   "file_extension": ".py",
   "mimetype": "text/x-python",
   "name": "python",
   "nbconvert_exporter": "python",
   "pygments_lexer": "ipython3",
   "version": "3.9.7"
  }
 },
 "nbformat": 4,
 "nbformat_minor": 5
}
