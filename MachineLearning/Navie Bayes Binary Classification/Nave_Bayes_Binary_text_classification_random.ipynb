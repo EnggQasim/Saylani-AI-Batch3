{
 "cells": [
  {
   "cell_type": "markdown",
   "id": "153ed9ab",
   "metadata": {},
   "source": [
    "# Nave Bayes Binary Text classification\n",
    "Naive Bayes is a powerful machine learning algorithm used for binary text classification. It works by calculating the probability of a given text belonging to each class, and then assigns the text to the class with the highest probability. Naive Bayes is simple, fast, and effective, and has been used extensively for text classification tasks. It is particularly useful for classifying large volumes of text due to its speed and accuracy. Naive Bayes is a great choice for binary text classification, as it is able to quickly and accurately classify texts into two categories.\n",
    "\n",
    "By:\n",
    "<h3><a href='https://www.linkedin.com/in/sirqasim/'>Muhammad Qasim</a></h3>"
   ]
  },
  {
   "cell_type": "markdown",
   "id": "f126ff6f",
   "metadata": {},
   "source": [
    "[Source Kaggle](https://www.kaggle.com/competitions/sentiment-analysis-on-movie-reviews/data)\n",
    "### classes\n",
    "* 0 - negative\n",
    "* 1 - somewhat negative\n",
    "* 2 - neutral\n",
    "* 3 - somewhat positive\n",
    "* 4 - positive"
   ]
  },
  {
   "cell_type": "code",
   "execution_count": 2,
   "id": "aa5cb97c",
   "metadata": {},
   "outputs": [],
   "source": [
    "import pandas as pd"
   ]
  },
  {
   "cell_type": "code",
   "execution_count": 3,
   "id": "d3c96670",
   "metadata": {},
   "outputs": [
    {
     "data": {
      "text/html": [
       "<div>\n",
       "<style scoped>\n",
       "    .dataframe tbody tr th:only-of-type {\n",
       "        vertical-align: middle;\n",
       "    }\n",
       "\n",
       "    .dataframe tbody tr th {\n",
       "        vertical-align: top;\n",
       "    }\n",
       "\n",
       "    .dataframe thead th {\n",
       "        text-align: right;\n",
       "    }\n",
       "</style>\n",
       "<table border=\"1\" class=\"dataframe\">\n",
       "  <thead>\n",
       "    <tr style=\"text-align: right;\">\n",
       "      <th></th>\n",
       "      <th>Phrase</th>\n",
       "      <th>Sentiment</th>\n",
       "      <th>input_data</th>\n",
       "    </tr>\n",
       "  </thead>\n",
       "  <tbody>\n",
       "    <tr>\n",
       "      <th>0</th>\n",
       "      <td>would have a hard time sitting through this one</td>\n",
       "      <td>0</td>\n",
       "      <td>['would, hard, time, sit, one, ']</td>\n",
       "    </tr>\n",
       "    <tr>\n",
       "      <th>1</th>\n",
       "      <td>have a hard time sitting through this one</td>\n",
       "      <td>0</td>\n",
       "      <td>['have, hard, time, sit, one, ']</td>\n",
       "    </tr>\n",
       "    <tr>\n",
       "      <th>2</th>\n",
       "      <td>Aggressive self-glorification and a manipulati...</td>\n",
       "      <td>0</td>\n",
       "      <td>['aggressive, self, clarification, manipulativ...</td>\n",
       "    </tr>\n",
       "    <tr>\n",
       "      <th>3</th>\n",
       "      <td>self-glorification and a manipulative whitewash</td>\n",
       "      <td>0</td>\n",
       "      <td>['self, clarification, manipulative, whitewash...</td>\n",
       "    </tr>\n",
       "    <tr>\n",
       "      <th>4</th>\n",
       "      <td>Trouble Every Day is a plodding mess .</td>\n",
       "      <td>0</td>\n",
       "      <td>['trouble, every, day, pad, mess, ., ']</td>\n",
       "    </tr>\n",
       "  </tbody>\n",
       "</table>\n",
       "</div>"
      ],
      "text/plain": [
       "                                              Phrase  Sentiment  \\\n",
       "0    would have a hard time sitting through this one          0   \n",
       "1          have a hard time sitting through this one          0   \n",
       "2  Aggressive self-glorification and a manipulati...          0   \n",
       "3    self-glorification and a manipulative whitewash          0   \n",
       "4             Trouble Every Day is a plodding mess .          0   \n",
       "\n",
       "                                          input_data  \n",
       "0                  ['would, hard, time, sit, one, ']  \n",
       "1                   ['have, hard, time, sit, one, ']  \n",
       "2  ['aggressive, self, clarification, manipulativ...  \n",
       "3  ['self, clarification, manipulative, whitewash...  \n",
       "4            ['trouble, every, day, pad, mess, ., ']  "
      ]
     },
     "execution_count": 3,
     "metadata": {},
     "output_type": "execute_result"
    }
   ],
   "source": [
    "df1 = pd.read_feather(\"https://github.com/EnggQasim/PGD_Batch2_Machine_Learning/blob/main/class14_nlp_navey_bayes_text_classification/data.feather?raw=true\")\n",
    "df1.head()"
   ]
  },
  {
   "cell_type": "code",
   "execution_count": 17,
   "id": "4ed14597",
   "metadata": {},
   "outputs": [],
   "source": [
    "import pandas as pd\n",
    "import numpy as np\n",
    "import re\n",
    "import time"
   ]
  },
  {
   "cell_type": "code",
   "execution_count": 18,
   "id": "a7430cc6",
   "metadata": {},
   "outputs": [
    {
     "data": {
      "text/html": [
       "<div>\n",
       "<style scoped>\n",
       "    .dataframe tbody tr th:only-of-type {\n",
       "        vertical-align: middle;\n",
       "    }\n",
       "\n",
       "    .dataframe tbody tr th {\n",
       "        vertical-align: top;\n",
       "    }\n",
       "\n",
       "    .dataframe thead th {\n",
       "        text-align: right;\n",
       "    }\n",
       "</style>\n",
       "<table border=\"1\" class=\"dataframe\">\n",
       "  <thead>\n",
       "    <tr style=\"text-align: right;\">\n",
       "      <th></th>\n",
       "      <th>Phrase</th>\n",
       "      <th>Sentiment</th>\n",
       "      <th>input_data</th>\n",
       "      <th>input_data1</th>\n",
       "    </tr>\n",
       "  </thead>\n",
       "  <tbody>\n",
       "    <tr>\n",
       "      <th>0</th>\n",
       "      <td>would have a hard time sitting through this one</td>\n",
       "      <td>0</td>\n",
       "      <td>['would, hard, time, sit, one, ']</td>\n",
       "      <td>'would hard time sit one '</td>\n",
       "    </tr>\n",
       "    <tr>\n",
       "      <th>1</th>\n",
       "      <td>have a hard time sitting through this one</td>\n",
       "      <td>0</td>\n",
       "      <td>['have, hard, time, sit, one, ']</td>\n",
       "      <td>'have hard time sit one '</td>\n",
       "    </tr>\n",
       "    <tr>\n",
       "      <th>2</th>\n",
       "      <td>Aggressive self-glorification and a manipulati...</td>\n",
       "      <td>0</td>\n",
       "      <td>['aggressive, self, clarification, manipulativ...</td>\n",
       "      <td>'aggressive self clarification manipulative wh...</td>\n",
       "    </tr>\n",
       "    <tr>\n",
       "      <th>3</th>\n",
       "      <td>self-glorification and a manipulative whitewash</td>\n",
       "      <td>0</td>\n",
       "      <td>['self, clarification, manipulative, whitewash...</td>\n",
       "      <td>'self clarification manipulative whitewash '</td>\n",
       "    </tr>\n",
       "    <tr>\n",
       "      <th>4</th>\n",
       "      <td>Trouble Every Day is a plodding mess .</td>\n",
       "      <td>0</td>\n",
       "      <td>['trouble, every, day, pad, mess, ., ']</td>\n",
       "      <td>'trouble every day pad mess . '</td>\n",
       "    </tr>\n",
       "  </tbody>\n",
       "</table>\n",
       "</div>"
      ],
      "text/plain": [
       "                                              Phrase  Sentiment  \\\n",
       "0    would have a hard time sitting through this one          0   \n",
       "1          have a hard time sitting through this one          0   \n",
       "2  Aggressive self-glorification and a manipulati...          0   \n",
       "3    self-glorification and a manipulative whitewash          0   \n",
       "4             Trouble Every Day is a plodding mess .          0   \n",
       "\n",
       "                                          input_data  \\\n",
       "0                  ['would, hard, time, sit, one, ']   \n",
       "1                   ['have, hard, time, sit, one, ']   \n",
       "2  ['aggressive, self, clarification, manipulativ...   \n",
       "3  ['self, clarification, manipulative, whitewash...   \n",
       "4            ['trouble, every, day, pad, mess, ., ']   \n",
       "\n",
       "                                         input_data1  \n",
       "0                         'would hard time sit one '  \n",
       "1                          'have hard time sit one '  \n",
       "2  'aggressive self clarification manipulative wh...  \n",
       "3       'self clarification manipulative whitewash '  \n",
       "4                    'trouble every day pad mess . '  "
      ]
     },
     "execution_count": 18,
     "metadata": {},
     "output_type": "execute_result"
    }
   ],
   "source": [
    "df1['input_data1'] = df1.input_data.apply(lambda x:\" \".join(x))\n",
    "df1.head()"
   ]
  },
  {
   "cell_type": "code",
   "execution_count": 19,
   "id": "b8d616aa",
   "metadata": {},
   "outputs": [
    {
     "data": {
      "text/plain": [
       "4    56.554859\n",
       "0    43.445141\n",
       "Name: Sentiment, dtype: float64"
      ]
     },
     "execution_count": 19,
     "metadata": {},
     "output_type": "execute_result"
    }
   ],
   "source": [
    "df1.Sentiment.value_counts(normalize=True)*100"
   ]
  },
  {
   "cell_type": "code",
   "execution_count": 20,
   "id": "2655fae7",
   "metadata": {},
   "outputs": [
    {
     "name": "stdout",
     "output_type": "stream",
     "text": [
      "Boths classes Number of samples:\t\t\n",
      " 4    56.554859\n",
      "0    43.445141\n",
      "Name: Sentiment, dtype: float64\n",
      "\n",
      "Boths classes ratio:\t\t\t\n",
      " 4    5.655486\n",
      "0    4.344514\n",
      "Name: Sentiment, dtype: float64\n",
      "\n",
      "Boths classes 20% sample count\n",
      " 4    1841.2\n",
      "0    1414.4\n",
      "Name: Sentiment, dtype: float64\n"
     ]
    }
   ],
   "source": [
    "print(\"Boths classes Number of samples:\\t\\t\\n\",(df1.Sentiment.value_counts(normalize=True)*100))\n",
    "print()\n",
    "print(\"Boths classes ratio:\\t\\t\\t\\n\",(df1.Sentiment.value_counts(normalize=True)*100)*10/100)\n",
    "print()\n",
    "print(\"Boths classes 20% sample count\\n\",(df1.Sentiment.value_counts())*20/100)"
   ]
  },
  {
   "cell_type": "code",
   "execution_count": 21,
   "id": "b72933dd",
   "metadata": {},
   "outputs": [
    {
     "name": "stdout",
     "output_type": "stream",
     "text": [
      "3255\n"
     ]
    },
    {
     "data": {
      "text/html": [
       "<div>\n",
       "<style scoped>\n",
       "    .dataframe tbody tr th:only-of-type {\n",
       "        vertical-align: middle;\n",
       "    }\n",
       "\n",
       "    .dataframe tbody tr th {\n",
       "        vertical-align: top;\n",
       "    }\n",
       "\n",
       "    .dataframe thead th {\n",
       "        text-align: right;\n",
       "    }\n",
       "</style>\n",
       "<table border=\"1\" class=\"dataframe\">\n",
       "  <thead>\n",
       "    <tr style=\"text-align: right;\">\n",
       "      <th></th>\n",
       "      <th>input_data1</th>\n",
       "      <th>Sentiment</th>\n",
       "    </tr>\n",
       "  </thead>\n",
       "  <tbody>\n",
       "    <tr>\n",
       "      <th>9423</th>\n",
       "      <td>'an honest , sensitive story vietnamese point ...</td>\n",
       "      <td>4</td>\n",
       "    </tr>\n",
       "  </tbody>\n",
       "</table>\n",
       "</div>"
      ],
      "text/plain": [
       "                                            input_data1  Sentiment\n",
       "9423  'an honest , sensitive story vietnamese point ...          4"
      ]
     },
     "metadata": {},
     "output_type": "display_data"
    },
    {
     "name": "stdout",
     "output_type": "stream",
     "text": [
      "13023\n"
     ]
    },
    {
     "data": {
      "text/html": [
       "<div>\n",
       "<style scoped>\n",
       "    .dataframe tbody tr th:only-of-type {\n",
       "        vertical-align: middle;\n",
       "    }\n",
       "\n",
       "    .dataframe tbody tr th {\n",
       "        vertical-align: top;\n",
       "    }\n",
       "\n",
       "    .dataframe thead th {\n",
       "        text-align: right;\n",
       "    }\n",
       "</style>\n",
       "<table border=\"1\" class=\"dataframe\">\n",
       "  <thead>\n",
       "    <tr style=\"text-align: right;\">\n",
       "      <th></th>\n",
       "      <th>input_data1</th>\n",
       "      <th>Sentiment</th>\n",
       "    </tr>\n",
       "  </thead>\n",
       "  <tbody>\n",
       "    <tr>\n",
       "      <th>1</th>\n",
       "      <td>'have hard time sit one '</td>\n",
       "      <td>0</td>\n",
       "    </tr>\n",
       "  </tbody>\n",
       "</table>\n",
       "</div>"
      ],
      "text/plain": [
       "                 input_data1  Sentiment\n",
       "1  'have hard time sit one '          0"
      ]
     },
     "metadata": {},
     "output_type": "display_data"
    }
   ],
   "source": [
    "test = pd.concat([df1[df1.Sentiment==4].sample(1841),\n",
    "                    df1[df1.Sentiment==0].sample(1414)])[[\"input_data1\",\"Sentiment\"]]\n",
    "print(len(test))\n",
    "display(test.head(1))\n",
    "\n",
    "train = df1.loc[~df1.index.isin(test.index.values)][[\"input_data1\",\"Sentiment\"]]\n",
    "print(len(train))\n",
    "display(train.head(1))"
   ]
  },
  {
   "cell_type": "code",
   "execution_count": 22,
   "id": "c7366723",
   "metadata": {
    "scrolled": true
   },
   "outputs": [
    {
     "name": "stdout",
     "output_type": "stream",
     "text": [
      "                                         input_data1\n",
      "0                         'would hard time sit one '\n",
      "1                          'have hard time sit one '\n",
      "2  'aggressive self clarification manipulative wh...\n",
      "3       'self clarification manipulative whitewash '\n",
      "4                    'trouble every day pad mess . '\n"
     ]
    }
   ],
   "source": [
    "X = df1[[\"input_data1\"]]# all Data for corpus\n",
    "print(X.head())"
   ]
  },
  {
   "cell_type": "code",
   "execution_count": 55,
   "id": "70e19d01",
   "metadata": {
    "scrolled": true
   },
   "outputs": [
    {
     "name": "stdout",
     "output_type": "stream",
     "text": [
      "{'would': 8436, 'hard': 3468, 'time': 7667, 'sit': 6864, 'one': 5239, 'have': 3501, 'aggressive': 260, 'self': 6651, 'clarification': 1320, 'manipulative': 4602, 'whitewash': 8327, 'trouble': 7823, 'every': 2621, 'day': 1852, 'pad': 5375, 'mess': 4759, 'is': 4071, 'padding': 5376, 'could': 1664, 'hate': 3496, 'reason': 6080, 'oedekerk': 5208, 'realization': 6076, 'childhood': 1261, 'dream': 2274, 'martial': 4646, 'arts': 504, 'flick': 2969, 'prove': 5907, 'sometimes': 7000, 'youth': 8484, 'remain': 6188, 'baseball': 687, 'movies': 4947, 'try': 7834, 'mythic': 4995, 'hampered': 3444, 'paralyze': 5416, 'insurgent': 3981, 'script': 6607, 'aim': 272, 'poetry': 5679, 'end': 2475, 'sound': 7029, 'like': 4401, 'satire': 6524, 'little': 4443, 'sense': 6666, 'go': 3273, 'avoid': 602, 'almost': 314, 'feel': 2852, 'movie': 4940, 'interest': 4001, 'entertain': 2526, 'amuse': 361, 'us': 8052, 'progression': 5877, 'ramble': 6019, 'coherence': 1401, 'give': 3247, 'new': 5083, 'mean': 4697, 'phrase': 5583, 'fatal': 2819, 'error': 2572, 'tartakovsky': 7498, 'team': 7516, 'freak': 3079, 'power': 5756, 'visual': 8169, 'charm': 1227, 'five': 2937, 'writers': 8450, 'slip': 6923, 'modern': 4862, 'rut': 6474, 'narrative': 5017, 'fatality': 2820, 'of': 5209, 'bad': 633, 'sure': 7384, 'filmmaker': 2906, 'disagree': 2101, 'honestly': 3636, 'see': 6635, 'point': 5681, 'clunky': 1385, 'tv': 7856, 'approach': 452, 'thanks': 7584, 'largely': 4293, 'williams': 8354, 'developments': 2040, 'process': 5856, '60': 73, 'minutes': 4816, 'rest': 6272, 'overexpose': 5330, 'waste': 8238, 'film': 2903, 'the': 7587, 'an': 365, 'comes': 1440, 'across': 162, 'relic': 6180, 'era': 2565, 'convolutions': 1631, 'silly': 6832, 'rather': 6051, 'plausible': 5638, 'as': 508, 'run': 6461, 'live': 4445, 'makes': 4574, 'teeth': 7535, 'hurt': 3712, 'its': 4085, 'generic': 3202, 'villains': 8147, 'lack': 4263, 'intrigue': 4023, 'lrb': 4515, 'funny': 3139, 'accent': 128, 'rr': 6444, 'action': 165, 'scenes': 6555, 'poorly': 5706, 'deliver': 1940, 'downright': 2245, 'transparent': 7773, 'endless': 2480, 'assault': 525, 'embarrass': 2434, 'ham': 3441, 'list': 4432, 'sex': 6723, 'joke': 4136, 'week': 8280, 'rewrite': 6318, 'design': 2004, 'garner': 3178, 'cooler': 1636, 'pg': 5562, '13': 16, 'rat': 6047, 'embarrassing': 2435, 'impossible': 3800, 'goes': 3283, 'overboard': 5327, 'loon': 4478, 'melodramatic': 4730, 'denouement': 1963, 'high': 3569, 'school': 6570, 'swim': 7429, 'pool': 5704, 'substitute': 7317, 'bathtub': 701, 'directed': 2089, 'barely': 671, 'lazy': 4322, 'solve': 6991, 'problem': 5850, 'distract': 2179, 'solution': 6989, 'another': 405, 'music': 4975, 'comic': 1443, 'antic': 411, 'perverse': 5553, 'pleasure': 5654, 'watch': 8243, 'disney': 2151, 'scrape': 6594, 'bottom': 905, 'cracker': 1694, 'barrel': 680, 'scarcely': 6546, 'worth': 8432, 'mention': 4747, 'apart': 425, 'report': 6227, 'number': 5170, 'tumbleweeds': 7842, 'blow': 846, 'empty': 2465, 'theatres': 7591, 'grace': 3318, 'company': 1467, 'on': 5237, 'analyze': 370, 'class': 1325, 'contrive': 1606, 'sequels': 6685, 'fail': 2767, 'make': 4571, 'second': 6626, 'guess': 3399, 'affection': 233, 'original': 5287, 'those': 7627, 'that': 7586, 'fails': 2770, 'particularly': 5440, 'good': 3295, 'comedy': 1439, 'equivalent': 2563, 'adam': 181, 'hussain': 3714, 'ready': 6068, 'ask': 516, 'permission': 5534, 'preemptive': 5785, 'strike': 7257, 'consistently': 1567, 'imaginative': 3767, 'probably': 5846, 'way': 8252, 'save': 6533, 'aid': 270, 'wisecrack': 8376, 'mystery': 4992, 'science': 6577, 'theater': 7588, '3000': 58, 'guy': 3417, 'mawkish': 4682, 'parody': 5433, 'play': 5639, 'weird': 8287, 'masterpiece': 4664, 'sketch': 6876, 'neither': 5067, 'view': 8136, 'compel': 1474, 'take': 7471, 'character': 1211, 'believe': 743, 'put': 5962, 'battle': 703, 'will': 8352, 'care': 1122, 'then': 7598, 'knock': 4232, 'enjoy': 2506, 'big': 784, 'screen': 6597, 'postcard': 5742, 'glorify': 3265, 'martin': 4647, 'lawrence': 4315, 'lovefest': 4503, 'whole': 8330, 'sneaky': 6960, 'director': 2094, 'due': 2308, 'viewer': 8137, 'important': 3798, 'simply': 6843, 'ugly': 7872, 'look': 4474, 'hollywood': 3621, 'product': 5862, 'this': 7622, 'to': 7688, 'trying': 7835, 'bogged': 865, 'earnest': 2345, 'dramaturgy': 2264, 'cheap': 1234, 'violent': 8153, 'vulgar': 8195, 'forgettably': 3034, 'at': 549, 'expense': 2697, 'pay': 5484, 'say': 6536, 'might': 4788, 'beyond': 777, 'comprehension': 1500, 'even': 2610, 'still': 7213, 'poor': 5705, 'edit': 2376, 'bluescreen': 848, 'ultra': 7877, 'cheese': 1244, 'dialogue': 2052, 'highlight': 3572, 'radical': 6006, 'completely': 1484, 'miss': 4840, 'emotions': 2451, 'failing': 2769, 'ultimately': 7876, 'scientific': 6578, 'law': 4313, 'disperse': 2157, 'producers': 5861, 'well': 8291, 'heed': 3532, 'mediocre': 4716, 'start': 7164, 'drag': 2253, 'soon': 7011, 'speed': 7065, 'explosions': 2715, 'fall': 2780, 'piece': 5596, 'stale': 7143, 'inspire': 3962, 'and': 376, 'inspired': 3963, 'wear': 8262, 'welcome': 8289, 'title': 7686, 'force': 3015, 'scratch': 6595, 'hole': 3614, 'head': 3508, 'you': 8478, 'convoluted': 1630, 'violence': 8152, 'has': 3490, 'exist': 2680, 'employ': 2460, 'kid': 4203, 'people': 5510, 'owe': 5361, 'favor': 2828, 'famous': 2792, 'parent': 5424, 'nothing': 5151, 'amicable': 350, 'focus': 2992, 'bagatelle': 638, 'loosely': 4481, 'connect': 1550, 'string': 7261, 'act': 163, 'workshop': 8423, 'exercise': 2673, 'focused': 2993, 'dull': 2311, 'starts': 7167, 'spiral': 7084, 'downward': 2248, 'thus': 7655, 'utterly': 8064, 'incompetent': 3838, 'conclusion': 1521, 'spirals': 7085, 'with': 8383, 'horrendously': 3654, 'amateurs': 336, 'filmmaking': 2908, 'plainly': 5629, 'visually': 8171, 'incomprehensible': 3839, 'awkwardly': 617, 'magic': 4556, 'realism': 6071, 'great': 3355, 'deal': 1865, 'corn': 1646, 'preposterous': 5796, 'moments': 4873, 'reach': 6059, 'several': 6716, 'old': 5228, 'theme': 7597, 'cap': 1101, 'pointless': 5682, 'extremes': 2739, 'instantly': 3969, 'graphic': 3342, 'capped': 1107, 'be': 705, 'disappoint': 2103, 'never': 5080, 'dramatic': 2260, 'things': 7613, 'happen': 3460, 'generates': 3199, 'plot': 5662, 'degree': 1921, 'randomness': 6025, 'usually': 8059, 'achieve': 151, 'lottery': 4496, 'draw': 2266, 'can': 1086, 'press': 5808, 'life': 4389, 'slug': 6932, 'satisfaction': 6526, 'composite': 1497, 'pretentiousness': 5813, 'it': 4079, 'depress': 1982, 'ruthless': 6475, 'gain': 3163, 'deprive': 1985, 'star': 7161, 'open': 5249, 'wind': 8361, 'depressing': 1983, 'deprived': 1986, 'instead': 3970, 'opt': 5266, 'routine': 6439, 'slasher': 6905, 'fun': 3131, 've': 8092, 'nice': 5091, 'screenwriters': 6602, 'trust': 7831, 'audiences': 575, 'understand': 7932, 'complex': 1487, 'story': 7233, 'leave': 4340, 'predictable': 5782, 'superfluous': 7371, 'sequel': 6684, 'plague': 5627, 'familiar': 2787, 'let': 4368, 'get': 3226, 'thing': 7612, 'everyone': 2624, 'show': 6793, 'appoint': 448, 'place': 5624, 'anti': 410, 'feminist': 2864, 'equation': 2559, 'career': 1124, 'misery': 4831, 'tiresome': 7681, 'romantic': 6411, 'dude': 2306, 'blend': 827, 'override': 5344, 'episode': 2553, 'dawson': 1851, 'creek': 1729, 'recycle': 6112, 'dub': 2302, 'version': 8111, 'love': 4500, 'cover': 1685, 'huge': 3683, 'heavy': 3528, 'topics': 7714, 'bland': 817, 'surface': 7389, 'offer': 5215, 'insight': 3949, 'instance': 3968, 'improve': 3811, 'upon': 8037, 'experience': 2699, 'blank': 818, 'difficult': 2070, 'imagine': 3768, 'confuse': 1544, 'less': 4364, 'sloppy': 6928, 'possibly': 5739, 'come': 1435, 'road': 6378, '2002': 46, 'more': 4906, 'lackadaisical': 4264, 'mindless': 4806, 'plotting': 5665, 'all': 300, 'benjamin': 761, 'evoke': 2632, 'tier': 7661, 'blaxploitation': 822, 'flickr': 2970, '1970s': 35, 'evokes': 2633, 'ah': 267, 'yes': 8470, 'fight': 2893, 'urge': 8046, 'do': 2197, 'thoughtless': 7632, 'random': 6024, 'superficial': 7369, 'humour': 3704, 'lot': 4493, 'spouse': 7111, 'feels': 2854, 'strangely': 7243, 'hollow': 3619, 'emotional': 2449, 'core': 1645, 'commercials': 1454, 'squeeze': 7126, 'whatever': 8307, 'idealism': 3736, 'american': 348, 'moviemaking': 4946, 'ever': 2617, 'when': 8310, 'black': 809, 'white': 8326, 'unrealistic': 8005, 'camouflage': 1081, 'carve': 1142, 'consider': 1561, 'paper': 5408, 'bag': 637, 'public': 5931, 'recognize': 6099, 'man': 4588, 'bill': 789, 'unsuspecting': 8026, 'moviegoers': 4942, 'bites': 803, 'chew': 1253, 'link': 4422, 'massacre': 4659, 'bogus': 867, 'become': 718, 'apparent': 436, 'franchise': 3070, 'best': 767, 'years': 8467, 'long': 4470, 'past': 5456, 'small': 6937, 'easily': 2354, 'overshadow': 5347, 'predictability': 5781, 'flat': 2950, 'fake': 2779, 'esters': 2589, 'dungpile': 2318, 'swear': 7419, 'monkey': 4877, 'cling': 1359, 'feces': 2849, 'just': 4177, 'such': 7334, 'were': 8296, 'clinging': 1360, 'their': 7593, 'in': 3820, 'addition': 190, 'overlook': 5338, 'direction': 2090, 'actors': 172, 'back': 624, 'row': 6442, 'horrible': 3655, 'sounds': 7030, 'vile': 8143, 'incoherent': 3837, 'dummy': 2315, 'runoff': 6464, 'david': 1847, 'cronenberg': 1752, 'brilliant': 964, 'videodrome': 8130, 'smart': 6939, 'kinda': 4214, 'dumb': 2313, 'blade': 811, 'ii': 3752, 'cut': 1801, 'arch': 461, 'cold': 1407, 'blood': 841, 'thinly': 7617, 'conceive': 1509, 'emphasis': 2454, 'britney': 971, 'spear': 7052, 'first': 2930, 'dreamy': 2278, 'ca': 1053, 'generate': 3198, 'enough': 2516, 'heat': 3525, 'vacuum': 8067, 'reaction': 6063, 'filmmakers': 2907, 'ivan': 4087, 'prince': 5832, 'fellow': 2859, 'shallow': 6738, 'lib': 4380, 'though': 7628, 'spirit': 7086, 'indication': 3860, 'responsible': 6271, 'together': 7692, 'particular': 5439, 'value': 8076, 'merit': 4754, 'allen': 305, 'rifle': 6345, 'his': 3586, 'air': 277, 'business': 1038, 'deserve': 2000, 'right': 6347, 'most': 4916, 'pass': 5446, 'mysteries': 4990, 'passes': 5450, 'for': 3012, 'uneven': 7945, 'performances': 5524, 'sport': 7107, 'irritate': 4068, 'soul': 7025, 'search': 6619, 'garbage': 3173, 'irritating': 4070, 'comparison': 1469, 'earlier': 2341, 'seem': 6638, 'thin': 7611, 'slice': 6915, 'lower': 4510, 'london': 4467, 'despite': 2015, 'amount': 357, 'surprisingly': 7394, 'seems': 6641, 'disappointing': 2104, 'appear': 440, 'idea': 3734, 'logic': 4464, 'cohesion': 1403, 'entirely': 2540, 'foreign': 3024, 'concept': 1512, 'appears': 442, 'made': 4550, 'dreadful': 2272, 'better': 772, 'celebration': 1173, 'unfairly': 7950, 'dismiss': 2148, 'heroes': 3552, 'painfully': 5387, 'false': 2785, 'fabricate': 2747, 'relative': 6168, 'meltdown': 4732, 'monumental': 4892, 'achievement': 152, 'practically': 5761, 'facet': 2754, 'inept': 3884, 'coxless': 1691, 'idiotic': 3746, 'annoy': 400, 'hand': 3446, 'atrocious': 556, 'often': 5222, 'creepy': 1732, 'annoying': 402, 'highly': 3574, 'praise': 5763, 'disappointment': 2105, 'misfortune': 4833, 'quite': 5990, 'remember': 6195, 'thrillers': 7641, 'actually': 177, 'thrill': 7639, 'fundamentally': 3133, 'conventional': 1614, 'level': 4373, 'accurate': 147, 'call': 1069, 'abhorrent': 105, 'hell': 3540, 'purports': 5954, 'kind': 4213, 'target': 7495, 'something': 6999, 'sophisticate': 7014, 'stupid': 7292, 'infantile': 3893, 'redundant': 6126, 'top': 7711, 'over': 5324, 'absolutely': 117, 'possibilities': 5736, 'situation': 6869, 'gag': 3160, 'prom': 5885, 'date': 1843, 'avoids': 603, 'expectation': 2694, 'laughter': 4310, 'quash': 5974, 'obscenity': 5184, 'funniest': 3138, 'trick': 7803, 'book': 887, 'outrage': 5314, 'bunch': 1018, 'around': 483, 'terribly': 7564, 'ill': 3754, 'expensive': 2698, 'project': 5878, 'talented': 7478, 'thesis': 7606, 'sum': 7356, 'offensive': 5214, 'pitifully': 5620, 'real': 6070, 'laugh': 4305, 'everybody': 2622, 'else': 2426, 'background': 627, 'manufacture': 4612, 'artificial': 495, 'katie': 4186, 'lee': 4344, 'afford': 239, 'directors': 2096, 'sadly': 6486, 'ego': 2394, 'always': 329, 'talent': 7477, 'trash': 7779, 'loses': 4488, 'humor': 3701, 'vat': 8091, 'twitch': 7865, 'general': 3195, 'boorishness': 890, 'failed': 2768, 'winds': 8363, 'tear': 7517, 'quicksand': 5983, 'final': 2912, 'effect': 2385, 'two': 7866, 'yell': 8468, 'face': 2752, 'hours': 3674, 'having': 3502, 'assembled': 528, 'clinch': 1357, 'pabulum': 5367, '95': 95, 'minute': 4815, 'commercial': 1453, 'nba': 5042, 'properties': 5897, 'plays': 5647, 'ambitious': 344, 'serious': 6691, 'manage': 4589, 'virtually': 8156, 'everything': 2625, 'wrong': 8452, 'akin': 281, 'cinematic': 1300, 'penance': 5505, 'manages': 4591, 'sitting': 6868, 'anyone': 421, 'suffer': 7341, 'least': 4337, 'box': 918, 'consolation': 1568, 'candy': 1093, 'walked': 8206, 'away': 610, 'total': 7725, 'push': 5959, 'drama': 2258, 'case': 1144, 'human': 3687, 'possible': 5738, 'create': 1712, 'sweet': 7422, 'believable': 742, 'defeat': 1906, 'screenplay': 6599, 'bizarre': 808, 'implausible': 3792, 'behavior': 734, 'are': 467, 'forces': 3019, 'overplay': 5340, 'exaggerate': 2637, 'subtlety': 7320, 'trademark': 7746, 'both': 903, 'overplayed': 5341, 'double': 2237, 'rip': 6360, 'frustrate': 3116, 'refuse': 6142, 'pinochet': 5607, 'crimes': 1739, 'political': 5690, 'context': 1593, 'nightmare': 5103, 'incessant': 3830, 'use': 8053, 'obvious': 5193, 'obnoxious': 5182, 'didactic': 2062, 'burlesque': 1028, 'scruffy': 6610, 'sand': 6511, 'titular': 7687, 'community': 1464, 'young': 8479, 'cute': 1802, 'ensue': 2520, 'complications': 1491, 'message': 4760, 'blatant': 821, 'resolutions': 6258, 'convenient': 1612, 'characteristically': 1214, 'engage': 2493, 'african': 244, 'americans': 349, 'broad': 973, 'racial': 5999, 'insensitivity': 3945, 'towards': 7738, 'begins': 730, 'seven': 6712, 'extremely': 2738, 'unpleasant': 8001, 'pile': 5599, 'useless': 8055, 'mtv': 4953, 'schmucks': 6567, 'know': 4234, 'tell': 7542, 'four': 3056, 'sara': 6520, 'superman': 7375, 'stop': 7227, 'drop': 2289, 'pant': 5405, 'last': 4298, 'provoke': 5915, 're': 6057, 'think': 7614, 'present': 5800, 'standards': 7152, 'allow': 307, 'plenty': 5657, 'nudity': 5168, 'overproduce': 5343, 'deck': 1895, 'shock': 6773, 'unnecessary': 7996, 'shocking': 6774, 'flawed': 2960, 'compromise': 1502, 'sad': 6483, 'throw': 7648, 'summer': 7358, 'camp': 1082, 'hastily': 3493, 'write': 8448, 'underrehearsed': 7929, 'arbitrarily': 457, 'fill': 2898, 'crude': 1763, 'innuendo': 3936, 'but': 1042, 'essence': 2580, 'promise': 5886, 'soar': 6969, 'material': 4673, 'realm': 6079, 'opposite': 5260, 'truly': 7828, 'magical': 4557, 'hamstring': 3445, 'badly': 634, 'handle': 3450, 'really': 6078, 'tech': 7520, 'tax': 7508, 'transform': 7767, 'wearer': 8264, 'generalities': 3196, 'unfortunately': 7962, 'rudeness': 6451, 'worse': 8430, 'ensemble': 2519, 'cast': 1147, 'vincent': 8150, 'nebrida': 5049, 'unless': 7985, 'maurice': 4681, 'grille': 3371, 'which': 8315, 'by': 1050, 'goldmember': 3289, 'none': 5126, 'wit': 8381, 'previous': 5820, 'picture': 5594, 'jay': 4110, 'roach': 6377, 'direct': 2088, 'taxicab': 7510, 'nausea': 5035, 'convince': 1625, 'annie': 399, 'musclefest': 4974, 'much': 4955, 'resonance': 6259, 'world': 8425, 'events': 2614, 'insult': 3978, 'simplistic': 6842, 'unbelievable': 7893, 'suck': 7335, 'sucks': 7338, 'done': 2220, 'death': 1871, 'after': 245, 'tedious': 7528, 'classroom': 1332, 'college': 1419, 'history': 3591, 'course': 1679, 'becomes': 719, 'anne': 397, 'rice': 6330, 'novel': 5159, 'base': 686, 'queen': 5976, 'damn': 1821, 'meander': 4698, 'goth': 3311, 'vampire': 8077, 'torture': 7722, 'woe': 8396, 'lifestyle': 4391, 'tortured': 7723, 'boring': 899, 'hear': 3516, 'mysterious': 4991, 'voice': 8180, 'felt': 2861, 'powerfully': 5758, 'toward': 7737, 'light': 4396, 'exit': 2686, 'sign': 6820, 'thought': 7629, 'myself': 4989, 'drawn': 2269, 'wrecked': 8444, 'seriously': 6692, 'frustration': 3118, 'exceptional': 2653, 'excruciate': 2663, '86': 86, 'excruciating': 2664, 'involve': 4048, 'dentist': 1965, 'drill': 2282, 'so': 6966, 'fumble': 3129, 'wonder': 8401, 'unpaid': 7999, 'intern': 4010, 'type': 7868, 'chris': 1284, 'rock': 6393, 'anthony': 408, 'hopkins': 3652, 'terrorists': 7572, 'univ': 7979, 'machine': 4543, 'unlikable': 7986, 'next': 5090, 'hot': 3665, 'overly': 5339, 'saw': 6535, 'want': 8222, 'protagonist': 5901, 'undermine': 7925, 'reality': 6075, 'stirling': 7221, 'creator': 1721, 'limbs': 4408, 'along': 316, 'squire': 7127, 'induce': 3875, 'fish': 2931, 'water': 8247, 'formula': 3043, 'nowhere': 5162, 'slowly': 6931, 'mechanical': 4709, 'whose': 8335, 'purpose': 5955, 'market': 4635, 'charismatic': 1223, 'jackie': 4093, 'chan': 1203, 'younger': 8480, 'chalk': 1198, 'worst': 8431, 'heuristic': 3557, 'folly': 3002, 'up': 8031, 'hotmail': 3667, 'boot': 892, 'natalie': 5022, 'rabbit': 5995, 'gentle': 3213, 'enter': 2522, '1975': 36, 'children': 1264, 'serve': 6697, 'hack': 3421, 'examination': 2639, 'grief': 3368, 'impact': 3783, 'relationships': 6167, 'survivors': 7404, 'insulting': 3979, 'tire': 7678, 'retreat': 6288, 'copy': 1641, 'begin': 729, 'pick': 5589, 'lint': 4424, 'borg': 898, 'alice': 293, 'cape': 1104, 'leader': 4324, 'clearly': 1343, 'define': 1912, 'crematorium': 1733, 'chimney': 1269, 'fire': 2925, 'stack': 7131, 'dead': 1861, 'body': 862, 'stage': 7134, 'offers': 5217, 'premise': 5792, 'con': 1506, 'artist': 497, 'liar': 4379, 'maybe': 4686, '88': 88, 'confine': 1535, 'slo': 6925, 'mo': 4853, 'gun': 3409, 'glass': 3255, 'shatter': 6749, 'claim': 1314, 'express': 2720, 'warmth': 8228, 'shaman': 6740, 'screenwriter': 6601, 'karen': 4184, 'hansen': 3458, 'jungle': 4172, 'series': 6690, 'bible': 781, 'parable': 5411, 'actual': 176, 'terrible': 7563, 'regard': 6145, 'painful': 5386, 'why': 8336, 'spend': 7070, 'stuff': 7284, 'buck': 1002, 'grease': 3354, 'videogame': 8131, 'pit': 5616, 'lobby': 4453, 'ver': 8103, 'desperate': 2011, 'attempt': 560, 'lose': 4485, 'critical': 1746, 'jim': 4128, 'dimensional': 2080, 'word': 8413, 'ladder': 4268, 'wedding': 8277, 'bite': 802, 'anachronistic': 367, 'other': 5296, 'fling': 2975, 'bore': 896, 'audience': 574, 'talk': 7481, 'talked': 7482, 'rarely': 6042, 'aggressively': 261, 'erotic': 2570, 'alienate': 295, 'mainstream': 4565, 'ring': 6357, 'harden': 3469, 'indie': 3863, 'petty': 5561, 'thieve': 7610, 'flimsy': 2974, 'behind': 736, 'bar': 664, 'puts': 5963, 'nearly': 5046, 'doa': 2198, 'too': 7707, 'longer': 4471, 'balance': 643, 'struggle': 7273, 'meaningful': 4700, 'historical': 3589, 'lacks': 4267, 'stereotype': 7194, 'woo': 8407, 'instincts': 3972, 'moral': 4899, 'dilemma': 2076, 'heart': 3517, 'contrived': 1607, 'voter': 8189, 'require': 6243, 'patience': 5469, 'job': 4129, 'interminable': 4007, 'shameless': 6742, 'documentary': 2204, 'swing': 7435, 'subculture': 7301, 'george': 3221, 'orwell': 5293, 'turn': 7850, 'unrepentantly': 8012, 'pretend': 5811, 'score': 6587, '120': 12, 'notice': 5152, 'flaw': 2959, 'definitely': 1913, 'matter': 4677, 'fan': 2794, 'handler': 3451, 'taste': 7502, 'may': 4685, 'find': 2915, 'uninteresting': 7973, 'crew': 1735, 'pact': 5374, 'burn': 1029, 'negative': 5059, 'altogether': 328, 'brownish': 989, 'triangles': 7801, 'depth': 1987, 'complexity': 1489, 'zeal': 8487, 'arc': 459, 'holocaust': 3624, 'escape': 2574, 'minaj': 4804, 'drain': 2257, 'individuality': 3871, 'scream': 6596, 'low': 4508, 'budget': 1006, 'muddle': 4957, 'limp': 4414, 'biscuit': 800, 'soap': 6968, 'opera': 5252, 'term': 7560, 'achieves': 154, 'remarkable': 6192, 'feat': 2843, 'squander': 7122, 'topnotch': 7716, 'fearsome': 2841, 'proceed': 5855, 'flop': 2980, 'runs': 6465, 'steam': 7182, 'half': 3432, 'hour': 3673, 'beer': 725, 'performers': 5525, 'motion': 4920, 'static': 7171, 'acceptable': 130, 'teen': 7529, 'entertainment': 2529, 'same': 6503, 'kitschy': 4225, 'flashy': 2949, 'overline': 5336, 'develop': 2036, 'caricature': 1129, 'buffoons': 1008, 'executable': 2667, 'attractive': 569, 'unacceptable': 7884, 'patchwork': 5462, 'uneasy': 7942, 'marriage': 4641, 'louis': 4498, 'medley': 4721, 'source': 7033, 'schmidt': 6566, 'payne': 5487, 'frustrating': 3117, 'year': 8465, 'late': 4299, 'tap': 7491, 'obsession': 5190, 'exploit': 2707, 'novelty': 5161, 'webcast': 8273, 'tapping': 7493, 'been': 724, 'hold': 3611, 'hostage': 3664, 'seek': 6637, 'remake': 6190, 'sleepers': 6911, 'seattle': 6625, 'payoff': 5488, 'messy': 4763, 'murky': 4971, 'satisfy': 6528, 'satisfying': 6529, 'intelligence': 3989, 'gay': 3185, 'grossly': 3386, 'underestimate': 7919, 'meat': 4708, 'sacrifice': 6482, 'skin': 6884, 'flash': 2947, 'file': 2897, 'three': 7638, '30': 56, '90': 90, 'took': 7708, 'turned': 7851, 'into': 4019, 'interminably': 4008, 'bleak': 825, 'unite': 7976, 'state': 7169, 'slack': 6895, 'complacency': 1481, 'drown': 2293, 'tiny': 7675, 'righteousness': 6349, 'capable': 1102, 'chemistry': 1249, 'lopez': 4482, 'male': 4580, 'lead': 4323, 'ralph': 6017, 'tienne': 7660, 'plus': 5672, 'work': 8415, 'girl': 3244, 'scribe': 6606, 'kevin': 4199, 'wade': 8201, 'workmanlike': 8419, 'extreme': 2737, 'lax': 4317, 'sitcomishly': 6866, 'close': 1370, 'strong': 7266, 'pulse': 5939, 'war': 8223, 'roses': 6426, 'trailer': 7757, 'style': 7294, 'fifty': 2892, 'car': 1116, 'lineup': 4419, 'pitiful': 5619, 'slapdash': 6900, 'disaster': 2107, 'thriller': 7640, 'either': 2402, 'win': 8360, 'adequate': 193, 'money': 4876, 'television': 7541, 'free': 3083, 'standard': 7151, 'issue': 4078, 'crime': 1738, 'spat': 7048, 'tinseltown': 7674, 'assembly': 529, 'line': 4416, 'abandon': 99, 'reject': 6161, 'credible': 1726, 'account': 144, 'puzzle': 5964, 'no': 5109, 'intentions': 3998, 'able': 109, 'overcome': 5328, 'trivially': 7816, 'distaste': 2170, 'distances': 2168, 'many': 4613, 'red': 6113, 'scar': 6545, 'genuine': 3216, 'ones': 5240, 'register': 6151, 'skip': 6887, 'lots': 4495, 'effort': 2391, 'display': 2159, 'execution': 2670, 'awkward': 616, 'lifeless': 4390, 'rule': 6458, 'cellulose': 1180, 'test': 7573, 'intellectual': 3987, 'pedigree': 5499, 'giant': 3236, 'step': 7188, 'backward': 632, 'admire': 199, 'some': 6993, 'banter': 663, 'loose': 4480, 'set': 6705, 'pathetically': 5466, 'compare': 1468, 'note': 5149, 'bud': 1004, 'amour': 358, 'uncomfortable': 7902, 'suffocate': 7343, 'senseless': 6667, 'grey': 3367, 'zone': 8497, 'center': 1183, 'morbid': 4903, 'suffocating': 7344, 'lousy': 4499, 'john': 4132, 'devoid': 2045, 'sexuality': 6726, 'hedonistic': 3531, 'contrast': 1602, 'collateral': 1414, 'damage': 1818, 'earn': 2343, 'extra': 2733, 'skinny': 6885, 'dip': 2084, 'jerry': 4122, 'bruckheimer': 992, 'curid': 1789, 'pond': 5699, 'saddle': 6484, 'video': 8129, 'store': 7230, 'bile': 788, 'sanctimonious': 6509, 'righteous': 6348, 'eager': 2337, 'slap': 6899, 'threadbare': 7636, 'perhaps': 5528, 'effective': 2386, 'atmosphere': 553, 'dust': 2323, 'naked': 5004, 'stagnation': 7139, 'laborer': 4257, 'fertility': 2871, 'finally': 2914, 'succeed': 7325, 'diminish': 2081, 'stature': 7173, 'oscar': 5294, 'master': 4661, 'lowly': 4512, 'studio': 7280, 'succeeds': 7327, 'diminishing': 2082, 'horror': 3659, 'propaganda': 5893, 'expect': 2693, 'heap': 3515, 'slight': 6920, 'age': 251, 'tale': 7476, 'easy': 2358, 'worthless': 8433, 'drowns': 2295, 'sap': 6519, 'without': 8388, 'tom': 7698, 'dey': 2048, 'splice': 7098, 'bits': 804, 'midnight': 4785, '48': 64, 'shrew': 6803, 'dim': 2077, 'witted': 8390, 'pair': 5391, 'speak': 7050, 'animal': 388, 'gibberish': 3237, 'emerge': 2444, 'hilarious': 3577, 'legacy': 4347, 'woody': 8411, 'mel': 4726, 'brook': 981, '70s': 77, 'heyday': 3560, 'lame': 4276, 'sophomore': 7017, 'debut': 1877, 'feature': 2846, 'comedic': 1437, 'moment': 4872, 'incredibly': 3848, 'thoroughly': 7626, 'various': 8088, 'embody': 2439, 'excesses': 2656, 'nouvelle': 5158, 'vague': 8068, 'energy': 2491, 'undo': 7940, 'mostly': 4917, 'weak': 8257, 'support': 7379, 'epic': 2548, 'treatment': 7789, 'short': 6783, 'indulge': 3877, 'elements': 2416, 'true': 7826, 'men': 4742, 'allegedly': 302, 'runner': 6463, 'deeply': 1905, 'enact': 2467, 'cobble': 1393, 'onscreen': 5244, 'conundrum': 1611, 'illness': 3756, 'inconsistent': 3844, 'margaret': 4620, 'happy': 3464, 'resemble': 6249, 'el': 2403, 'margaritas': 4621, 'within': 8387, 'tries': 7805, 'touch': 7728, 'abuse': 125, 'peer': 5501, 'cage': 1059, 'replace': 6224, 'swallow': 7414, 'my': 4986, 'minority': 4813, 'stick': 7204, 'ordinances': 5279, 'protect': 5903, 'fullest': 3127, 'fiction': 2881, 'zoning': 8498, 'from': 3111, 'fulfilling': 3124, 'sopranos': 7018, 'also': 319, 'demonstrate': 1956, 'makers': 4573, 'cash': 1145, 'dated': 1844, 'disguise': 2130, '71': 78, 'del': 1925, 'padre': 5378, 'amar': 333, 'catholic': 1164, 'bears': 710, 'crush': 1767, 'women': 8399, 'since': 6847, 'valley': 8074, 'dolls': 2214, 'innovation': 3934, 'attract': 567, 'sustain': 7411, 'older': 5229, 'crowd': 1759, 'grip': 3376, 'attitude': 566, 'subject': 7303, 'tide': 7658, 'sea': 6614, 'ghost': 3232, 'ship': 6771, 'pretty': 5814, 'landbound': 4279, 'exposition': 2719, 'telegraph': 7537, 'surprise': 7391, 'icy': 3733, 'subvert': 7324, 'monsters': 4886, 'inc': 3827, 'latter': 4304, 'imagination': 3766, 'texture': 7580, 'negativity': 5060, 'construct': 1573, 'fatally': 2821, 'consistent': 1566, 'tone': 7703, 'pious': 5609, 'preach': 5767, 'generating': 3200, 'asleep': 517, 'nonstop': 5134, 'artifact': 494, 'histrionics': 3592, 'compensate': 1477, 'characterizations': 1216, 'facie': 2757, 'situations': 6870, 'proves': 5909, 'group': 3391, 'absorb': 118, 'mother': 4918, 'daughters': 1846, 'sleep': 6909, 'bewilder': 775, 'visuals': 8172, 'what': 8306, 'windtalkers': 8364, 'll': 4450, 'fluff': 2986, 'watchable': 8244, 'spin': 7079, 'hopelessly': 3649, 'control': 1608, 'carol': 1133, 'kane': 4183, 'sort': 7024, 'gender': 3194, 'philosophy': 5571, 'submerge': 7309, 'phone': 5574, 'performance': 5523, 'fax': 2835, 'melanie': 4728, 'etc': 2591, 'justice': 4178, 'plain': 5628, 'comedies': 1438, 'unendurable': 7943, 'fool': 3006, 'gold': 3286, 'home': 3630, 'quickly': 5982, 'especially': 2575, 'stretch': 7253, '80': 81, 'continue': 1595, 'systematically': 7452, 'destroy': 2019, 'dear': 1868, 'cinema': 1299, 'split': 7100, 'whodunit': 8329, 'delete': 1927, 'key': 4200, 'daily': 1816, 'activities': 169, 'leaves': 4341, 'shoot': 6777, 'wo': 8395, 'argue': 473, 'glaciers': 3252, 'childish': 1262, 'bake': 642, 'setup': 6711, 'sluggish': 6933, 'pace': 5368, 'mind': 4805, 'attraction': 568, 'rude': 6450, 'yellow': 8469, 'lodge': 4461, 'eye': 2742, 'need': 5053, 'sweat': 7420, 'clarify': 1321, 'vision': 8164, 'creation': 1716, 'lessons': 4367, 'cricketer': 1737, 'spider': 7074, 'spy': 7119, 'gift': 3240, '12': 11, 'grow': 3392, 'memorable': 4737, 'lengthy': 4359, 'eventually': 2616, 'inhalt': 3919, 'gutter': 3416, 'romance': 6410, 'secondhand': 6627, 'handles': 3452, 'nuclear': 5167, 'crisis': 1743, 'sequence': 6686, 'evenly': 2611, 'miles': 4795, 'build': 1010, 'suspense': 7408, 'move': 4936, 'me': 4695, 'da': 1811, 'pedestrian': 5497, 'positive': 5733, 'comment': 1450, 'rob': 6381, 'schneider': 6568, 'teenage': 7530, 'bother': 904, 'fat': 2818, 'navel': 5038, 'scale': 6539, 'acid': 156, 'pose': 5731, 'posing': 5732, 'homage': 3629, 'wayne': 8253, 'classics': 1329, 'certain': 1188, 'scene': 6553, 'bring': 966, 'lunch': 4527, 'brought': 986, 'losing': 4489, 'speech': 7064, 'hang': 3455, 'weakly': 8259, 'mojo': 4868, 'assume': 534, 'realize': 6077, 'already': 318, 'exact': 2635, 'hundred': 3705, 'mistake': 4845, 'check': 1240, 'full': 3126, 'ticket': 7657, 'price': 5823, 'simone': 6837, 'dvd': 2328, 'rental': 6213, 'chun': 1292, 'him': 3580, 'aspects': 519, 'implausibility': 3791, 'jelly': 4117, 'belly': 745, 'astonish': 539, 'witness': 8389, 'there': 7603, 'backdrop': 625, 'ridiculous': 6341, 'heel': 3533, 'sympathetic': 7445, 'someone': 6997, 'likely': 4403, 'typical': 7869, 'june': 4171, 'madonna': 4553, 'skill': 6880, 'presence': 5799, 'regain': 6143, 'grind': 3374, 'chefs': 1245, 'fuse': 3145, 'recipe': 6092, 'prison': 5839, 'listen': 4435, 'tori': 7718, 'amos': 356, 'record': 6106, 'covers': 1687, 'clich': 1348, 'compendium': 1476, 'fade': 2764, 'phony': 5575, 'alone': 315, 'biz': 807, 'sweets': 7425, 'bitter': 805, 'leak': 4327, 'flatter': 2953, 'momentum': 4874, 'raw': 6054, 'emotion': 2448, 'rely': 6187, 'personal': 5543, 'cruel': 1764, 'misanthropic': 4823, 'surrealist': 7396, 'help': 3543, 'spark': 7043, 'chase': 1231, 'amy': 364, 'change': 1205, 'lanes': 4284, 'cia': 1295, 'agent': 255, 'jack': 4089, 'ryan': 6476, 'fear': 2836, 'falls': 2784, 'alt': 320, 'clear': 1342, 'oh': 5224, 'category': 1159, 'feather': 2844, 'semi': 6655, 'autobiographical': 593, 'central': 1184, 'bug': 1009, 'cater': 1160, 'anything': 422, 'remarkably': 6193, 'cane': 1094, 'mill': 4798, 'revision': 6308, 'western': 8301, 'loud': 4497, 'overbear': 5326, 'indeed': 3852, 'plympton': 5674, 'awfully': 614, 'racism': 6000, 'spiteful': 7094, 'idiots': 3747, 'whether': 8314, 'friendship': 3104, 'salvage': 6500, 'difference': 2067, 'insufferable': 3976, 'cross': 1754, 'crosses': 1755, 'fact': 2759, 'tack': 7456, 'nonsense': 5132, 'wasteful': 8240, 'testosterone': 7576, 'charge': 1220, 'wizard': 8393, 'productions': 5864, 'wal': 8204, 'mart': 4644, 'switch': 7436, 'person': 5541, 'print': 5836, 'page': 5381, 'translate': 7770, 'thirty': 7621, 'we': 8256, 'personally': 5546, 'planet': 5632, 'org': 5281, 'excess': 2655, 'exploitation': 2708, 'night': 5102, 'shyamalan': 6807, 'mystic': 4993, 'genres': 3212, 'unreadable': 8004, 'sucked': 7336, 'redeem': 6116, 'waterlogged': 8249, 'plume': 5669, 'uncharted': 7898, 'depths': 1988, 'stupidity': 7293, 'sub': 7300, 'sexual': 6725, 'plumes': 5670, 'imaginary': 3765, 'onto': 5246, 'masochism': 4655, 'unwatchable': 8030, 'caffeinated': 1058, 'wish': 8379, 'break': 940, 'mood': 4893, 'absurd': 121, 'inappropriate': 3826, 'morph': 4912, 'mundane': 4967, 'perfectly': 5521, 'indigo': 3868, 'monster': 4885, 'art': 492, 'house': 3675, 'trap': 7776, 'prevention': 5818, 'unforgettable': 7959, 'potential': 5750, 'slapstick': 6902, '19': 23, 'unique': 7974, 'twenty': 7859, 'artsploitation': 505, 'sour': 7032, 'exploration': 2710, 'emptiness': 2464, 'underway': 7938, 'relentless': 6174, 'variety': 8087, '1920': 24, 'talkiness': 7483, 'necessarily': 5050, 'frequently': 3091, 'mark': 4630, 'bloodbath': 842, 'laughable': 4306, 'unbearable': 7892, 'merely': 4752, 'wretched': 8446, 'wannabe': 8221, 'insane': 3940, 'awful': 613, 'doubt': 2238, 'cowardly': 1689, 'trip': 7811, 'adventure': 218, 'song': 7005, 'overwrought': 5360, 'rapper': 6038, 'amateurishly': 335, 'animation': 391, 'pelvis': 5503, 'gimmick': 3242, 'valid': 8073, 'vehicle': 8096, 'polish': 5687, 'uneventful': 7946, 'country': 1671, 'skunk': 6892, 'severe': 6717, 'odor': 5205, 'he': 3507, 'crap': 1702, 'leash': 4336, 'far': 2803, 'polite': 5689, 'lunatic': 4526, 'heights': 3538, 'joe': 4130, 'similarly': 6835, 'if': 3748, 'dependable': 1970, 'botch': 902, 'edge': 2374, 'personality': 5545, 'rise': 6364, 'deep': 1903, 'south': 7035, 'stories': 7231, 'hallmark': 3436, 'card': 1119, 'visible': 8163, 'colin': 1409, 'major': 4569, 'coffee': 1400, 'pony': 5702, 'pseudo': 5918, 'sham': 6739, 'actor': 170, 'workshops': 8424, 'affect': 231, 'malice': 4582, 'undercut': 7917, 'structure': 7271, 'strongly': 7269, 'mix': 4849, 'bruce': 991, 'willis': 8358, 'kirshner': 4221, 'monroe': 4883, 'contest': 1592, 'out': 5304, 'slow': 6929, 'ride': 6339, 'clade': 1313, 'barrow': 683, 'wash': 8235, 'storm': 7232, 'und': 7908, 'drug': 2297, 'explain': 2704, 'decisions': 1893, 'unsatisfactory': 8014, 'shiny': 6770, 'defensive': 1908, 'alter': 321, 'mature': 4679, 'tragic': 7754, 'pizza': 5623, 'teenagers': 7532, 'winner': 8367, 'adults': 215, 'maid': 4560, 'manhattan': 4594, 'easier': 2353, 'sheet': 6756, 'hackneyed': 3423, 'concepts': 1514, 'revolve': 6314, 'outcome': 5308, 'globetrotters': 3263, 'game': 3167, 'wanna': 8220, 'mann': 4605, 'ludicrous': 4521, 'dress': 2279, 'genre': 3211, 'irrelevant': 4062, 'bottomlessly': 906, 'cynical': 1809, 'ideas': 3739, 'awkwardness': 618, 'dread': 2271, 'king': 4218, 'brown': 988, 'snake': 6956, 'should': 6789, 'barbershop': 668, 'abrupt': 114, 'iq': 4052, 'race': 5997, 'finish': 2924, 'discourage': 2120, 'slide': 6917, 'jennifer': 4118, 'immature': 3774, '110': 9, 'claustrophobic': 1338, 'harsh': 3487, 'disgust': 2131, 'disgusting': 2133, 'blindly': 831, 'ago': 263, 'spot': 7109, 'receptions': 6091, 'believability': 741, 'entire': 2539, 'scenario': 6551, 'reverse': 6301, 'memory': 4741, 'regret': 6152, '4th': 66, '2001': 45, 'predecessor': 5777, 'rush': 6470, 'sake': 6494, 'ingenuity': 3915, 'rushed': 6471, 'cellphone': 1179, 'pop': 5707, 'punk': 5948, 'classic': 1326, 'ladies': 4269, 'gentlemen': 3214, 'fabulous': 2748, 'stain': 7140, 'crossroads': 1758, 'inconsequential': 3842, 'clock': 1367, 'merchant': 4748, 'territory': 7568, 'strictly': 7256, 'steve': 7199, 'special': 7053, 'party': 5445, 'relatively': 6169, 'conduct': 1529, 'carry': 1138, 'folks': 2998, 'worthy': 8435, 'scorn': 6589, 'incest': 3831, 'single': 6856, 'name': 5005, 'overrun': 5345, 'corrupt': 1655, 'weasel': 8267, 'reddish': 6114, 'juvenile': 4182, 'brash': 928, 'mainly': 4564, 'mere': 4751, 'excuse': 2666, 'wan': 8215, 'navy': 5040, 'achingly': 155, 'affair': 230, 'sudden': 7339, 'finale': 2913, 'rk': 6375, 'viewers': 8138, 'decidedly': 1890, 'flimsier': 2973, 'size': 6873, 'logically': 4465, 'porous': 5722, 'grows': 3393, 'disparate': 2155, 'gel': 3191, 'smell': 6945, 'twist': 7863, 'off': 5210, 'auspicious': 582, 'tract': 7744, 'plotters': 5664, 'whisper': 8324, 'moves': 4939, 'problems': 5852, 'derive': 1994, 'truck': 7825, 'preferably': 5787, 'tie': 7659, 'vignettes': 8141, 'any': 419, 'downhill': 2244, 'supreme': 7383, 'middle': 4783, 'drink': 2283, 'piss': 5612, 'tree': 7792, 'excite': 2658, 'chocolate': 1274, 'clair': 1315, 'getting': 3228, 'similar': 6834, '1953': 29, 'pediatric': 5498, 'peter': 5559, 'limit': 4411, 'stiff': 7209, 'operative': 5255, 'scary': 6548, 'feardotcom': 2837, 'sticker': 7205, 'controversy': 1610, 'mexican': 4774, 'horrify': 3658, 'oppressive': 5263, 'suppose': 7380, 'lovely': 4504, 'cal': 1061, 'dad': 1812, 'perfect': 5518, 'traveler': 7782, 'keep': 4191, 'family': 2790, 'blind': 830, 'cripple': 1741, 'amis': 352, 'alive': 299, 'british': 970, 'soldier': 6982, 'kick': 4201, 'convinced': 1626, 'crippled': 1742, 'mild': 4792, 'intolerable': 4020, 'complete': 1483, 'retell': 6285, 'idiot': 3745, 'frame': 3065, 'reputation': 6240, 'lowered': 4511, 'necessary': 5051, 'guide': 3402, 'pitfalls': 5618, 'redundancy': 6125, 'barbarian': 667, 'ethnic': 2596, 'cleanse': 1341, 'certainly': 1189, 'recommend': 6100, 'generally': 3197, 'letterman': 4372, 'onion': 5242, 'tragedies': 7752, 'fertile': 2870, 'fleet': 2963, 'grasp': 3344, 'fantasy': 2802, 'album': 286, 'fetch': 2876, 'convolute': 1629, 'thematic': 7595, 'jumbo': 4168, 'destiny': 2018, 'redemption': 6117, 'drab': 2251, 'inert': 3885, 'pretentious': 5812, 'verse': 8110, 'unlike': 7987, 'streets': 7249, 'ash': 511, 'wednesday': 8279, 'essentially': 2582, 'halfway': 3434, 'only': 5243, 'fifths': 2891, 'murder': 4969, 'jar': 4107, 'interview': 4016, 'overall': 5325, 'buy': 1047, 'characterisation': 1212, 'spectacle': 7059, 'derrick': 1996, 'modem': 4861, 'disconnect': 2116, '10': 1, 'pumpkin': 5941, 'pawn': 5482, 'disabilities': 2099, 'profane': 5865, 'valiant': 8072, 'conscious': 1556, 'eyelids': 2744, 'struggled': 7274, 'bruised': 994, 'cloyingly': 1378, 'looks': 4477, 'procession': 5857, 'despair': 2009, 'cello': 1178, 'cull': 1778, 'minimalist': 4810, 'funeral': 3135, 'dud': 2305, 'mildly': 4793, '84': 85, 'sentence': 6674, 'devastate': 2034, 'devastating': 2035, 'precious': 5771, 'tune': 7844, 'send': 6659, 'tailor': 7467, 'alterations': 322, 'tower': 7739, 'fit': 2934, 'kieslowski': 4207, 'lyrical': 4538, 'pessimism': 5555, 'contradict': 1600, 'aspire': 521, 'include': 3835, 'condition': 1527, 'nose': 5141, 'ultimate': 7875, 'significance': 6823, 'sci': 6576, 'fi': 2880, 'while': 8316, 'ball': 647, 'schmaltzy': 6565, 'clumsy': 1384, 'toss': 7724, 'preside': 5806, 'delightful': 1935, 'shadow': 6730, 'between': 774, 'appeal': 438, 'sexist': 6724, 'racist': 6001, 'brow': 987, 'feet': 2855, 'how': 3677, 'useful': 8054, 'verdict': 8106, 'joylessly': 4153, 'extravagant': 2736, 'choose': 1278, 'marvel': 4649, 'doors': 2228, 'sentimentality': 6677, '75': 79, 'sample': 6505, 'purple': 5953, 'rubbish': 6446, 'listclass': 4434, 'ransack': 6031, 'sympathy': 7447, 'foolish': 3007, 'ms': 4952, 'phoenix': 5573, 'charisma': 1222, 'unable': 7882, 'initial': 3925, 'anime': 394, 'eventual': 2615, 'awaken': 605, 'supply': 7378, 'sterile': 7197, 'color': 1422, 'excitement': 2660, 'zero': 8492, 'storyline': 7234, 'attention': 564, 'neck': 5052, 'perform': 5522, 'breaks': 941, 'twice': 7860, 'remove': 6204, 'model': 4860, 'legal': 4348, 'copycat': 1642, 'siege': 6817, 'refer': 6129, 'die': 2064, 'boat': 858, 'dutiful': 2325, 'enhance': 2501, 'episodic': 2555, 'exhilarate': 2677, 'choppy': 1280, 'sucker': 7337, 'distant': 2169, 'telescope': 7540, 'phlegmatic': 5572, 'vs': 8192, 'ben': 752, 'affleck': 238, 'hitchcockian': 3596, 'shakespeare': 6736, 'spawn': 7049, 'question': 5979, 'tarantino': 7494, 'handful': 3448, 'caucus': 1166, 'gangster': 3171, 'branch': 926, 'witty': 8391, 'interpretations': 4015, 'collapses': 1412, 'blackout': 810, 'hamper': 3443, 'taylor': 7512, 'cartoonist': 1141, 'notion': 5155, 'basketball': 694, 'season': 6622, 'about': 111, 'busy': 1041, 'urban': 8044, 'zhang': 8493, 'forte': 3045, 'teddy': 7527, 'bear': 709, 'picnic': 5592, 'rank': 6028, 'among': 354, 'stunt': 7291, 'cheaper': 1236, 'production': 5863, 'ops': 5265, 'scoop': 6583, 'significantly': 6825, 'exaggeration': 2638, 'recount': 6107, 'halloween': 3438, 'haunt': 3500, 'did': 2061, 'paste': 5458, 'repetitive': 6223, 'rag': 6008, 'characteristic': 1213, 'reel': 6128, 'irredeemably': 4061, 'spring': 7115, 'harry': 3486, 'purposeless': 5958, 'deadly': 1863, 'cop': 1638, 'oily': 5225, 'arm': 478, 'dealer': 1866, 'squad': 7121, 'requisite': 6246, 'captain': 1109, 'overflow': 5331, 'mouth': 4934, 'forgive': 3035, '20': 43, 'wait': 8202, 'friday': 3100, 'spent': 7071, 'vain': 8071, 'dictator': 2060, 'madman': 4551, 'wildly': 8351, 'underserved': 7931, 'not': 5145, 'given': 3248, 'remotely': 6203, 'triumphant': 7814, 'dollar': 2212, 'christmas': 1286, 'roll': 6402, 'combination': 1430, 'slightest': 6921, 'goalless': 3275, 'sticks': 7207, 'rigidly': 6353, 'paradigm': 5413, 'permit': 5535, 'dimension': 2079, 'repeatedly': 6219, 'electrolyte': 2410, 'dismember': 2147, 'victims': 8125, 'consciousness': 1558, 'imitations': 3772, 'richie': 6334, 'imitation': 3771, 'feline': 2857, 'italian': 4080, 'freakshow': 3080, 'dystopian': 2335, 'fahrenheit': 2766, '451': 63, 'matrix': 4676, 'sickle': 6813, 'gourmet': 3312, 'outdated': 5309, 'dagger': 1814, 'sitcom': 6865, 'deception': 1885, 'marginal': 4623, 'reactionary': 6064, 'empathy': 2452, 'carried': 1136, 'shortest': 6785, 'otherwise': 5299, 'screenwriting': 6603, 'conformity': 1542, 'straight': 7238, 'numbingly': 5171, 'stilted': 7215, 'storytelling': 7237, 'flow': 2983, 'pale': 5395, 'rorschach': 6423, 'must': 4981, 'killed': 4209, 'father': 2823, 'errors': 2573, 'guilty': 3405, 'sin': 6846, 'attributable': 570, 'inhabit': 3917, 'annex': 398, 'behave': 733, 'greek': 3362, 'wed': 8276, 'apartheid': 426, 'goofy': 3301, 'span': 7041, 'grade': 3323, 'curve': 1798, 'ice': 3726, 'cool': 1635, 'concern': 1517, 'rotten': 6431, 'california': 1068, 'cheat': 1237, 'torpedo': 7720, 'chance': 1204, 'oscars': 5295, 'survive': 7403, 'harm': 3478, 'except': 2651, '15': 20, 'mandolin': 4592, 'mine': 4807, 'wasted': 8239, 'fairly': 2774, 'hugely': 3684, 'overwrite': 5359, 'mile': 4794, 'longest': 4472, 'yard': 8460, 'aimed': 273, 'squarely': 7124, 'demand': 1949, 'demographic': 1954, 'pregnant': 5789, 'takes': 7474, 'narcissism': 5014, 'congratulations': 1549, 'tribute': 7802, 'snow': 6965, 'cone': 1530, 'innocuous': 3933, 'flavorless': 2957, 'ineffective': 3883, 'stands': 7157, 'ways': 8254, 'clockstoppers': 1368, 'skew': 6878, 'commitment': 1456, 'regional': 6150, 'hurl': 3709, 'toilet': 7693, 'slur': 6934, 'relies': 6182, 'squabble': 7120, 'spouses': 7112, 'count': 1665, 'gross': 3384, 'forget': 3032, 'bolt': 876, 'being': 738, 'obscene': 5183, 'dark': 1836, 'friend': 3101, 'hungry': 3707, 'portion': 5723, 'nasty': 5021, 'result': 6279, 'bold': 870, 'quick': 5981, 'blurry': 850, 'goose': 3302, 'dope': 2230, 'inadequate': 3823, 'kill': 4208, 'crassness': 1706, 'match': 4670, 'ridiculousness': 6343, 'matched': 4671, 'lengths': 4358, 'duck': 2304, 'raise': 6013, 'mentally': 4746, 'challenge': 1199, 'fair': 2773, 'surely': 7387, 'collection': 1416, 'mutilation': 4985, 'slideshow': 6919, 'geeks': 3190, 'keeping': 4193, 'doom': 2225, 'smallest': 6938, 'doomed': 2226, 'unfaithful': 7951, 'whatsoever': 8308, 'scatter': 6550, 'stitch': 7222, 'stock': 7223, 'studios': 7281, 'firmly': 2929, 'ability': 108, 'shady': 6732, 'yet': 8473, 'launch': 4311, 'park': 5427, 'schism': 6563, 'cartoon': 1140, 'suit': 7352, 'fable': 2745, 'meaningless': 4701, 'confusing': 1546, 'board': 853, 'ode': 5204, 'tackle': 7457, 'wonderment': 8404, 'manifesto': 4598, 'vagueness': 8070, 'topical': 7713, 'ponder': 5700, 'endeavor': 2477, 'exasperate': 2642, 'rambling': 6020, 'impress': 3802, 'overload': 5337, 'female': 2862, 'angst': 386, 'irreparably': 4063, 'narration': 5016, 'naipaul': 5002, 'juicy': 4163, 'writer': 8449, 'negate': 5058, 'sinister': 6858, 'menace': 4743, 'noise': 5114, 'bump': 1017, 'punishable': 5945, 'chainsaw': 1196, 'terrorist': 7571, 'attack': 559, 'dancer': 1827, 'punishment': 5946, 'tiring': 7682, 'reduce': 6123, 'delivers': 1943, 'inspiration': 3960, 'amid': 351, 'contain': 1580, 'solutions': 6990, 'impenetrable': 3787, 'was': 8234, 'revid': 6304, 'rot': 6428, 'fitz': 2936, 'stand': 7150, 'selection': 6649, 'outtakes': 5320, 'credit': 1727, 'fast': 2816, 'rejigger': 6163, 'forgot': 3037, 'irrational': 4060, 'hip': 3583, 'hop': 3644, 'tootsie': 7710, 'rookie': 6419, 'tang': 7487, 'punchlines': 5943, 'multitude': 4966, 'simple': 6838, 'yahoo': 8457, 'ing': 3913, 'judge': 4158, 'opportunity': 5258, 'gigantic': 3241, 'proportion': 5898, 'lunar': 4525, 'mission': 4843, 'improvisation': 3814, 'superficially': 7370, 'gamble': 3166, 'slowed': 6930, 'stroke': 7265, 'shame': 6741, 'introduction': 4027, 'greatest': 3357, '100': 2, 'paddle': 5377, 'steven': 7200, 'considered': 1563, 'keeps': 4194, 'authentic': 589, 'humorless': 3702, 'each': 2336, 'underscore': 7930, 'sentiment': 6675, 'gather': 3184, 'drags': 2256, 'rerun': 6247, 'powerpuff': 5759, 'girls': 3246, 'grim': 3372, 'future': 3151, 'splendor': 7097, 'calculations': 1064, 'rescue': 6248, 'sugar': 7346, 'curse': 1796, 'blindness': 832, 'load': 4451, 'michael': 4778, 'myers': 4987, 'exceptionally': 2654, 'wastes': 8241, 'hated': 3497, 'morning': 4910, 'swims': 7433, 'mediocrity': 4717, 'breath': 944, 'fresh': 3092, 'swiftly': 7428, 'deteriorate': 2029, 'melodrama': 4729, 'rough': 6433, 'hew': 3558, 'vanity': 8082, 'actress': 173, 'macdowell': 4542, 'deteriorated': 2030, 'namely': 5007, 'gap': 3172, 'clean': 1340, 'jeremy': 4120, 'textbook': 7579, 'psychologizing': 5925, 'bridge': 959, 'derivative': 1993, 'unconvincing': 7905, 'steals': 7181, 'confines': 1536, 'bald': 646, 'canal': 1088, 'circuit': 1306, 'disingenuous': 2138, 'reno': 6210, 'inhuman': 3923, 'simultaneously': 6845, 'degrade': 1919, 'degraded': 1920, 'root': 6421, 'peculiar': 5495, 'missile': 4842, 'tunnel': 7846, 'evacuated': 2602, 'musketeer': 4980, 'psychological': 5923, 'ground': 3389, 'teens': 7533, 'defiant': 1910, 'behaviour': 735, 'douglas': 2240, 'migrate': 4789, 'nickleby': 5098, 'halfhearted': 3433, '8th': 89, 'boy': 920, 'read': 6065, 'infuriating': 3909, 'infidelity': 3897, 'happenstance': 3461, 'kitchen': 4224, 'sink': 6859, 'overleden': 5335, 'concert': 1518, 'pack': 5371, 'dough': 2239, 'ears': 2349, 'grotesque': 3387, 'island': 4074, 'scenery': 6554, 'clam': 1316, 'boil': 868, 'sun': 7361, 'days': 1855, 'explosion': 2714, 'gunfight': 3410, 'losers': 4487, 'whoop': 8333, 'flashbacks': 2948, 'thrills': 7643, 'impressions': 3805, 'aftertaste': 247, 'operational': 5254, 'mechanics': 4710, 'quota': 5994, 'anticipate': 412, 'shape': 6744, 'pompous': 5698, 'assemble': 527, 'frankenstein': 3074, 'marginally': 4624, 'em': 2431, 'strenuous': 7252, 'showtime': 6801, 'hook': 3642, 'ozpetek': 5366, 'sky': 6893, 'realities': 6074, 'inclusive': 3836, 'upright': 8039, 'antonio': 417, 'presents': 5803, 'portray': 5726, 'literary': 4438, 'notorious': 5156, 'dirty': 2098, 'per': 5512, 'sick': 6811, 'cement': 1181, 'cultural': 1782, 'formulaic': 3044, 'tolerate': 7697, 'insipid': 3954, 'brutally': 998, 'clueless': 1381, 'large': 4292, 'dose': 2235, 'painkillers': 5388, 'sweep': 7421, 'watching': 8246, 'insinuation': 3953, 'culture': 1783, 'velocity': 8098, 'freeze': 3086, 'barrio': 682, 'tequila': 7559, 'bender': 756, 'jacket': 4091, 'our': 5302, 'headed': 3511, 'frankly': 3075, 'techno': 7524, 'posting': 5745, 'farce': 2804, 'thoughtful': 7630, 'aside': 515, 'liners': 4418, 'incorporate': 3845, 'rotoscope': 6430, 'neat': 5047, 'sincere': 6848, 'honest': 3635, 'hardly': 3473, 'fallen': 2781, 'bone': 883, 'rumor': 6459, 'angels': 383, 'dispel': 2156, 'ish': 4073, 'figure': 2895, 'teleprompter': 7539, 'ick': 3728, 'benign': 760, 'pinocchio': 5606, 'than': 7581, 'impressive': 3806, 'despairingly': 2010, 'eight': 2398, 'crazy': 1709, 'nights': 5104, 'rash': 6045, 'nonsensical': 5133, 'shelf': 6757, 'appropriate': 454, 'location': 4458, '1950': 27, 'doris': 2232, 'very': 8114, 'undernourish': 7927, 'faith': 2776, 'viability': 8118, 'succumb': 7333, 'buyers': 1048, 'expectations': 2695, 'gum': 3408, 'mr': 4951, 'de': 1860, 'nio': 5108, 'nauseating': 5036, 'davis': 1849, 'cause': 1167, 'epiphany': 2552, 'rashomon': 6046, 'lipstick': 4430, 'ransacks': 6032, 'archive': 465, 'reliance': 6179, 'specific': 7055, 'exactly': 2636, 'attempts': 561, 'wore': 8414, 'steal': 7179, 'harvard': 3488, 'cleverness': 1347, 'intelligent': 3990, 'terrorism': 7570, 'warm': 8226, 'paranoia': 5419, 'sentimental': 6676, 'gabled': 3156, 'retrograde': 6290, 'post': 5740, 'condescend': 1525, 'astonishing': 541, 'angle': 384, 'mayhem': 4687, 'contender': 1588, 'woefully': 8397, 'iai': 3723, 'misguided': 4835, 'chronic': 1288, 'campus': 1085, 'personalities': 5544, 'undergo': 7920, 'surrounded': 7399, 'wreck': 8442, 'journey': 4149, 'philosophical': 5570, 'void': 8182, 'sprinkle': 7118, 'everywhere': 2626, 'range': 6026, 'audacious': 571, 'ranges': 6027, '102': 4, 'infomercial': 3903, 'potboiler': 5748, 'until': 8027, 'relentlessly': 6175, 'saccharine': 6480, 'convert': 1620, 'sight': 6819, 'humiliate': 3698, 'dog': 2208, 'smarter': 6940, 'heal': 3512, 'welt': 8294, 'johnny': 4133, 'knoxville': 4237, 'stomach': 7224, 'riot': 6359, 'projectile': 5879, 'psyche': 5919, 'paid': 5384, 'through': 7646, 'spoof': 7103, 'update': 8033, 'macbeth': 4541, 'invention': 4034, 'unspeakably': 8021, 'flatly': 2951, 'heroine': 3554, 'represent': 6231, 'latest': 4301, 'universe': 7981, 'brett': 954, 'stardom': 7162, 'marques': 4638, 'email': 2432, 'drive': 2284, 'directions': 2092, 'potentially': 5751, 'overuse': 5353, 'grammy': 3331, 'rent': 6212, 'respectable': 6266, 'exceedingly': 2645, 'period': 5531, 'commit': 1455, 'dumbness': 2314, 'committed': 1457, 'clever': 1345, 'reasonable': 6081, 'shadowy': 6731, 'macabre': 4540, 'rain': 6010, 'offset': 5220, 'sheer': 6755, 'holiness': 3617, 'vices': 8121, '103': 5, 'length': 4357, 'recently': 6090, 'virtuous': 8159, 'illustrate': 3761, 'schizophrenia': 6564, 'hypnotically': 3720, 'adorable': 208, 'paul': 5477, 'shore': 6782, 'robotically': 6389, 'italicize': 4081, 'truth': 7832, 'advertise': 220, 'hound': 3672, 'howard': 3678, 'space': 7037, 'daydream': 1853, 'memories': 4739, 'fantastic': 2800, 'trope': 7820, 'cardboard': 1120, 'frontal': 3113, 'advice': 221, 'ward': 8224, 'celebrity': 1175, 'cameos': 1077, 'automatically': 594, 'equal': 2556, 'living': 4449, 'foyer': 3059, 'accountable': 145, 'technically': 7522, 'produce': 5859, 'warn': 8229, 'ironically': 4058, 'mute': 4984, 'intend': 3991, 'shine': 6766, 'unattractive': 7890, 'leon': 4361, 'capitalize': 1105, 'breeze': 949, 'tolerance': 7696, 'suffers': 7342, 'pat': 5460, 'fairy': 2775, 'opaque': 5248, 'gags': 3161, 'humble': 3696, 'opinion': 5256, 'fragment': 3063, 'boldly': 872, 'luridly': 4528, 'colour': 1424, 'uni': 7965, 'eyeball': 2743, 'evaporate': 2608, 'crypt': 1769, 'mist': 4844, 'brain': 924, 'jersey': 4123, 'lowbrow': 4509, 'uma': 7879, '112': 10, 'promises': 5887, 'fifteen': 2889, 'aggravating': 259, 'intense': 3992, 'sabotage': 6478, 'tick': 7656, 'bomb': 877, 'duration': 2321, 'schedule': 6559, 'sledgehammer': 6907, 'pokemon': 5683, 'videos': 8132, 'induces': 3876, 'headaches': 3510, 'overhead': 5332, 'student': 7279, 'outright': 5316, 'newness': 5088, 'wander': 8216, 'player': 5642, 'exception': 2652, 'six': 6871, 'needlessly': 5056, 'quality': 5972, 'archival': 464, 'footage': 3009, 'fulfills': 3125, 'minimum': 4811, 'requirement': 6244, 'jump': 4169, 'pyrotechnics': 5966, 'yu': 8486, 'hopes': 3650, 'pathetic': 5465, 'god': 3278, 'cara': 1117, 'cooper': 1637, 'grave': 3349, 'rolling': 6406, 'pure': 5951, 'beat': 712, 'catch': 1156, 'prevent': 5817, 'cylinders': 1808, 'stuck': 7278, 'prescribe': 5797, 'room': 6420, 'smooth': 6950, 'mural': 4968, 'cushion': 1799, 'rhythms': 6327, 'macho': 4545, 'conventions': 1615, 'assert': 530, 'slides': 6918, 'jerk': 4121, 'rail': 6009, 'part': 5435, 'weight': 8285, 'topic': 7712, 'stall': 7145, 'lackluster': 4266, 'gear': 3189, 'terrific': 7565, 'potter': 5752, 'chamber': 1200, 'secrets': 6631, 'bowl': 916, 'marvelous': 4650, 'manipulation': 4601, 'dishonorable': 2137, 'shorter': 6784, 'cutoff': 1803, 'substance': 7313, 'classicist': 1328, 'noticeable': 5153, 'september': 6682, '11': 8, 'reprehensible': 6230, 'manipulate': 4599, 'collective': 1417, 'restore': 6274, 'sincerity': 6850, 'unequivocally': 7944, 'manipulating': 4600, 'beneath': 757, 'uncanny': 7895, 'inevitable': 3888, 'seemingly': 6640, 'shrewd': 6804, 'facade': 2750, 'lie': 4388, 'creative': 1718, 'cobbled': 1394, 'unintentionally': 7972, 'brian': 956, 'alma': 312, 'addiction': 188, 'junk': 4175, 'calorie': 1072, 'tropes': 7821, 'ruin': 6455, 'adaptation': 184, 'walk': 8205, 'delicate': 1931, 'tightrope': 7664, 'facial': 2755, 'loathsome': 4452, 'santa': 6518, 'clause': 1335, '21st': 49, 'century': 1186, 'sourced': 7034, 'desire': 2007, 'hurry': 3711, 'deaths': 1872, 'indicative': 3861, 'area': 468, 'compelling': 1475, 'cinematography': 1302, 'near': 5045, 'marquis': 4639, 'soundtrack': 7031, 'critic': 1745, 'proof': 5892, 'band': 654, 'claustrophic': 1336, 'philly': 5569, 'shake': 6734, 'jaglom': 4099, 'grate': 3345, 'taint': 7468, 'probability': 5845, 'tainted': 7469, 'clinches': 1358, 'common': 1458, 'fireworks': 2927, 'normally': 5139, 'co': 1388, 'jonathan': 4139, 'parker': 5428, 'fashion': 2814, 'brazil': 935, 'hyper': 3718, 'prolong': 5883, 'barn': 676, 'prolonged': 5884, 'luck': 4517, 'muster': 4982, 'distasteful': 2171, 'combined': 1432, 'rate': 6048, 'yield': 8474, 'yielded': 8475, 'clare': 1319, 'misunderstand': 4846, 'marivaux': 4629, 'mira': 4817, 'limitations': 4412, 'classical': 1327, 'summary': 7357, 'awfulness': 615, 'deprecate': 1981, 'insignificant': 3952, 'abundant': 124, 'hatred': 3498, 'specs': 7058, 'forth': 3046, 'unchecked': 7899, 'dismissive': 2150, 'upscale': 8043, 'projection': 5880, 'blame': 815, 'eddie': 2373, 'murphy': 4972, 'owen': 5362, 'wilson': 8359, 'curious': 1791, 'antitrust': 416, 'fraction': 3061, 'publicist': 5932, 'totally': 7727, 'prologue': 5882, 'obligatory': 5181, 'barb': 665, 'poo': 5703, 'edgy': 2375, 'definitions': 1915, 'meet': 4722, 'denis': 1962, 'hopeless': 3648, 'sticky': 7208, 'unsatisfied': 8015, 'dramas': 2259, 'conclusions': 1522, 'jam': 4101, 'bond': 882, 'generation': 3201, 'pic': 5587, 'disjoint': 2143, 'lay': 4318, 'doorstep': 2229, 'gasoline': 3181, 'passion': 5451, 'politics': 5692, 'almodovar': 313, 'beauty': 715, 'num': 5169, 'fantasia': 2799, 'blasphemous': 819, 'journalistic': 4147, 'odd': 5201, 'haphazard': 3459, 'ambiguous': 342, 'provocative': 5914, 'making': 4577, 'owner': 5364, 'recent': 6089, 'ballistic': 650, 'sever': 6715, 'features': 2847, 'smile': 6946, 'stay': 7175, 'channel': 1207, 'drunken': 2299, 'outweigh': 5323, 'nifty': 5101, 'tout': 7735, 'her': 3548, 'persona': 5542, 'harmless': 3479, 'vacant': 8065, 'paint': 5389, 'barley': 675, 'dry': 2300, 'office': 5218, '83': 84, 'trek': 7793, 'nemesis': 5069, 'suggestive': 7350, '65th': 76, 'reunion': 6293, 'mixer': 4850, 'members': 4735, 'modernize': 4863, 'disease': 2128, 'dubious': 2303, 'distinction': 2173, 'blair': 814, 'witch': 8382, 'opportunities': 5257, 'follow': 3000, 'gore': 3304, 'harrison': 3484, 'ford': 3020, 'stumblebum': 7288, 'bloody': 845, 'sunday': 7363, 'clarity': 1322, '4ever': 65, 'assure': 537, 'pocket': 5675, 'keel': 4189, 'randall': 6023, 'wallace': 8209, 'driver': 2286, 'traffic': 7751, 'peers': 5502, 'turkey': 7849, 'gobble': 3277, 'dolly': 2215, 'digital': 2073, 'stereo': 7193, 'discomfort': 2115, 'embarrassment': 2436, 'majority': 4570, 'exhaustion': 2675, 'green': 3363, 'floor': 2979, 'somewhere': 7002, 'penchant': 5506, 'ironic': 4057, 'image': 3762, 'milieu': 4796, 'wholly': 8332, 'pitch': 5617, 'influence': 3901, 'rohypnol': 6399, 'parish': 5426, 'showcase': 6795, 'diverge': 2187, 'probe': 5848, 'penetrate': 5508, 'successor': 7332, 'bibbidy': 780, 'bobbidi': 860, 'primitive': 5831, 'technique': 7523, 'somber': 6992, 'dragon': 2254, 'medicine': 4715, 'je': 4112, 'gyu': 3420, 'lyricism': 4539, 'limerick': 4410, 'scrap': 6593, 'restroom': 6278, 'michel': 4779, 'monday': 4875, 'estate': 2586, 'hill': 3579, 'holes': 3615, 'under': 7912, 'promotion': 5889, 'calibre': 1067, 'violently': 8154, 'swimmer': 7431, 'scuttle': 6613, 'subversive': 7323, 'unrelenting': 8008, 'insistence': 3955, 'artistically': 500, 'mannered': 4607, 'flamboyant': 2945, 'outrageous': 5315, 'absurdities': 122, 'inconsistencies': 3843, 'dismissed': 2149, 'rant': 6034, 'plumb': 5667, 'convention': 1613, 'stillborn': 7214, 'conceptual': 1515, 'elvis': 2430, 'hos': 3661, 'unmentionable': 7993, 'slash': 6903, 'unlikely': 7989, 'visit': 8166, 'mcdonald': 4690, 'savvy': 6534, 'street': 7248, 'activism': 168, 'pull': 5934, 'faster': 2817, 'deeper': 1904, 'recreational': 6111, 'mctiernan': 4694, 'lighter': 4397, 'sober': 6971, 'graceful': 3320, 'dance': 1826, 'rhino': 6324, 'hardest': 3471, 'hero': 3551, 'artistic': 499, 'suffocation': 7345, 'thirteen': 7620, 'totalitarian': 7726, '1984': 37, 'farenheit': 2806, 'harder': 3470, 'literally': 4437, 'toy': 7741, 'hearted': 3519, 'pagans': 5380, 'empowerment': 2463, 'brutality': 997, 'unspeakable': 8020, 'describe': 1997, 'successful': 7330, 'genevieve': 3209, 'leplouff': 4363, 'french': 3088, 'option': 5270, 'creators': 1722, 'measure': 4705, 'failure': 2771, 'tuck': 7838, 'sadistic': 6485, 'tendencies': 7549, 'leading': 4325, 'tragedy': 7753, 'somehow': 6996, 'guessable': 3400, 'echo': 2364, 'morbidity': 4904, 'reign': 6157, 'punitive': 5947, 'eardrum': 2340, 'dive': 2185, 'gunplay': 3412, 'metal': 4764, 'smash': 6942, 'facid': 2756, 'couple': 1673, 'ski': 6879, 'lacking': 4265, 'testament': 7574, 'semitism': 6657, 'neo': 5070, 'fascism': 2813, 'derailed': 1990, 'extensive': 2730, 'rework': 6317, 'males': 4581, 'flush': 2990, 'unintentional': 7971, 'goggle': 3284, 'delight': 1933, '1989': 38, 'paradise': 5414, 'prefer': 5786, 'butt': 1044, 'needs': 5057, 'glee': 3258, 'lobotomy': 4454, 'vital': 8173, 'scope': 6585, 'discard': 2110, 'derived': 1995, 'milling': 4801, 'lina': 4415, 'wertmuller': 8298, 'biggest': 786, 'husband': 3713, 'wife': 8347, 'bo': 852, 'derek': 1992, 'boxer': 919, 'dishonest': 2136, 'found': 3053, 'detach': 2024, 'usual': 8058, 'frameless': 3066, 'does': 2207, 'burgeoning': 1024, 'soft': 6978, 'shoe': 6776, 'diaries': 2054, 'murderer': 4970, 'inside': 3947, 'station': 7172, 'unleash': 7984, 'pandora': 5402, 'gamut': 3169, 'fuel': 3121, 'device': 2041, 'early': 2342, 'snooker': 6964, 'ai': 269, 'baggage': 639, 'role': 6400, 'determine': 2033, 'homicide': 3633, 'columbia': 1425, 'animate': 390, 'holiday': 3616, 'weigh': 8283, 'wise': 8375, 'nominally': 5117, 'evil': 2630, 'gadzooks': 3159, 'going': 3285, 'whale': 8305, 'rubber': 6445, 'honorific': 3641, 'repeat': 6218, 'simpleminded': 6839, 'stadium': 7132, 'leaky': 4328, 'own': 5363, 'stagger': 7137, 'invaders': 4029, 'existent': 2682, 'virus': 8161, 'monopoly': 4880, 'wet': 8303, 'burial': 1026, 'sack': 6481, 'gloom': 3264, 'lets': 4370, 'needed': 5054, 'exon': 2687, 'looking': 4476, 'return': 6291, 'super': 7367, 'fold': 2995, 'thickness': 7609, 'folds': 2996, 'reward': 6315, 'reckless': 6094, 'fine': 2919, 'talents': 7479, 'rewarding': 6316, 'eckstraordinarily': 2365, 'severely': 6718, 'dramatically': 2261, '94': 94, 'bombastic': 878, 'tremendous': 7794, 'introduce': 4025, 'allude': 309, 'prey': 5822, 'boatload': 859, 'freighter': 3087, 'appreciation': 451, 'pork': 5718, 'dump': 2316, 'stag': 7133, 'staged': 7135, 'blockbuster': 839, 'pearl': 5493, 'harbor': 3466, 'cumulative': 1785, 'repulsive': 6239, 'storylines': 7235, 'filter': 2910, 'surf': 7388, 'shots': 6788, 'medical': 4713, 'equipment': 2562, 'window': 8362, 'grab': 3316, 'lady': 4270, 'aisle': 279, 'walker': 8207, 'explore': 2711, 'choices': 1276, 'worthwhile': 8434, 'kerrigan': 4198, 'platinum': 5636, 'blonde': 840, 'hair': 3428, 'share': 6745, 'pornographic': 5721, 'apartments': 427, 'clothe': 1374, 'foundation': 3054, 'brood': 980, 'unshapely': 8018, 'disgusted': 2132, 'shot': 6787, 'operate': 5253, 'booby': 886, 'indulgence': 3878, 'appal': 433, 'odoriferous': 5206, 'crawl': 1707, 'appalling': 434, 'exhaust': 2674, '2455': 52, 'hey': 3559, 'messenger': 4761, 'hope': 3645, 'ye': 8463, 'peri': 5529, 'dish': 2134, 'characterize': 1217, 'telephone': 7538, 'ambition': 343, 'sabotaged': 6479, 'soderbergh': 6976, 'emerges': 2446, 'sensational': 6664, '19th': 42, 'metaphor': 4765, 'raindrop': 6012, 'decomposition': 1896, 'healthy': 3514, 'eccentric': 2362, 'cloak': 1365, 'straightforward': 7239, 'text': 7578, 'romanticization': 6413, 'delusional': 1947, 'reproduce': 6235, 'amateur': 334, 'historically': 3590, 'significant': 6824, 'shenanigans': 6758, 'episodes': 2554, 'further': 3142, 'skills': 6883, 'erode': 2569, 'demonstrates': 1957, 'scam': 6540, 'creep': 1730, 'revolution': 6312, 'surrender': 7397, '93': 93, 'unrecoverable': 8006, 'hit': 3593, 'aims': 276, 'element': 2414, 'condescension': 1526, 'lofty': 4462, 'perch': 5515, 'strangers': 7244, 'today': 7689, 'york': 8477, 'metropolitan': 4773, 'opens': 5251, 'fascinate': 2811, 'factions': 2760, 'deserves': 2002, 'desperately': 2012, 'wacky': 8200, 'screwball': 6605, 'screw': 6604, 'here': 3550, 'banners': 661, 'lucy': 4520, 'liu': 4444, 'takeoff': 7473, 'non': 5121, 'cry': 1768, 'entry': 2544, 'brennan': 952, 'suspect': 7406, 'collar': 1413, 'costly': 1660, 'divorce': 2194, 'earthly': 2351, 'distinguish': 2177, 'had': 3424, 'because': 716, 'fault': 2825, 'however': 3679, 'muddled': 4958, 'ruse': 6469, 'tactic': 7460, 'nonexistent': 5129, 'constructed': 1574, 'bean': 708, 'drops': 2292, 'grating': 3347, 'utter': 8063, 'pap': 5407, 'glare': 3253, 'servitude': 6702, 'superstar': 7377, 'skirt': 6889, 'skirts': 6890, 'fare': 2805, 'hospital': 3662, 'pollution': 5694, 'month': 4889, 'mari': 4626, 'cilia': 1296, 'baseless': 689, 'refusal': 6141, 'recognise': 6097, 'signpost': 6826, 'discover': 2121, 'map': 4614, 'graduate': 3327, 'junior': 4174, 'plato': 5637, 'therefore': 7604, 'theatre': 7590, 'greedy': 3361, 'agents': 256, 'crappy': 1703, 'despicable': 2014, 'delivery': 1944, 'pluto': 5673, 'nash': 5020, 'nada': 5000, 'who': 8328, 'rables': 5996, 'aimlessly': 274, 'tearjerker': 7518, 'ordinary': 5280, 'folk': 2997, 'malkovich': 4584, 'robots': 6390, 'haul': 3499, 'killer': 4210, 'website': 8275, 'canadian': 1087, 'smorgasbord': 6953, 'soliloquies': 6987, 'former': 3041, 'barrymore': 685, 'hint': 3582, 'joy': 4150, 'humiliation': 3699, 'bed': 720, 'frigates': 3106, 'plant': 5633, 'birthday': 799, 'masquerade': 4657, 'contains': 1581, 'intent': 3995, 'forgets': 3033, 'grocery': 3382, 'stronger': 7267, 'where': 8312, 'conform': 1541, 'marine': 4628, 'crackers': 1695, 'feast': 2842, 'weakness': 8260, 'annoyance': 401, 'embellish': 2437, 'eastward': 2357, 'chiller': 1266, 'desert': 1999, 'viewing': 8139, 'underdramatized': 7918, 'overstate': 5349, 'transcript': 7764, 'therapy': 7602, 'session': 6703, 'humerus': 3697, 'freudian': 3098, 'puppet': 5949, 'sherman': 6759, 'author': 591, 'schoolboy': 6571, 'memoir': 4736, 'border': 893, 'tired': 7679, 'bordering': 894, 'fringe': 3110, 'salt': 6498, 'wound': 8438, 'sting': 7218, 'prudent': 5917, 'swimfan': 7430, 'victim': 8123, 'camera': 1078, 'movement': 4937, 'indoors': 3874, 'formal': 3039, 'settings': 6708, 'motionless': 4921, 'stages': 7136, 'marca': 4617, 'fetishistic': 2877, 'casual': 1150, 'before': 726, 'glossy': 3268, 'horrific': 3657, 'consciously': 1557, 'tag': 7462, 'heist': 3539, 'reportedly': 6228, 'dozen': 2249, 'weeks': 8282, 'indecent': 3850, 'proposal': 5899, 'solid': 6985, 'unhappy': 7964, 'depends': 1973, 'appetite': 443, 'equilibrium': 2560, 'oppose': 5259, 'everlasting': 2620, 'curmudgeon': 1794, 'peak': 5492, 'noisy': 5115, 'child': 1260, 'lion': 4426, 'redo': 6120, 'horse': 3660, 'fewer': 2879, 'deliberate': 1929, 'inadvertent': 3825, 'stun': 7289, 'songs': 7007, 'bryan': 999, 'adams': 182, 'redone': 6122, 'smoothly': 6952, 'months': 4890, '295': 55, 'preview': 5819, 'resident': 6253, 'indignant': 3867, 'departure': 1969, 'earned': 2344, 'choice': 1275, 'symbolism': 7444, 'dime': 2078, 'psychology': 5926, 'scenic': 6556, '105': 7, 'plotted': 5663, 'effectively': 2387, 'chill': 1265, 'bounce': 907, 'wrists': 8447, 'tight': 7662, 'hunger': 3706, 'finger': 2923, 'sustained': 7412, 'fest': 2874, 'scant': 6544, 'choke': 1277, 'nick': 5097, 'cassavetes': 1146, 'whenever': 8311, 'riddled': 6338, 'unanswered': 7887, 'gargantuan': 3177, 'leap': 4331, 'requires': 6245, 'kung': 4250, 'fu': 3120, 'chuckle': 1291, 'main': 4563, 'event': 2612, 'wood': 8408, 'binary': 790, 'opposition': 5262, 'solar': 6981, 'um': 7878, 'spinoff': 7082, 'bloat': 836, 'litter': 4441, 'satirical': 6525, 'egocentricities': 2395, 'breed': 948, 'mournfully': 4932, 'brittle': 972, 'ear': 2339, 'possibility': 5737, 'faced': 2753, 'photo': 5576, 'blah': 813, 'bona': 881, 'fide': 2884, 'graders': 3325, 'borderline': 895, 'intentioned': 3997, 'disposable': 2161, 'degenerate': 1918, 'hogwash': 3609, 'underlie': 7924, 'impersonal': 3788, '50': 67, 'lovebirds': 4501, 'appealing': 439, 'ace': 150, 'venture': 8101, 'poll': 5693, 'wrestler': 8445, 'china': 1270, 'patron': 5476, 'elves': 2429, 'pump': 5940, 'ho': 3603, 'cream': 1710, 'earplugs': 2348, 'pillowcases': 5601, '87': 87, 'blaze': 823, 'cheatfully': 1238, 'disintegration': 2141, 'bloodsucker': 844, 'computer': 1504, 'jag': 4097, 'blazing': 824, 'poetic': 5678, 'rare': 6041, 'speedy': 7066, 'swan': 7415, 'land': 4278, 'plunges': 5671, 'showboating': 6794, 'afraid': 243, 'reviewers': 6306, 'review': 6305, 'denial': 1961, 'rogue': 6398, 'equally': 2558, 'seen': 6642, 'paramount': 5417, 'imprint': 3808, 'bargain': 672, 'basement': 691, 'european': 2601, 'pickup': 5591, 'destructive': 2021, 'heavily': 3527, 'expects': 2696, 'query': 5977, 'block': 837, 'confusion': 1547, 'favourite': 2834, '146': 19, 'undead': 7909, 'mutate': 4983, 'technical': 7521, 'meandering': 4699, 'unremarkable': 8010, 'bread': 938, 'critics': 1750, 'shred': 6802, 'cloudy': 1376, 'prospect': 5900, 'mobile': 4856, 'depravity': 1980, 'render': 6206, 'vary': 8089, 'trace': 7742, 'rendered': 6207, 'gymnastics': 3419, 'travel': 7781, 'agency': 252, 'bike': 787, 'topless': 7715, 'mud': 4956, 'glimpse': 3261, 'independent': 3855, 'hideous': 3566, 'anywhere': 423, 'inferior': 3896, 'paraphrase': 5422, 'wickets': 8339, 'nicholas': 5095, 'potato': 5747, 'infuriate': 3908, 'monologues': 4879, 'civilize': 1312, 'ordeal': 5277, 'amusement': 362, 'puberty': 5929, 'terminally': 7562, 'videotape': 8133, 'indecipherable': 3851, 'chen': 1250, 'english': 2499, 'language': 4285, 'national': 5025, 'lagoon': 4271, 'impression': 3804, 'craft': 1696, 'hacker': 3422, 'climax': 1355, 'seinfeld': 6645, 'outbursts': 5307, 'flatulence': 2954, 'overwhelm': 5356, 'hanna': 3457, 'barbara': 666, 'stops': 7229, 'justify': 4179, 'moviehouse': 4944, 'throwback': 7649, 'reparations': 6217, 'energetic': 2487, 'creamy': 1711, 'woman': 8398, 'empower': 2462, 'schwartz': 6573, 'wave': 8251, 'afterthought': 248, 'adrian': 212, 'steady': 7178, 'mobilize': 4858, 'zombie': 8496, 'repulse': 6238, 'pledge': 5656, 'allegiance': 303, 'lace': 4261, 'constantly': 1571, 'maker': 4572, 'occasionally': 5197, 'independence': 3854, 'cgi': 1193, 'bush': 1036, 'eminently': 2447, 'miserable': 4829, 'immediately': 3777, 'gravity': 3351, 'earth': 2350, 'anatomical': 372, 'quasi': 5975, 'improvise': 3815, 'stalking': 7144, 'deploy': 1979, 'elaborate': 2404, 'futuristic': 3152, 'sewer': 6721, 'shower': 6798, 'occupational': 5198, 'subsequent': 7312, 'terrify': 7567, 'study': 7283, 'bourgeois': 912, 'grand': 3332, 'fart': 2810, 'grandfather': 3335, 'faithfully': 2778, 'flightless': 2972, 'decent': 1884, 'draft': 2252, 'auditorium': 578, 'door': 2227, '25': 53, 'license': 4387, 'joel': 4131, 'schumacher': 6572, 'reflect': 6133, 'inadequately': 3824, 'motivate': 4922, 'geographically': 3220, 'please': 5651, 'parochial': 5432, 'accessible': 132, 'standoffish': 7155, 'suggest': 7348, 'superior': 7373, 'laborious': 4258, 'bellyache': 746, 'paranoid': 5420, 'annals': 396, 'submarine': 7308, 'bullets': 1014, 'alcatraz': 287, 'corpse': 1650, 'cesspool': 1192, 'demeanor': 1951, 'fly': 2991, 'hail': 3426, 'sasha': 6522, 'brisk': 968, 'overstuff': 5350, 'success': 7328, 'although': 326, 'evidence': 2628, 'indicate': 3859, 'colony': 1421, 'mike': 4790, 'tyson': 7871, 'mideast': 4784, 'audacity': 572, 'monstrous': 4887, 'massive': 4660, 'manner': 4606, '51': 70, 'loser': 4486, 'blast': 820, 'stab': 7129, 'hide': 3564, 'catastrophic': 1155, 'collision': 1420, 'tastelessness': 7503, 'gall': 3165, 'cumbersome': 1784, 'tamper': 7486, 'strain': 7240, 'vaporize': 8083, 'lump': 4524, 'coal': 1390, 'downbeat': 2243, 'cadence': 1057, 'suicidal': 7351, 'moat': 4854, 'surround': 7398, 'surrounding': 7400, 'spice': 7072, 'burger': 1025, 'adult': 213, 'ends': 2483, 'brutal': 996, 'mid': 4782, 'add': 186, 'eric': 2566, 'schaeffer': 6558, 'liability': 4376, 'hoffman': 3608, 'detention': 2028, 'thumb': 7651, 'origin': 5286, 'release': 6172, 'theaters': 7589, 'frantic': 3076, 'virulent': 8160, 'foul': 3052, 'natured': 5033, 'pics': 5593, 'gratuitous': 3348, 'disturb': 2182, 'disregard': 2164, 'bravo': 934, 'grinder': 3375, 'compose': 1495, 'insistent': 3956, 'literal': 4436, 'orgasm': 5284, 'tension': 7557, 'zoo': 8499, 'characterization': 1215, 'pregnancy': 5788, 'groundbreaking': 3390, 'throws': 7650, 'goodwill': 3299, 'orchestration': 5276, 'left': 4345, 'appreciate': 449, 'outside': 5317, 'extension': 2729, 'ritual': 6369, 'spell': 7067, 'mesmerize': 4757, 'promising': 5888, 'disintegrate': 2139, 'disintegrated': 2140, 'cube': 1774, 'fix': 2938, 'sketchy': 6877, 'progress': 5876, 'inexplicably': 3891, 'megaplexes': 4725, 'farrelly': 2809, 'brothers': 985, 'na': 4998, 'clown': 1377, 'gang': 3170, 'rap': 6035, 'gets': 3227, 'descriptions': 1998, 'bestow': 768, 'bestowed': 769, 'soo': 7010, 'itself': 4086, 'unbalance': 7891, 'mixture': 4851, '40': 61, 'million': 4802, 'cheats': 1239, 'comfortable': 1442, 'definition': 1914, 'contemptuous': 1587, 'population': 5715, 'splash': 7095, 'michele': 4780, 'spiritual': 7089, 'quest': 5978, 'rote': 6429, 'spookiness': 7104, 'beg': 728, 'admission': 201, 'ridicule': 6340, 'factor': 2761, 'pushed': 5960, 'margins': 4625, 'orient': 5285, 'tropole': 7822, 'smear': 6944, 'distraction': 2180, 'scrooge': 6609, 'placement': 5626, 'claptrap': 1318, 'barney': 677, 'florida': 2981, 'tricky': 7804, 'vaguely': 8069, 'overkill': 5334, 'profound': 5872, 'glean': 3257, 'endurance': 2484, 'batches': 698, 'intentionally': 3996, 'inseparable': 3946, 'analysis': 368, 'decasia': 1880, 'enjoys': 2511, 'introducing': 4026, 'catcher': 1157, 'rye': 6477, 'dyslexia': 2334, 'rejected': 6162, 'oversimplification': 5348, 'silliness': 6831, 'partly': 5441, 'nomination': 5120, 'sensibility': 6669, 'robotic': 6388, 'later': 4300, 'enjoyable': 2507, 'pissed': 5613, 'misdemeanor': 4828, 'misuse': 4847, 'morgan': 4908, 'freeman': 3085, 'ashley': 513, 'judo': 4161, 'routines': 6440, 'chick': 1257, 'comedian': 1436, 'accuse': 149, 'pow': 5755, 'misfire': 4832, 'indescribably': 3856, 'penned': 5509, 'clue': 1380, 'nature': 5032, 'horribly': 3656, 'nevertheless': 5081, 'kitten': 4226, 'frac': 3060, 'sorority': 7019, 'boys': 921, 'browser': 990, 'pity': 5621, 'mishmash': 4836, 'drone': 2288, 'codswallop': 1399, 'predominantly': 5784, 'wayward': 8255, 'wooden': 8409, 'electric': 2408, 'pencil': 5507, 'sharpen': 6747, 'screenplays': 6600, 'sadness': 6487, 'acting': 164, 'knew': 4230, 'van': 8079, 'wider': 8343, 'ya': 8456, 'nelson': 5068, 'shout': 6791, 'offend': 5212, 'terror': 7569, 'psychodramatics': 5922, 'hinder': 3581, 'pepper': 5511, 'populate': 5712, 'populated': 5713, 'characters': 1218, 'freshness': 3095, 'producer': 5860, 'hat': 3494, 'criticism': 1748, 'evaluate': 2605, 'remind': 6197, 'festival': 2875, 'cat': 1152, 'stealing': 7180, 'contenders': 1589, 'arrive': 486, 'agonize': 264, 'kathy': 4185, 'bat': 696, 'agonizing': 265, 'helm': 3542, 'deeds': 1901, 'spiritless': 7088, 'monotonous': 4882, 'southern': 7036, 'thon': 7624, 'apparently': 437, 'jackson': 4094, 'inexplicable': 3890, 'blunder': 849, 'spieler': 7076, 'crocodile': 1751, 'hunter': 3708, '1959': 32, 'godzilla': 3281, 'combine': 1431, 'japanese': 4106, 'raymond': 6056, 'path': 5464, 'destruction': 2020, 'eighth': 2399, 'obviously': 5194, 'tendency': 7550, 'sag': 6490, 'gabbiest': 3155, 'log': 4463, 'barrage': 679, 'hype': 3717, 'dash': 1841, 'aptitude': 456, 'abdul': 103, 'malik': 4583, 'abbott': 101, 'ernest': 2568, 'tron': 7819, 'anderson': 377, 'carefully': 1126, 'choreograph': 1282, 'atrocities': 557, 'abstract': 120, '65': 75, 'trois': 7817, 'vacation': 8066, 'stonehenge': 7226, 'foggy': 2994, 'creatively': 1719, 'execute': 2668, 'iota': 4051, 'identically': 3741, 'improperly': 3810, 'army': 481, 'stephen': 7189, 'rea': 6058, 'disdain': 2127, 'insufferably': 3977, 'naive': 5003, 'meant': 4703, 'quirky': 5989, 'evident': 2629, 'mythologize': 4996, 'heroism': 3555, 'object': 5177, 'golden': 3288, 'eagle': 2338, 'carpet': 1135, 'bitch': 801, 'nostalgia': 5143, 'glory': 3267, 'considerable': 1562, 'julia': 4164, 'roberts': 6385, 'award': 606, 'humility': 3700, 'strut': 7275, 'courage': 1676, 'pin': 5603, 'huckster': 3680, 'label': 4254, 'streak': 7245, 'wide': 8340, 'decorate': 1897, 'byzantine': 1052, 'incarnations': 3829, 'interested': 4002, 'saturday': 6530, 'educational': 2381, 'animatronic': 393, 'apparatus': 435, 'hibernation': 3562, 'roger': 6397, 'uproar': 8040, 'mpa': 4949, 'oo': 5247, 'pushes': 5961, 'agenda': 253, 'forcefully': 3018, 'sorry': 7023, 'diabolical': 2050, 'mad': 4548, 'cow': 1688, 'knit': 4231, 'needle': 5055, 'invite': 4045, 'profanity': 5866, 'remark': 6191, 'engineer': 2497, 'probation': 5847, 'officer': 5219, 'few': 2878, 'buff': 1007, 'mar': 4615, 'disastrous': 2108, 'marred': 4640, 'ransom': 6033, 'traps': 7778, 'rubio': 6448, 'tactics': 7461, 'smutty': 6954, 'ranked': 6029, 'performing': 5526, 'qualify': 5970, 'clive': 1364, 'barker': 674, 'mire': 4821, 'allege': 301, 'weave': 8269, 'protective': 5904, 'cocoon': 1396, 'urgent': 8048, 'answer': 406, 'unlikeable': 7988, 'voyeuristic': 8191, 'consume': 1576, 'pig': 5598, 'pallida': 5399, 'demonstration': 1959, 'unsalvageability': 8013, 'tail': 7466, 'sniper': 6962, 'negligible': 5063, 'complexities': 1488, 'bromide': 977, 'slogans': 6926, 'keen': 4190, 'tub': 7836, 'thumpingly': 7653, 'champ': 1201, 'eviction': 2627, 'expands': 2691, 'horizons': 3653, 'boredom': 897, 'collapse': 1411, 'laziness': 4321, 'arrogance': 489, 'tend': 7548, 'hammer': 3442, 'hairless': 3429, 'repackaged': 6215, 'sell': 6652, 'cost': 1659, 'river': 6372, 'discuss': 2125, 'unfold': 7957, 'provide': 5910, 'transgression': 7769, 'stubborn': 7277, 'unsettle': 8017, 'stately': 7170, 'settle': 6709, 'nurse': 5173, 'pilot': 5602, 'olympic': 5233, 'weaken': 8258, 'hangover': 3456, 'substandard': 7315, 'encouraging': 2474, 'limits': 4413, 'feathers': 2845, 'familiarity': 2788, 'strip': 7262, 'mercilessly': 4749, '1997': 41, 'fourth': 3058, 'elicit': 2421, 'deja': 1924, 'vu': 8193, 'awe': 611, 'thousand': 7634, 'antisemitic': 415, 'emotionally': 2450, 'dedicate': 1899, 'volleyball': 8185, 'winners': 8368, 'jason': 4108, 'positively': 5734, 'shakesperean': 6737, 'outward': 5321, 'gone': 3292, 'replaced': 6225, 'fulfill': 3123, 'goals': 3276, 'drudgery': 2296, 'epilogue': 2550, 'suspension': 7410, 'disbelief': 2109, 'sieve': 6818, 'buddy': 1005, 'domestic': 2217, 'biopic': 796, 'tongue': 7704, 'dialog': 2051, 'pollyana': 5695, 'favored': 2830, 'artistes': 498, 'fate': 2822, 'content': 1590, 'perception': 5513, 'jones': 4140, 'diary': 2056, 'originality': 5288, 'fisher': 2932, 'jesse': 4124, 'castro': 1149, 'gray': 3352, 'savage': 6532, 'garden': 3176, 'resume': 6281, 'zoe': 8495, 'clarke': 1323, 'enemies': 2486, 'stereotypical': 7196, 'caretaker': 1128, 'teachers': 7515, 'athletes': 550, 'linking': 4423, 'sloppiness': 6927, 'misguide': 4834, 'pain': 5385, 'cancer': 1089, 'zeitgeist': 8490, 'alto': 327, 'quarter': 5973, 'advise': 222, 'egregious': 2397, 'lip': 4427, 'lynch': 4535, '5ths': 72, 'franc': 3068, 'relate': 6165, 'mascots': 4653, 'julian': 4165, 'moore': 4897, 'sympathies': 7446, 'wells': 8292, 'crossing': 1756, 'mount': 4928, 'inclination': 3834, 'cannibal': 1096, 'letter': 4371, 'harris': 3483, 'immediate': 3776, 'pint': 5608, 'goodfellas': 3296, 'objective': 5178, 'chain': 1195, 'guitar': 3407, 'amp': 359, 'apply': 447, 'fully': 3128, 'optimistic': 5269, 'absent': 115, 'cliff': 1352, 'edition': 2377, 'directionless': 2091, 'rollick': 6404, 'weighs': 8284, 'profundities': 5874, 'turns': 7853, 'disquietingly': 2163, 'affirm': 236, 'stiletto': 7212, 'uh': 7873, 'maiden': 4561, 'paycheck': 5486, 'betty': 773, 'handy': 3454, 'voiceless': 8181, 'wild': 8348, 'boo': 885, 'sensation': 6663, 'definitive': 1916, 'counter': 1667, 'document': 2202, 'inquisitive': 3938, 'recover': 6108, 'fulfil': 3122, 'incongruous': 3841, 'defeated': 1907, 'banker': 657, 'bog': 863, 'kennedy': 4196, 'assassination': 523, 'reveal': 6294, 'pathology': 5467, 'investigate': 4039, 'bogs': 866, 'anemia': 379, 'impostor': 3801, 'previously': 5821, 'adopt': 207, 'guise': 3406, 'charged': 1221, 'erratic': 2571, 'incapable': 3828, 'uncertain': 7896, 'forced': 3016, 'staggering': 7138, 'misbegotten': 4824, 'dig': 2072, 'ended': 2479, 'divide': 2191, 'dysfunctional': 2333, 'overinflated': 5333, 'mythology': 4997, 'partridge': 5444, 'spectacularly': 7061, 'throughout': 7647, 'daggers': 1815, 'devices': 2042, 'coarse': 1391, 'troll': 7818, 'opposites': 5261, 'sanders': 6512, 'hugh': 3685, 'grant': 3341, 'sandra': 6514, 'bullock': 1015, 'synergistic': 7449, 'impulse': 3817, '91': 92, 'coherent': 1402, 'rhythm': 6326, 'enigma': 2504, 'kazan': 4188, 'reversal': 6300, 'fortune': 3048, 'bout': 913, 'disservice': 2166, 'mourn': 4930, 'spirituality': 7090, 'distressingly': 2181, 'abide': 106, 'hallucinogenic': 3440, 'buzz': 1049, 'overwhelming': 5357, 'spine': 7080, 'participate': 5437, 'sanction': 6510, 'sermon': 6694, 'health': 3513, 'insurance': 3980, 'kidnapper': 4205, 'emphasize': 2456, 'named': 5006, 'hairpiece': 3430, 'lai': 4272, 'villainous': 8146, 'graveyard': 3350, 'dodge': 2206, 'sc2': 6538, 'autopilot': 595, 'connection': 1551, 'blip': 833, 'radar': 6002, 'baffled': 636, 'uncut': 7907, 'vicious': 8122, 'increasingly': 3846, 'cycle': 1807, 'madness': 4552, 'invent': 4032, 'invented': 4033, 'clumsiness': 1383, 'censure': 1182, 'dot': 2236, 'commonplace': 1460, 'seam': 6616, 'underbelly': 7914, 'criminal': 1740, 'dropping': 2291, 'bypass': 1051, 'trivialize': 7815, 'wheel': 8309, '99': 97, 'stink': 7219, 'punch': 5942, 'brilliance': 963, 'dare': 1834, 'thematically': 7596, 'bowel': 915, 'movements': 4938, 'indictment': 3862, 'unabridged': 7883, 'greed': 3360, 'materialism': 4674, 'suspend': 7407, 'proper': 5895, 'scooters': 6584, 'frighten': 3108, 'fee': 2850, 'seemed': 6639, 'expiration': 2703, 'masturbation': 4668, 'elephant': 2417, 'searching': 6620, 'unintended': 7970, 'humorous': 3703, 'favorite': 2831, 'pet': 5557, 'bury': 1034, 'unify': 7967, 'dock': 2199, 'accidental': 134, 'relegate': 6173, 'corner': 1647, 'meets': 4723, 'skippable': 6888, 'hayseeds': 3505, 'bigger': 785, 'setpieces': 6706, 'boom': 888, 'porno': 5720, 'lust': 4530, 'cannes': 1095, 'capture': 1114, 'sole': 6983, 'sing': 6851, 'lyric': 4537, 'tonight': 7705, 'moviegoing': 4943, 'dominate': 2218, 'calculate': 1063, 'reddy': 6115, 'side': 6815, 'fright': 3107, 'proverbial': 5908, 'improvement': 3812, 'prod': 5858, 'chirp': 1272, 'songid': 7006, 'grudge': 3395, 'upper': 8038, 'eat': 2359, 'cotton': 1663, 'euphemism': 2599, 'flag': 2940, 'angry': 385, 'hotspots': 3668, 'henry': 3547, 'kiss': 4222, 'larry': 4297, 'et': 2590, 'al': 282, 'conveyor': 1622, 'belt': 751, 'parade': 5412, 'infatuate': 3894, 'expose': 2717, 'basic': 693, 'exposes': 2718, 'jordan': 4141, 'glover': 3269, 'snide': 6961, 'hockey': 3606, 'cellist': 1177, 'insights': 3951, 'debate': 1873, 'media': 4712, '90s': 91, 'involving': 4049, 'silbersteins': 6828, 'profoundly': 5873, 'meanspirited': 4702, 'credibility': 1725, 'populating': 5714, 'arrest': 485, 'development': 2039, 'existence': 2681, 'vein': 8097, 'closer': 1372, 'third': 7618, 'revenge': 6298, 'nerds': 5073, '140': 18, 'circumstances': 1307, 'scare': 6547, 'sane': 6516, 'coat': 1392, 'shop': 6780, 'porn': 5719, 'bank': 656, 'manager': 4590, 'maddeningly': 4549, 'senate': 6658, 'elizabeth': 2422, 'hurler': 3710, 'overpower': 5342, 'forest': 3027, 'disorientate': 2154, 'intellectually': 3988, 'logistical': 4466, 'eternal': 2592, 'rique': 6363, 'indifference': 3865, 'your': 8482, 'succeeded': 7326, 'outwardly': 5322, 'unsuccessful': 8023, 'scent': 6557, 'bath': 699, 'yourself': 8483, 'pray': 5765, 'resolution': 6257, 'seat': 6623, 'bankset': 659, 'trifecta': 7806, 'counterculture': 1668, 'affinity': 235, 'simplify': 6841, 'neatly': 5048, 'supposedly': 7381, 'deem': 1902, 'fell': 2858, 'bang': 655, 'front': 3112, 'cluelessness': 1382, 'misplace': 4839, 'earnestness': 2346, 'during': 2322, 'below': 750, 'usher': 8057, 'approached': 453, 'cruelty': 1765, 'crucial': 1762, 'commentary': 1451, 'shoplifts': 6781, 'farewell': 2807, 'innocence': 3931, 'wanderers': 8217, 'bronx': 978, 'climb': 1356, 'genuinely': 3217, 'defy': 1917, 'efforts': 2393, 'iceberg': 3727, 'melt': 4731, 'understandable': 7933, 'motivation': 4923, 'diplomat': 2086, 'tweak': 7857, 'spacecraft': 7038, 'thousands': 7635, 'millions': 4803, 'bravely': 932, 'greater': 3356, 'littered': 4442, 'cult': 1779, 'phenomenon': 5565, 'dying': 2330, 'evade': 2604, 'responsibilities': 6269, 'toddler': 7690, 'columbus': 1426, 'stifle': 7210, 'creativity': 1720, 'bowling': 917, 'allows': 308, 'program': 5875, 'initiative': 3926, 'innumerable': 3937, 'drowned': 2294, 'willingly': 8356, 'dawn': 1850, 'farm': 2808, 'judgment': 4159, 'stultifyingly': 7286, 'franco': 3072, 'excellent': 2649, 'wall': 8208, 'combustible': 1434, 'hustle': 3715, 'transcendent': 7762, 'sony': 7009, 'treat': 7787, 'credulous': 1728, 'subordinate': 7310, 'treats': 7790, 'naturally': 5030, 'julie': 4166, 'provocation': 5913, 'cheapen': 1235, 'decide': 1888, 'nowheresville': 5163, 'tells': 7543, 'constant': 1570, 'suddenly': 7340, 'transport': 7774, 'continuity': 1597, 'scrutiny': 6612, '104': 6, 'corniness': 1648, 'jackets': 4092, 'candid': 1090, 'accident': 133, 'solace': 6980, 'ponders': 5701, 'futile': 3149, 'moviemakers': 4945, 'crash': 1705, 'keg': 4195, 'works': 8422, 'unfortunate': 7961, 'gibson': 3238, 'braveheart': 931, 'irrepressible': 4064, 'cuba': 1772, 'jr': 4155, 'boisterous': 869, 'exists': 2685, 'tug': 7841, 'spreads': 7114, 'commune': 1462, 'thumbs': 7652, 'ailments': 271, 'dearth': 1870, 'vitality': 8174, 'inflect': 3900, 'german': 3223, 'industry': 3881, 'food': 3005, 'wallet': 8210, 'swine': 7434, 'precisely': 5773, 'recompense': 6103, 'repetitions': 6222, 'authority': 592, 'gem': 3192, 'pantheon': 5406, 'wreckage': 8443, 'battlefield': 704, 'showgirls': 6799, 'enters': 2525, 'thanksgiving': 7585, 'highest': 3571, 'alas': 284, 'victimize': 8124, 'divine': 2192, 'sisterhood': 6862, 'ploddingly': 5661, 'technological': 7525, 'juice': 4162, 'chatter': 1233, 'parrot': 5434, 'oprah': 5264, 'january': 4104, 'lend': 4355, 'utf': 8061, 'fireball': 2926, 'inexpressible': 3892, 'insecure': 3943, 'prescription': 5798, 'wewannour': 8304, 'deserving': 2003, 'backlash': 629, 'alike': 298, 'russell': 6472, 'capricious': 1108, 'lightweight': 4400, 'intermediary': 4006, 'passages': 5448, 'triteness': 7812, 'service': 6700, 'hoping': 3651, 'exhibits': 2676, 'sensationalism': 6665, 'arrived': 487, 'playoff': 5646, 'again': 250, 'senior': 6662, 'beach': 706, 'boardwalk': 855, 'tissue': 7683, 'bias': 778, 'ignore': 3751, 'musicians': 4978, 'hypocrisy': 3721, 'downtown': 2247, 'iranian': 4054, 'grouchy': 3388, 'ayatollah': 620, 'mosque': 4915, 'regulatory': 6153, 'medically': 4714, 'nor': 5136, 'terminal': 7561, 'inexcusable': 3889, 'calm': 1071, 'agitprop': 262, 'symptom': 7448, 'awry': 619, 'lapse': 4290, 'avalanche': 597, 'fuzziness': 3153, 'milk': 4797, 'absolute': 116, 'tony': 7706, 'dayton': 1857, 'reduced': 6124, 'villages': 8144, 'incinerate': 3833, 'frank': 3073, 'threat': 7637, 'universal': 7980, 'fluffy': 2987, 'kills': 4211, 'morally': 4901, 'bankrupt': 658, 'innate': 3929, 'theatrical': 7592, 'luster': 4531, 'flatten': 2952, 'piano': 5586, 'cynicism': 1810, 'hobby': 3605, 'photography': 5580, 'muddy': 4959, 'explosive': 2716, 'array': 484, 'occasional': 5196, 'sneak': 6958, 'enthusiasm': 2535, 'curiosity': 1790, 'via': 8117, 'indifferent': 3866, 'sixth': 6872, 'height': 3535, 'abysmally': 126, 'connections': 1552, 'childlike': 1263, 'quirk': 5988, 'academy': 127, 'actresses': 174, 'discern': 2111, 'genius': 3210, 'adolescent': 206, 'electro': 2409, 'rebellion': 6084, 'helper': 3544, 'dependence': 1971, 'tome': 7699, 'subtle': 7319, 'am': 330, 'offended': 5213, 'slant': 6898, 'deadeningly': 1862, 'drifts': 2281, 'dragonfly': 2255, 'identification': 3742, 'paranormal': 5421, 'poster': 5743, 'dudsville': 2307, 'genesis': 3205, 'disneyland': 2152, 'expression': 2721, 'boasting': 857, 'breast': 943, 'equip': 2561, 'examine': 2640, 'interior': 4005, 'shows': 6800, 'holy': 3628, 'innovative': 3935, 'realistic': 6073, 'translation': 7771, 'brightest': 961, 'absurdity': 123, 'lost': 4492, 'pride': 5825, 'others': 5298, 'dollars': 2213, 'elsewhere': 2427, 'conviction': 1623, 'repellantly': 6221, 'faulty': 2826, 'follows': 3001, 'exclamation': 2662, 'drawer': 2267, 'eloquent': 2425, 'creates': 1714, 'outline': 5313, 'effortlessly': 2392, 'disadvantage': 2100, 'endure': 2485, 'languorous': 4288, 'happiness': 3463, 'pave': 5480, 'dozens': 2250, 'panorama': 5403, 'paths': 5468, 'niche': 5093, 'hoku': 3610, 'churlish': 1294, 'receive': 6087, 'chelsea': 1247, 'hotel': 3666, 'starve': 7168, 'depict': 1974, 'worry': 8429, 'oldid': 5230, 'ebullient': 2361, 'industrial': 3880, 'inform': 3904, 'endlessly': 2481, 'giving': 3250, 'conversations': 1618, 'checkout': 1241, 'mug': 4961, 'bmw': 851, 'harangue': 3465, 'train': 7758, 'shift': 6760, 'leftover': 4346, 'substantial': 7316, 'obscure': 5185, 'cocktail': 1395, 'olives': 5231, '1962': 34, 'tarnish': 7496, 'monosyllabic': 4881, 'rightful': 6350, 'debt': 1876, 'miramax': 4820, 'salvo': 6501, 'discernible': 2112, 'expressly': 2726, 'sewage': 6720, 'shovel': 6792, 'mental': 4745, 'simulate': 6844, 'sustenance': 7413, 'snail': 6955, 'martha': 4645, 'stewart': 7203, 'amor': 355, 'based': 688, 'department': 1967, 'repel': 6220, 'variation': 8085, 'rlitz': 6376, 'assassins': 524, 'boss': 901, 'resourceful': 6263, 'amnesia': 353, 'damon': 1824, 'predicament': 5779, 'properly': 5896, 'accurately': 148, 'doh': 2210, 'lima': 4407, 'abilities': 107, 'reveals': 6295, 'stir': 7220, 'rumped': 6460, 'aisles': 280, 'bathroom': 700, 'showdown': 6797, 'bushy': 1037, 'peas': 5494, 'reference': 6130, 'sleepwalk': 6912, 'vulgarities': 8197, 'enterprise': 2524, 'gives': 3249, 'joint': 4135, 'association': 533, 'teenaged': 7531, 'lil': 4405, 'bow': 914, 'wow': 8439, 'strange': 7242, 'damaged': 1819, 'goods': 3298, 'wake': 8203, 'coma': 1429, 'pulls': 5937, 'reasonably': 6082, 'grader': 3324, 'inner': 3930, 'city': 1309, 'morality': 4900, 'anybody': 420, 'learn': 4333, 'lesson': 4366, 'nobody': 5111, 'existentialism': 2684, 'forever': 3029, 'verge': 8107, 'crack': 1693, 'problematic': 5851, 'futility': 3150, 'mass': 4658, 'evacuations': 2603, 'distinctions': 2174, 'qualities': 5971, 'chaotic': 1209, 'amalgam': 331, 'filler': 2900, 'goldberg': 3287, 'distinctly': 2176, 'par': 5410, 'drivers': 2287, 'rally': 6016, 'standby': 7153, 'triumph': 7813, 'malarkey': 4579, 'establish': 2583, 'ardent': 466, 'extend': 2728, '101': 3, 'molestation': 4869, 'exploiting': 2709, 'stiflingly': 7211, 'tantamount': 7490, 'serviceable': 6701, 'elegant': 2412, 'unrelated': 8007, 'rife': 6344, 'duty': 2326, 'faux': 2827, 'vibe': 8119, 'hotter': 3669, 'mi': 4777, 'concession': 1519, 'philip': 5566, 'cd': 1171, 'contrivances': 1605, 'miscalculate': 4825, 'fiddle': 2883, 'miscalculates': 4826, 'patch': 5461, 'police': 5686, 'cleverly': 1346, 'directs': 2097, 'witherspoon': 8385, 'legally': 4349, 'alabama': 283, 'wasting': 8242, 'harrow': 3485, 'consigliere': 1564, 'pronounce': 5891, 'tame': 7485, 'slightly': 6922, 'fred': 3081, 'schepisi': 6561, 'paced': 5369, 'chiefly': 1259, 'humanity': 3692, 'desultory': 2023, 'stainless': 7141, 'flibbertigibbet': 2968, 'contradictory': 1601, 'ram': 6018, 'dass': 1842, 'boomer': 889, 'psychopathic': 5927, 'pulp': 5938, 'flipped': 2977, 'somnambulant': 7003, 'pervasive': 5552, 'quiet': 5984, 'frequent': 3090, 'pressure': 5809, 'cooker': 1633, 'unabashedly': 7881, 'consumers': 1577, 'studiously': 7282, 'mall': 4585, 'times': 7672, 'mcdormand': 4691, 'marcus': 4619, 'illogical': 3757, 'singing': 6855, 'snap': 6957, 'brooklyn': 982, 'naturalness': 5031, 'cousin': 1684, 'feeder': 2851, 'member': 4734, 'professional': 5867, 'ame': 346, 'sundance': 7362, 'contemptible': 1586, 'snl': 6963, 'roberto': 6384, 'buried': 1027, 'accompany': 137, 'screenful': 6598, 'gamesmanship': 3168, 'tough': 7732, 'startle': 7166, 'decipherable': 1891, 'serials': 6689, '30s': 59, '40s': 62, 'sam': 6502, 'flagellation': 2941, 'circa': 1304, '1960': 33, 'sellers': 6653, 'kenneth': 4197, 'encounter': 2471, 'fifth': 2890, 'soak': 6967, 'cardiac': 1121, 'lawn': 4314, 'chair': 1197, 'assumption': 535, 'innocent': 3932, 'inherently': 3921, 'radioactive': 6007, 'disinterested': 2142, 'syrup': 7450, 'astronomical': 546, 'passable': 5447, 'ed': 2372, 'vampires': 8078, 'advance': 216, 'excruciatingly': 2665, 'urine': 8050, 'semen': 6654, 'substances': 7314, 'cookie': 1634, 'cutter': 1805, 'max': 4683, 'careless': 1127, 'abc': 102, 'shootout': 6779, 'delay': 1926, 'ruins': 6457, 'court': 1680, 'maneuver': 4593, 'com': 1428, 'hitting': 3600, 'risky': 6367, 'broomfield': 983, 'journalism': 4145, 'avid': 601, 'impatient': 3785, 'moon': 4896, 'zz': 8500, 'pagan': 5379, 'intimacy': 4017, 'dorm': 2233, 'coda': 1397, 'dogmatic': 2209, 'manipulativeness': 4603, 'narrow': 5019, 'fearful': 2838, 'unlimited': 7990, 'bait': 641, 'romero': 6415, 'protagonists': 5902, 'order': 5278, 'taken': 7472, 'importance': 3797, 'possess': 5735, 'dense': 1964, 'gh': 3229, 'capacity': 1103, 'church': 1293, 'flagrant': 2942, 'thunderstorms': 7654, 'poker': 5684, 'rowdy': 6443, 'unmentionables': 7994, 'forward': 3050, 'lake': 4274, 'afterwards': 249, '98': 96, 'destructiveness': 2022, 'amanda': 332, 'obsessive': 5191, 'rampant': 6021, 'adultery': 214, 'hideousness': 3567, 'breathless': 946, 'anticipation': 413, 'hal': 3431, 'harley': 3477, 'pore': 5717, 'guarantee': 3397, 'disrespect': 2165, 'knucklehead': 4239, 'irresponsible': 4066, 'sets': 6707, 'musicals': 4977, 'judaism': 4157, 'rehearse': 6156, 'pessimistic': 5556, 'unflinching': 7956, 'visceral': 8162, 'amazingly': 339, 'immerse': 3780, 'section': 6632, 'romp': 6416, 'scott': 6591, 'alert': 289, 'turf': 7848, '1958': 31, 'machismo': 4544, 'subplot': 7311, 'stamina': 7147, 'cottage': 1662, 'education': 2380, 'uproariously': 8042, 'aos': 424, 'neglecting': 5062, 'endorsement': 2482, 'column': 1427, 'completions': 1486, 'restrictive': 6277, 'mornings': 4911, 'tonal': 7702, 'danny': 1833, 'forfeit': 3030, 'perfunctory': 5527, 'chop': 1279, 'resonant': 6260, 'ola': 5227, 'softheaded': 6979, 'metaphysical': 4768, 'norton': 5140, 'recite': 6093, 'procedural': 5854, 'detail': 2025, 'distance': 2167, 'travesty': 7783, 'unparalleled': 8000, 'legendary': 4351, 'identity': 3743, 'falling': 2783, 'stylistically': 7298, 'closeness': 1371, 'stunning': 7290, 'ruined': 6456, 'misogyny': 4838, 'er': 2564, 'volcano': 8184, 'septic': 6683, 'tank': 7489, 'forage': 3013, 'temperament': 7544, 'decret': 1898, 'reprieve': 6234, 'whine': 8320, 'foot': 3008, 'slapping': 6901, '000': 0, 'cox': 1690, 'photos': 5582, 'nijinsky': 5105, 'hodgepodge': 3607, 'hickenlooper': 3563, 'documentaries': 2203, 'smack': 6936, 'undergrad': 7921, 'fancy': 2797, 'table': 7454, 'macron': 4547, 'exemplify': 2672, 'largest': 4295, 'represents': 6232, 'mom': 4871, 'she': 6751, 'regurgitate': 6154, 'successes': 7329, 'hypocritical': 3722, 'liberation': 4383, 'wane': 8218, 'grizzly': 3381, 'these': 7605, 'mason': 4656, 'sensibilities': 6668, 'decision': 1892, 'bare': 670, 'dire': 2087, 'lucky': 4519, 'outage': 5305, 'relocate': 6185, 'fuzzy': 3154, 'nyc': 5175, 'edward': 2382, 'button': 1046, 'items': 4084, 'social': 6972, 'lipid': 4428, 'convey': 1621, 'xx': 8455, 'virtuosity': 8157, 'crapulence': 1704, 'slander': 6897, 'delinquent': 1939, 'paperback': 5409, 'leather': 4338, 'warriors': 8231, 'switchblade': 7437, 'dazzle': 1858, 'remaster': 6194, 'impetuousness': 3790, 'import': 3796, 'sophie': 7013, 'motives': 4925, 'repugnant': 6237, 'glazed': 3256, 'spontaneity': 7101, 'epiphanies': 2551, 'decided': 1889, 'precede': 5769, 'airline': 278, 'weather': 8268, 'countenance': 1666, 'meyer': 4776, 'ridiculously': 6342, 'elbow': 2405, 'knees': 4229, 'oversee': 5346, 'forty': 3049, 'enchantment': 2469, 'goddammit': 3279, 'postal': 5741, 'passionate': 5452, 'truthful': 7833, 'timid': 7673, '1991': 39, 'rover': 6441, 'unremittingly': 8011, 'example': 2641, 'dv': 2327, 'artistry': 501, 'diaz': 2057, 'disciplined': 2114, 'shut': 6805, 'decisive': 1894, 'nettelbeck': 5078, 'luckiest': 4518, 'ignorant': 3750, 'pinheads': 5604, 'griffin': 3369, 'facies': 2758, 'ounce': 5301, 'unrelentingly': 8009, 'remote': 6202, 'tagline': 7463, 'lucid': 4516, 'heaven': 3526, 'deces': 1887, 'miscalculation': 4827, 'explode': 2706, '500': 68, 'bub': 1000, 'languish': 4287, 'irritated': 4069, 'invested': 4038, 'undergraduate': 7922, 'disturbance': 2183, 'reinforcement': 6158, 'fills': 2902, 'looked': 4475, 'marquee': 4637, '800': 82, 'losses': 4491, 'retitled': 6287, 'arguments': 475, 'scheme': 6560, 'treachery': 7785, 'permeate': 5533, 'esque': 2578, 'irish': 4056, 'pub': 5928, 'affected': 232, 'elevate': 2418, 'scenarios': 6552, 'harmonize': 3481, 'okay': 5226, 'arrogant': 490, 'richard': 6332, 'prior': 5837, 'unimaginatively': 7968, 'apps': 455, 'natural': 5027, 'affability': 229, 'tucker': 7839, 'bind': 791, 'tube': 7837, 'christian': 1285, 'bright': 960, 'pre': 5766, 'excessively': 2657, 'paw': 5481, 'un': 7880, 'variant': 8084, 'nincompoop': 5106, 'sandlerian': 6513, 'matchid': 4672, 'linger': 4420, 'creepiness': 1731, 'atrice': 555, 'weighted': 8286, 'grit': 3379, 'vulnerability': 8198, 'theorize': 7601, 'expressionist': 2722, 'accord': 143, 'trio': 7810, 'illiterate': 3755, 'elfriede': 2420, 'delink': 1938, 'psychologically': 5924, 'persuasive': 5550, 'inconclusive': 3840, 'obligation': 5180, 'hoard': 3604, 'decades': 1879, 'epics': 2549, 'strive': 7264, 'intimate': 4018, 'socially': 6973, 'encompass': 2470, 'plaster': 5634, 'precocious': 5776, 'plastered': 5635, 'reading': 6067, 'rocky': 6395, 'spill': 7078, 'projector': 5881, 'lens': 4360, 'unsuccessfully': 8024, 'proc': 5853, 'nation': 5024, 'designed': 2005, 'unusually': 8029, 'impressively': 3807, 'fuss': 3148, 'struck': 7270, 'viewpoint': 8140, 'ritter': 6368, 'malleable': 4586, 'filmgoers': 2904, 'preliminary': 5791, 'fragmentary': 3064, 'pierce': 5597, 'rugby': 6453, 'trance': 7759, 'noir': 5113, 'trumpet': 7829, 'founders': 3055, 'biographical': 793, 'adhere': 195, 'messiness': 4762, 'movable': 4935, 'discretion': 2124, 'coke': 1406, 'rocket': 6394, 'scientist': 6579, 'mormon': 4909, 'predispose': 5783, 'klein': 4227, 'unflattering': 7955, 'comparisons': 1470, 'installments': 3967, 'transvestite': 7775, 'annum': 403, 'news': 5089, 'causes': 1168, 'admit': 202, 'runteldat': 6466, 'tweet': 7858, 'slick': 6916, 'decade': 1878, 'malls': 4587, 'iconic': 3730, 'traditional': 7748, 'popcorn': 5708, 'arbitrary': 458, 'mannerisms': 4608, 'cue': 1775, 'sophistication': 7016, 'wearable': 8263, 'loss': 4490, 'nosedive': 5142, 'alfred': 291, 'hitchcock': 3595, 'flight': 2971, 'articulate': 493, 'notable': 5146, 'observation': 5187, 'gas': 3180, 'singer': 6852, 'cake': 1060, 'bleed': 826, 'verve': 8113, 'dehumanizing': 1922, 'spooky': 7105, 'demise': 1952, 'dusty': 2324, 'leatherbound': 4339, 'stan': 7149, '24': 51, 'markers': 4634, 'preordain': 5793, 'journalistically': 4148, 'priggish': 5826, 'lethargically': 4369, 'renewal': 6209, 'unforgivingly': 7960, 'depiction': 1975, 'mcculloch': 4689, 'maintain': 4566, 'finds': 2918, 'subjugate': 7305, 'pistol': 5614, 'pyrotechnic': 5965, 'hong': 3638, 'kong': 4240, 'aesthetic': 226, 'cure': 1788, 'insomnia': 3958, 'coupling': 1675, 'disgraceful': 2129, 'scorchingly': 6586, 'miserably': 4830, 'dreadfulness': 2273, 'purposefully': 5957, 'criticize': 1749, 'prisons': 5840, 'glacial': 3251, 'confuses': 1545, 'rehash': 6155, 'unclean': 7901, 'mary': 4651, 'pie': 5595, 'celebs': 1176, 'smith': 6947, 'suburban': 7322, 'segment': 6643, 'loop': 4479, 'host': 3663, 'tighten': 7663, 'wishing': 8380, 'respect': 6265, 'laws': 4316, 'correctness': 1654, 'decency': 1883, 'withhold': 8386, 'aspect': 518, 'grayish': 3353, 'cared': 1123, 'overweight': 5355, 'referential': 6131, 'jewish': 4126, 'sending': 6660, 'markedly': 4632, 'inactive': 3822, 'conversational': 1617, 'confessional': 1531, 'bastard': 695, 'rig': 6346, 'sunk': 7364, 'actorliness': 171, 'argentina': 471, 'flower': 2984, 'bull': 1013, 'sessions': 6704, 'captivate': 1110, 'participants': 5436, 'shutter': 6806, 'reminiscent': 6201, 'interesting': 4003, 'tags': 7464, 'flair': 2943, 'clip': 1363, 'sits': 6867, 'girlfriends': 3245, 'wive': 8392, 'baby': 622, 'burnt': 1031, 'teenybopper': 7534, 'replete': 6226, 'pubescens': 5930, 'scandalous': 6543, 'exoticism': 2689, 'pax': 5483, 'pulled': 5935, 'conceivable': 1508, 'perpetrate': 5536, 'perpetually': 5537, 'hazy': 3506, 'benchmark': 754, 'liken': 4404, 'babysitter': 623, 'got': 3310, 'seal': 6615, 'indefinitely': 3853, '21': 48, 'introspective': 4028, 'entertaining': 2528, 'ethnography': 2597, 'betrayal': 771, 'deceit': 1882, 'thrilling': 7642, 'midwife': 4787, 'rooted': 6422, 'modest': 4864, 'dizzily': 2195, 'gorgeous': 3306, 'impeccable': 3786, 'runaway': 6462, 'amusing': 363, 'primary': 5829, 'goal': 3274, 'fighter': 2894, 'shiner': 6767, 'nerve': 5074, 'they': 7607, 'aunt': 581, 'jurists': 4176, 'experimental': 2701, 'singers': 6853, 'tackled': 7458, 'engaging': 2495, 'refresh': 6137, 'impressed': 3803, 'heartfelt': 3521, 'predecessors': 5778, 'proud': 5906, 'richer': 6333, 'inventive': 4035, 'sexy': 6728, 'fascinating': 2812, 'proficiency': 5869, 'recommended': 6102, 'wonderful': 8402, 'invigorating': 4041, 'surreal': 7395, 'rainbow': 6011, 'ethics': 2595, 'zhuangzhuang': 8494, 'masterful': 4662, 'returns': 6292, 'pinnacle': 5605, 'demons': 1955, 'wallflower': 8211, '300': 57, 'russian': 6473, 'compress': 1501, 'evanescent': 2606, 'seamless': 6617, 'sumptuous': 7360, 'stream': 7246, 'polski': 5696, 'hopefully': 3647, 'potent': 5749, 'rivet': 6373, 'sarah': 6521, 'riveting': 6374, 'narcissistic': 5015, 'beautiful': 713, 'detectable': 2027, 'diversion': 2189, 'portrait': 5724, 'powerful': 5757, 'idealistic': 3737, 'champion': 1202, 'darkness': 1838, 'unpredictable': 8003, 'intriguing': 4024, 'intoxication': 4021, 'sleek': 6908, 'amaze': 337, 'instrument': 3975, 'amazing': 338, 'giannini': 3235, 'abel': 104, 'ferrari': 2867, 'dangerous': 1830, 'america': 347, 'lush': 4529, 'rhapsodize': 6322, 'clutter': 1387, 'shainberg': 6733, 'gaitskill': 3164, 'brilliantly': 965, 'charming': 1228, 'beautifully': 714, 'nostalgic': 5144, 'yarn': 8462, 'crafted': 1697, 'imbue': 3769, 'familial': 2786, 'uplift': 8035, 'uplifting': 8036, 'literate': 4439, 'monte': 4888, 'shortly': 6786, 'omit': 5235, 'swordfights': 7439, 'emphasizes': 2457, 'renowned': 6211, 'indian': 3858, 'supernatural': 7376, 'parapsychological': 5423, 'phenomena': 5563, 'soulful': 7026, 'nuances': 5166, 'rich': 6331, 'fuscous': 3144, 'vent': 8100, 'strikes': 7258, 'retro': 6289, 'chord': 1281, 'outages': 5306, 'contemporaries': 1584, 'roar': 6380, 'miyazaki': 4852, 'wondrously': 8406, 'artists': 502, 'storyteller': 7236, 'offbeat': 5211, 'geoffrey': 3218, 'regio': 6148, 'shin': 6765, 'lonely': 4469, 'beacon': 707, 'shines': 6768, 'generous': 3204, 'silver': 6833, 'outer': 5311, 'eerie': 2384, 'fused': 3146, 'diverse': 2188, 'feeling': 2853, 'joyous': 4154, 'boundaries': 909, 'celebrate': 1172, 'films': 2909, 'confident': 1533, 'destination': 2016, 'woods': 8410, 'superb': 7368, 'photograph': 5577, 'mend': 4744, 'poem': 5676, 'mesmerizing': 4758, 'sharp': 6746, 'inspires': 3964, 'robinson': 6387, 'web': 8272, 'frenzy': 3089, 'austin': 584, 'appearance': 441, 'clinical': 1362, 'objectivity': 5179, 'baseman': 690, 'warmest': 8227, 'insects': 3942, 'evolve': 2634, 'atmospheric': 554, 'meditation': 4718, 'experiment': 2700, 'judith': 4160, 'gaza': 3186, 'bedroom': 722, 'sensual': 6673, 'undertake': 7937, 'breathtaking': 947, 'covered': 1686, 'drum': 2298, 'leigh': 4354, 'spare': 7042, 'attach': 558, 'willie': 8355, 'organize': 5283, 'beast': 711, 'honesty': 3637, 'written': 8451, 'wondrous': 8405, 'apex': 429, 'enigmatic': 2505, 'hallucinatory': 3439, 'requiem': 6242, 'individual': 3870, 'prism': 5838, 'beliefs': 740, 'prejudice': 5790, 'peace': 5490, 'leguizamo': 4353, 'uniformly': 7966, 'della': 1945, 'paula': 5478, 'multilayered': 4963, 'averse': 600, 'secretary': 6629, 'clinic': 1361, 'gyllenhaal': 3418, 'suspenseful': 7409, 'musical': 4976, 'kouyate': 4246, 'governments': 3315, 'asylum': 548, 'jia': 4127, 'moist': 4867, 'throat': 7645, 'washington': 8236, 'guaranteed': 3398, 'affirming': 237, 'laughing': 4308, 'anchor': 373, 'admirable': 198, 'believer': 744, 'cheer': 1243, 'sends': 6661, 'breadth': 939, 'poignant': 5680, 'animals': 389, 'hearts': 3522, 'wry': 8453, 'affectionate': 234, 'peril': 5530, 'brush': 995, 'calamity': 1062, 'brings': 967, 'awareness': 609, 'politically': 5691, 'widely': 8341, 'thoughtfulness': 7631, 'directorial': 2095, 'stamp': 7148, 'stylish': 7295, 'visualize': 8170, 'handsome': 3453, 'captures': 1115, 'comics': 1445, 'quietly': 5985, 'someplace': 6998, 'absorption': 119, 'otherness': 5297, 'connive': 1553, 'flows': 2985, 'twisted': 7864, 'robberies': 6382, 'jean': 4114, 'claude': 1334, 'dame': 1820, 'soars': 6970, 'prowess': 5916, 'react': 6061, 'locations': 4459, 'urgently': 8049, 'mercy': 4750, 'inventiveness': 4036, 'stopped': 7228, 'thinking': 7616, 'started': 7165, 'doing': 2211, 'reacting': 6062, 'purely': 5952, 'multi': 4962, 'layer': 4319, 'humanist': 3690, 'gently': 3215, 'knowledge': 4235, 'geographical': 3219, 'displacement': 2158, 'costume': 1661, 'renaissance': 6205, 'spain': 7040, 'streamline': 7247, 'lift': 4393, 'contribute': 1603, 'grossing': 3385, 'sublist': 7307, 'melancholy': 4727, 'unmarried': 7992, 'classification': 1330, 'gems': 3193, 'stuart': 7276, 'calibrate': 1066, 'treasure': 7786, 'rival': 6370, 'animations': 392, 'vintage': 8151, 'rivals': 6371, 'penalty': 5504, 'luminous': 4523, 'evocative': 2631, 'euphoria': 2600, 'standing': 7154, 'town': 7740, 'deplete': 1978, 'yesterday': 8471, 'brand': 927, 'tomorrow': 7700, 'integrate': 3983, 'revelations': 6297, 'audited': 577, 'successfully': 7331, 'different': 2068, 'india': 3857, 'popular': 5710, 'jagjit': 4098, 'singh': 6854, 'wiser': 8378, 'fortnight': 3047, 'mat': 4669, 'regardless': 6146, 'bio': 792, 'einstein': 2401, 'meditative': 4719, 'baba': 621, 'params': 5418, 'secret': 6628, 'ballot': 651, 'humane': 3688, 'eastern': 2356, 'westbrook': 8300, 'dalrymple': 1817, 'ne': 5044, 'surprising': 7393, 'iosseliani': 4050, 'pleasant': 5650, 'factory': 2762, 'worker': 8417, 'venice': 8099, 'playful': 5644, 'respite': 6267, 'souls': 7028, 'ringside': 6358, 'immersive': 3781, '3d': 60, 'muccino': 4954, 'catharsis': 1162, 'multiplex': 4965, 'provides': 5911, 'lips': 4429, 'extraordinary': 2735, 'variations': 8086, 'joyful': 4152, 'solo': 6988, 'stereotypes': 7195, 'vividly': 8177, 'newcomers': 5086, 'inspirational': 3961, 'form': 3038, 'circle': 1305, 'cheek': 1242, 'warrior': 8230, 'helluva': 3541, 'lander': 4280, 'payback': 5485, 'vivid': 8176, 'unapologetically': 7889, 'bittersweet': 806, 'contemporary': 1585, 'benevolent': 759, 'oddly': 5202, 'dazzling': 1859, 'activate': 166, 'moods': 4894, 'subtly': 7321, 'thomas': 7623, 'careful': 1125, 'activated': 167, 'injure': 3928, 'fume': 3130, 'freshly': 3094, 'rebrand': 6085, 'spectacular': 7060, 'completion': 1485, 'artworks': 507, 'rapport': 6039, 'striking': 7259, 'information': 3905, 'dong': 2221, 'fundamentals': 3134, 'candle': 1092, 'fret': 3097, 'calories': 1073, 'lesser': 4365, 'reflection': 6134, 'glorious': 3266, 'griffith': 3370, 'silent': 6830, 'enthusiastic': 2536, 'literature': 4440, 'liable': 4377, 'cherish': 1251, 'bard': 669, 'loved': 4502, 'tattoo': 7506, 'borrow': 900, 'silence': 6829, 'lamb': 4275, 'follicle': 2999, 'delineate': 1937, 'conflict': 1540, 'institution': 3973, 'preservation': 5804, 'charter': 1230, 'cutting': 1806, 'magnificent': 4559, 'client': 1350, 'efficiently': 2390, 'hatch': 3495, 'zelda': 8491, 'taboo': 7455, 'pan': 5401, 'insightful': 3950, 'fondly': 3003, 'maze': 4688, 'reef': 6127, 'scientists': 6580, 'lovers': 4505, 'lends': 4356, 'filming': 2905, 'awake': 604, 'tense': 7556, 'deny': 1966, 'invincible': 4042, 'astound': 542, 'astounding': 543, 'deceptive': 1886, 'labour': 4259, 'finding': 2917, 'accomplish': 138, 'sip': 6860, 'ivory': 4088, 'tea': 7513, 'richness': 6336, 'imagery': 3763, 'chiaroscuro': 1254, 'creating': 1715, 'durability': 2320, 'intact': 3982, 'sparkle': 7045, 'trove': 7824, 'masculine': 4654, 'ribcage': 6329, 'acre': 160, 'developed': 2037, 'immensely': 3779, 'palette': 5397, 'der': 1989, 'belgium': 739, 'alluding': 310, 'cherry': 1252, 'jessica': 4125, 'stein': 7186, 'kissing': 4223, 'kids': 4206, 'whimsical': 8318, 'bai': 640, 'thoughts': 7633, 'sword': 7438, 'manual': 4610, 'gorgeousness': 3307, 'blue': 847, 'technology': 7526, 'uses': 8056, 'charlotte': 1226, 'unexpectedly': 7948, 'resistance': 6256, 'transcendence': 7761, 'unfolds': 7958, 'ramsay': 6022, 'expanse': 2692, 'welsh': 8293, 'whilst': 8317, 'outstanding': 5319, 'captivating': 1111, 'adorned': 210, 'entertained': 2527, 'encourage': 2472, 'average': 599, 'discovery': 2122, 'sensitivity': 6671, 'packed': 5373, 'burst': 1032, 'incident': 3832, 'fictional': 2882, 'livelier': 4446, 'alternative': 325, 'ideal': 3735, 'ian': 3724, 'holm': 3622, 'heartwarming': 3524, 'bielinsky': 783, 'greatly': 3358, 'enthusiastically': 2537, 'invoke': 4046, 'percussion': 5516, 'brass': 929, 'fierce': 2886, 'competition': 1480, 'march': 4618, 'football': 3010, 'invokes': 4047, 'infuse': 3910, 'inherent': 3920, 'created': 1713, 'thank': 7582, 'ferreira': 2868, 'ontiveros': 5245, 'sensitive': 6670, 'exquisite': 2727, 'anthropomorphic': 409, 'makeup': 4575, 'subtitle': 7318, 'accomplishes': 140, 'emperor': 2453, 'club': 1379, 'conservative': 1560, 'hidebound': 3565, 'traditions': 7750, 'relevance': 6176, 'trial': 7798, 'unexpected': 7947, 'refine': 6132, 'imbued': 3770, 'whip': 8321, 'wonderfully': 8403, 'vote': 8188, 'conception': 1513, 'holographic': 3627, 'librarian': 4385, 'orlando': 5290, 'nicely': 5092, 'knows': 4236, 'unadulterated': 7885, 'avant': 598, 'garde': 3175, 'craze': 1708, 'welcomes': 8290, 'houston': 3676, 'larger': 4294, 'fragile': 3062, 'multiple': 4964, 'strand': 7241, 'finely': 2920, 'transcend': 7760, 'faithful': 2777, 'elect': 2407, 'impose': 3799, 'dynamic': 2331, 'grain': 3330, 'preserve': 5805, 'armor': 480, 'communicate': 1463, 'loves': 4506, 'charlie': 1225, 'dunam': 2317, 'repress': 6233, 'dickensian': 2058, 'measured': 4706, 'rates': 6050, 'measuring': 4707, 'splinter': 7099, 'sweetness': 7424, 'accomplishments': 142, 'charles': 1224, 'stone': 7225, 'infectious': 3895, 'balances': 645, 'perry': 5539, 'buoyant': 1021, 'ally': 311, 'meal': 4696, 'bewilderingly': 776, 'matthew': 4678, 'pillars': 5600, 'photographed': 5578, 'chekhov': 1246, 'crystalline': 1771, 'dreamlike': 2275, 'ecstasy': 2371, 'inject': 3927, 'carmichael': 1132, 'infusion': 3912, 'passions': 5454, 'achievements': 153, 'knack': 4228, 'idiosyncratic': 3744, '2000': 44, 'shanghai': 6743, 'noon': 5135, 'jealousy': 4113, 'robert': 6383, 'travis': 7784, 'sparkling': 7046, 'understate': 7935, 'nichols': 5096, 'wire': 8372, 'format': 3040, 'regalia': 6144, 'incredible': 3847, 'system': 7451, 'toe': 7691, 'enjoyed': 2508, 'lavish': 4312, 'grandeur': 3334, 'precision': 5775, 'stark': 7163, 'reminder': 6199, 'casualties': 1151, 'ethical': 2594, 'frames': 3067, 'communal': 1461, 'yesteryear': 8472, 'inability': 3821, 'taxon': 7511, 'contentedly': 1591, 'energize': 2489, 'chart': 1229, 'turntables': 7854, 'energizing': 2490, 'blisteringly': 835, 'sharply': 6748, 'sorrowfully': 7022, 'survey': 7401, 'iran': 4053, 'cuin': 1776, 'holden': 3612, 'son': 7004, 'acumen': 178, 'maestro': 4554, 'responsibility': 6270, 'fraud': 3078, 'portrayal': 5727, 'cho': 1273, 'tall': 7484, 'margin': 4622, 'nonchallenging': 5124, 'architecture': 463, 'rises': 6365, 'courageousness': 1678, 'employment': 2461, 'pipeline': 5611, 'hitch': 3594, 'gate': 3183, 'adolescence': 205, 'conan': 1507, 'vulgaris': 8196, 'tunisia': 7845, 'transformation': 7768, 'tradition': 7747, 'widow': 8345, 'exotic': 2688, 'reagan': 6069, 'gleefully': 3259, 'deliberately': 1930, 'irony': 4059, '1957': 30, 'notch': 5148, 'difficulty': 2071, 'accept': 129, 'command': 1446, 'solely': 6984, 'commands': 1448, 'enriched': 2518, 'enforce': 2492, 'solidly': 6986, 'status': 7174, 'awarded': 607, 'manhood': 4595, 'complicate': 1490, 'touching': 7730, 'passive': 5455, 'esteem': 2587, 'observe': 5189, 'field': 2885, 'principal': 5833, 'youthful': 8485, 'diva': 2184, 'tenor': 7555, 'richly': 6335, 'duly': 2312, 'astronauts': 545, 'float': 2978, 'cabin': 1054, 'dinner': 2083, 'lively': 4447, 'ease': 2352, 'pasta': 5457, 'fagioli': 2765, 'brace': 922, 'them': 7594, 'bravery': 933, 'dedication': 1900, 'reporters': 6229, 'posterity': 5744, 'curiously': 1792, 'crescent': 1734, 'ashamed': 512, 'enjoyment': 2510, 'goliath': 3290, 'skillful': 6881, 'boarders': 854, 'choreography': 1283, 'entrance': 2541, 'economic': 2368, 'morals': 4902, 'ten': 7546, 'steadfast': 7176, 'excellence': 2648, 'roman': 6409, 'damned': 1822, 'oftentimes': 5223, 'hopeful': 3646, 'lothario': 4494, 'jeffrey': 4116, 'labor': 4255, 'jazz': 4111, 'extermination': 2732, '78': 80, 'wing': 8365, 'vibrant': 8120, 'wings': 8366, 'tefan': 7536, 'widescreen': 8344, 'grabowsky': 3317, 'liberties': 4384, 'goofiest': 3300, 'bet': 770, 'lustrous': 4532, 'polished': 5688, 'perkins': 5532, 'locales': 4456, 'nonjudgmental': 5131, 'audit': 576, 'fluid': 2988, 'breathe': 945, 'loyal': 4513, 'masterpieces': 4665, 'scorpion': 6590, 'loneliness': 4468, 'nolan': 5116, 'undercurrent': 7916, 'cerebral': 1187, 'stimulate': 7216, 'pianist': 5585, 'cautionary': 1170, 'puff': 5933, 'chateau': 1232, 'belong': 747, 'rudd': 6449, 'dependent': 1972, 'flakeball': 2944, 'malapropisms': 4578, 'fence': 2866, 'exciting': 2661, 'integrity': 3985, 'admirers': 200, 'ilk': 3753, 'notably': 5147, 'dual': 2301, 'above': 112, 'strength': 7250, 'willingness': 8357, 'patrick': 5473, 'ray': 6055, 'lista': 4433, 'splendid': 7096, 'adage': 180, 'workout': 8420, 'parlor': 5430, 'compassion': 1471, 'sleeper': 6910, 'nuanced': 5165, 'measurable': 4704, 'miller': 4800, 'painter': 5390, 'bracing': 923, 'rapid': 6037, 'heidegger': 3534, 'nietzsche': 5100, 'patriot': 5474, 'winter': 8371, 'landscape': 4282, 'grenoble': 3366, 'geneva': 3208, 'expert': 2702, 'gradually': 3326, 'private': 5842, 'said': 6492, 'israeli': 4077, 'palestinian': 5396, 'odds': 5203, 'joyce': 4151, 'worked': 8416, 'patient': 5470, 'tenacious': 7547, 'seventy': 6714, 'discipline': 2113, 'shockwaves': 6775, 'ratify': 6052, 'sailor': 6493, 'quad': 5968, 'fearless': 2839, 'reverend': 6299, 'irresistible': 4065, 'craftsmanship': 1698, 'intergalactic': 4004, 'stylistic': 7297, 'brightly': 962, 'remains': 6189, 'arrives': 488, 'cricket': 1736, 'conversion': 1619, 'kickoff': 4202, 'rubin': 6447, 'strongest': 7268, 'mcmullen': 4693, 'concentration': 1511, 'waltz': 8214, 'somebody': 6994, 'undeniably': 7911, 'adventurous': 219, 'underground': 7923, 'upbeat': 8032, 'metaphorical': 4766, 'wherever': 8313, 'cuts': 1804, 'clash': 1324, 'chronicle': 1289, 'cor': 1643, 'lime': 4409, 'luv': 4533, 'uk': 7874, 'carter': 1139, 'newcastle': 5084, 'energies': 2488, 'violetta': 8155, 'maternal': 4675, 'fury': 3143, 'fearlessness': 2840, 'whimsicality': 8319, 'ignite': 3749, 'bride': 958, 'advantage': 217, 'constraints': 1572, 'espionage': 2576, 'adrenaline': 211, 'boost': 891, 'notwithstanding': 5157, 'sporadic': 7106, 'freudianism': 3099, 'maintains': 4567, 'tat': 7505, 'slashed': 6904, 'roundel': 6435, 'partner': 5442, 'function': 3132, 'interplay': 4013, 'partnerships': 5443, 'bash': 692, 'behold': 737, 'finesse': 2921, 'england': 2498, 'mitchell': 4848, 'handily': 3449, 'pleasing': 5653, 'lira': 4431, 'delicious': 1932, 'skateboard': 6874, 'motorcycle': 4926, 'immense': 3778, 'perfection': 5520, 'backmasking': 630, 'wicked': 8338, 'tenderness': 7552, 'discontent': 2117, 'yearn': 8466, 'minor': 4812, 'pastry': 5459, 'vin': 8149, 'diesel': 2066, 'draws': 2270, 'seductive': 6634, 'isolation': 4075, 'recreate': 6110, 'physical': 5584, 'tensions': 7558, 'sisters': 6863, 'observations': 5188, 'crisp': 1744, 'unaffected': 7886, 'morrison': 4913, 'uncompromising': 7903, 'bruise': 993, 'medium': 4720, 'reminds': 6200, 'opulent': 5271, 'resonate': 6261, 'parents': 5425, 'indies': 3864, 'obstacles': 5192, 'miracle': 4818, 'courtroom': 1682, 'nicole': 5099, 'holofcenter': 3626, 'illuminate': 3759, 'task': 7501, 'finest': 2922, 'texas': 7577, 'catlife': 1165, 'access': 131, 'families': 2789, 'graffiti': 3328, 'enhancing': 2503, 'exhilarating': 2678, 'bulky': 1012, 'profile': 5871, 'revelation': 6296, 'trim': 7808, 'lighthearted': 4398, 'glow': 3270, 'impudent': 3816, 'stickers': 7206, 'humankind': 3694, 'liberate': 4382, 'tavernier': 7507, 'bound': 908, 'enthusiasts': 2538, 'travail': 7780, 'heck': 3530, 'analytical': 369, 'settles': 6710, 'compulsive': 1503, 'daytime': 1856, 'heartbreaking': 3518, 'agendas': 254, 'esteemed': 2588, 'kwan': 4253, 'timeless': 7668, 'danger': 1829, 'blanche': 816, 'rib': 6328, 'piccolo': 5588, 'priceless': 5824, 'correctly': 1653, 'quaint': 5969, 'romanticize': 6414, 'unconventional': 7904, 'gut': 3415, 'executed': 2669, 'anguish': 387, 'elusive': 2428, 'picked': 5590, 'dropped': 2290, 'negotiate': 5064, 'darker': 1837, 'enormously': 2515, 'lingerie': 4421, 'dancers': 1828, 'midwest': 4786, 'hippie': 3584, 'puppies': 5950, 'wladyslaw': 8394, 'szpilman': 7453, 'emphatic': 2458, 'kurds': 4251, 'scottish': 6592, 'trimming': 7809, 'entering': 2523, 'gadgets': 3158, 'creatures': 1724, 'hardhearted': 3472, 'respond': 6268, 'boast': 856, 'hottest': 3670, 'builds': 1011, 'embrace': 2440, 'embraced': 2441, 'wary': 8233, 'femme': 2865, 'blockage': 838, 'vietnamese': 8135, 'companion': 1465, 'standout': 7156, 'diane': 2053, 'lane': 4283, 'recovery': 6109, 'deserved': 2001, 'won': 8400, 'fathers': 2824, 'sons': 7008, 'received': 6088, 'tremor': 7796, 'legged': 4352, 'prime': 5830, 'pleasures': 5655, 'usurp': 8060, 'prevail': 5815, 'uniquely': 7975, 'dramatization': 2262, 'confidence': 1532, 'naomi': 5011, 'watts': 8250, 'rachel': 5998, 'petite': 5560, 'vulnerable': 8199, 'emphasise': 2455, 'plight': 5659, 'gid': 3239, 'investigator': 4040, 'preston': 5810, 'speaks': 7051, 'symbiotic': 7443, 'relationship': 6166, 'cupola': 1787, 'sister': 6861, 'sofia': 6977, 'extraordinarily': 2734, 'homework': 3632, 'revisionist': 6309, 'theories': 7600, 'origins': 5289, 'nazi': 5041, 'aesthetics': 228, 'smoky': 6949, 'damning': 1823, 'carries': 1137, 'bon': 880, 'seas': 6621, 'samurai': 6507, 'liang': 4378, 'wen': 8295, 'devil': 2043, 'wartime': 8232, 'alternately': 323, 'joseph': 4143, 'kurt': 4252, 'vonnegut': 8187, 'cuisine': 1777, 'wisdom': 8374, 'grandis': 3336, 'grandparents': 3338, 'intermittently': 4009, 'bogdanovich': 864, 'perspective': 5548, 'kristen': 4248, 'showcases': 6796, 'davies': 1848, 'generosity': 3203, 'diplomacy': 2085, 'catherine': 1163, 'breillat': 950, 'sew': 6719, 'sewing': 6722, 'derange': 1991, 'immediacy': 3775, 'stanley': 7159, 'stripe': 7263, '129': 14, 'victoria': 8127, 'sica': 6810, 'chemically': 1248, 'crystal': 1770, 'inspiring': 3965, 'daring': 1835, 'loyalty': 4514, 'kosminsky': 4245, 'condense': 1524, 'jeff': 4115, 'acute': 179, 'expressiveness': 2725, 'helps': 3545, 'methodical': 4770, 'impersonation': 3789, 'graced': 3319, 'shoulder': 6790, 'eclipse': 2366, 'villeneuve': 8148, 'diario': 2055, 'volatile': 8183, 'jaw': 4109, 'apple': 446, 'makhmalbaf': 4576, 'distinctive': 2175, 'conspicuous': 1569, 'bench': 753, 'irrevocable': 4067, 'satin': 6523, 'rouge': 6432, 'intellect': 3986, 'sociological': 6975, 'octane': 5200, 'combines': 1433, 'runway': 6467, 'sergio': 6688, 'leone': 4362, 'ballet': 649, 'lio': 4425, 'watercolor': 8248, 'ranks': 6030, 'intensity': 3994, 'dadaist': 1813, 'tackles': 7459, 'goodness': 3297, 'delivered': 1941, 'longtime': 4473, 'token': 7694, 'neophyte': 5071, 'once': 5238, 'victor': 8126, 'rosa': 6424, 'internalize': 4011, 'pete': 5558, 'arcane': 460, 'chicago': 1255, 'pacing': 5370, 'ante': 407, 'fiercely': 2887, 'precarious': 5768, 'exile': 2679, 'aristocracy': 476, 'victorious': 8128, 'revolutionaries': 6313, 'didacticism': 2063, 'humanism': 3689, 'bertrand': 765, 'oft': 5221, 'safe': 6488, 'laissez': 4273, 'passer': 5449, 'sleeve': 6913, 'magnetic': 4558, 'alias': 292, 'smartest': 6941, 'titillating': 7685, 'curl': 1793, 'revive': 6311, 'cinderella': 1298, 'hailed': 3427, 'hitchcockianism': 3597, 'chabrolian': 1194, 'intricate': 4022, 'memorial': 4738, 'trade': 7745, 'continues': 1596, 'swath': 7417, 'retain': 6283, 'archetypal': 462, 'catches': 1158, 'swept': 7426, 'benefit': 758, 'reside': 6251, 'primarily': 5828, 'demonstrating': 1958, 'knockout': 4233, 'honor': 3639, 'square': 7123, 'sylvia': 7442, 'fabric': 2746, 'hypnotic': 3719, 'foster': 3051, 'spontaneous': 7102, 'laughed': 4307, 'brit': 969, 'veteran': 8115, 'newcomer': 5085, 'daughter': 1845, 'anchored': 374, 'convincingly': 1628, 'portuguese': 5730, 'manuel': 4611, 'olivier': 5232, 'veggietales': 8095, 'appetizing': 444, 'carpenter': 1134, 'underwing': 7939, 'blessed': 829, 'skeleton': 6875, 'serves': 6699, 'governance': 3313, 'hierarchy': 3568, 'revert': 6302, 'reverted': 6303, 'roles': 6401, 'plethora': 5658, 'spicy': 7073, 'footnote': 3011, 'rape': 6036, 'grips': 3378, 'kiosks': 4220, 'chinese': 1271, 'homosexual': 3634, 'wasp': 8237, 'morton': 4914, 'interaction': 3999, 'juan': 4156, 'carlos': 1130, 'fresnadillo': 3096, 'informative': 3906, 'observant': 5186, 'discreet': 2123, 'mini': 4809, 'fleeting': 2964, 'jackal': 4090, 'restraint': 6276, 'ambiguity': 341, 'testimony': 7575, 'customers': 1800, 'enormous': 2514, 'package': 5372, 'agreeable': 266, 'slave': 6906, 'precise': 5772, 'discordant': 2119, 'topple': 7717, 'paradoxical': 5415, 'liga': 4395, 'flip': 2976, 'lock': 4460, 'smoke': 6948, 'gaze': 3187, 'alongside': 317, 'georgia': 3222, 'asphalt': 520, 'establishes': 2584, 'norm': 5137, 'heroic': 3553, 'condone': 1528, 'destine': 2017, 'quitting': 5991, 'daydreams': 1854, 'docs': 2200, 'fans': 2798, 'undoubtedly': 7941, 'invasion': 4031, 'weekly': 8281, 'arguably': 472, 'versatile': 8109, 'assured': 538, 'perennial': 5517, 'wholesome': 8331, 'raises': 6014, 'elegance': 2411, 'quintet': 5987, 'recommendation': 6101, 'smashing': 6943, 'overwhelmingly': 5358, 'noticeably': 5154, 'ghetto': 3231, 'steer': 7185, 'graphics': 3343, 'improves': 3813, 'digs': 2075, 'nathan': 5023, 'chief': 1258, 'residences': 6252, 'enrich': 2517, 'christopher': 1287, 'plumber': 5668, 'uncle': 7900, 'adaptations': 185, 'docu': 2201, 'flourish': 2982, 'missed': 4841, 'radiant': 6003, 'happily': 3462, 'monsoon': 4884, 'dover': 2241, 'kosashvili': 4243, 'reynolds': 6320, 'memorize': 4740, 'astonished': 540, 'firing': 2928, 'bronze': 979, 'fessenden': 2873, 'newfangled': 5087, 'refreshing': 6139, 'ingenious': 3914, 'highs': 3575, 'sorrowful': 7021, 'impulsive': 3819, 'niches': 5094, 'commonly': 1459, 'taking': 7475, 'tai': 7465, 'stylist': 7296, 'enhances': 2502, 'tender': 7551, 'resort': 6262, 'hay': 3504, 'differently': 2069, 'rhetoric': 6323, 'says': 6537, 'clobber': 1366, 'urgency': 8047, 'compassionate': 1472, 'selectively': 6650, 'strengths': 7251, 'inhibit': 3922, 'spite': 7093, 'poverty': 5754, 'hardship': 3474, 'hardware': 3475, 'robust': 6391, 'ahead': 268, 'loving': 4507, 'sickness': 6814, 'entrez': 2542, 'stanford': 7158, 'bee': 723, 'networth': 5079, 'wesley': 8299, 'unexplainable': 7949, 'heartedness': 3520, 'nailbiter': 5001, 'samp': 6504, 'courageous': 1677, 'molly': 4870, 'craig': 1700, 'radiate': 6004, 'radiated': 6005, 'canton': 1099, 'slipperiness': 6924, 'corpus': 1651, 'occasion': 5195, 'insanity': 3941, 'hjejle': 3601, 'normal': 5138, 'divisions': 2193, 'nonfiction': 5130, 'disarmingly': 2106, 'strikingly': 7260, 'devious': 2044, 'friendly': 3102, 'tease': 7519, 'whitaker': 8325, 'grunge': 3396, 'reliable': 6178, 'separate': 6680, 'enjoying': 2509, 'summertime': 7359, 'vistas': 8168, 'orbit': 5273, 'chime': 1268, 'globe': 3262, 'stanzas': 7160, 'moving': 4948, 'fry': 3119, 'stable': 7130, 'phenomenal': 5564, 'ferry': 2869, 'frontman': 3114, 'resist': 6255, 'marshall': 4643, 'wouldn': 8437, 'purposeful': 5956, 'albeit': 285, 'fiji': 2896, 'diver': 2186, 'vulakoro': 8194, 'marry': 4642, 'michelle': 4781, 'hall': 3435, 'hits': 3599, 'disorient': 2153, 'verbal': 8105, 'attendant': 563, 'ensure': 2521, 'east': 2355, 'religiously': 6184, 'comfort': 1441, 'satisfies': 6527, 'endeavour': 2478, 'rouse': 6436, 'squirm': 7128, 'phillip': 5568, 'allegory': 304, 'australian': 586, 'batman': 702, 'educate': 2378, 'educates': 2379, 'chuck': 1290, 'guffaw': 3401, 'laughs': 4309, 'skins': 6886, 'desolate': 2008, 'native': 5026, 'sibling': 6808, 'reconciliation': 6104, 'infused': 3911, 'burns': 1030, 'accomplished': 139, 'effectiveness': 2388, 'duke': 2310, 'pb': 5489, 'sandwich': 6515, 'tasty': 7504, 'colorful': 1423, 'competent': 1479, 'infinitely': 3899, 'seldahl': 6646, 'roller': 6403, 'creature': 1723, 'manners': 4609, 'fervent': 2872, 'fanciful': 2796, 'thinkers': 7615, 'aimlessness': 275, 'genetically': 3207, 'bucket': 1003, 'cultivate': 1780, 'greene': 3364, 'cup': 1786, 'stuffiest': 7285, 'goers': 3282, 'sophisticated': 7015, 'organic': 5282, 'encourages': 2473, 'fiery': 2888, 'bodies': 861, 'updating': 8034, 'unlinking': 7991, 'keeper': 4192, 'bolster': 874, 'astronaut': 544, 'foreman': 3025, 'bark': 673, 'freddie': 3082, 'mcdowell': 4692, 'feminine': 2863, 'earns': 2347, 'favorably': 2829, 'das': 1840, 'portrays': 5729, 'counterparts': 1669, 'stallion': 7146, 'cimarron': 1297, 'excited': 2659, 'continuation': 1594, 'lord': 4483, 'trilogy': 7807, 'adequately': 194, 'expand': 2690, 'privilege': 5843, 'dressed': 2280, 'yards': 8461, 'driven': 2285, 'lark': 4296, 'flavour': 2958, 'conrad': 1554, 'nominate': 5118, 'nominated': 5119, 'scores': 6588, 'adds': 192, 'reptilian': 6236, 'villain': 8145, 'units': 7977, 'enlighten': 2512, 'lecture': 4343, 'grandes': 3333, 'equalizer': 2557, 'ills': 3758, 'understands': 7934, 'visionary': 8165, 'nuance': 5164, 'attend': 562, 'anarchist': 371, 'maxim': 4684, 'iconoclastic': 3731, 'pommel': 5697, 'explored': 2712, 'eloquence': 2424, 'volumes': 8186, 'dreamscape': 2276, 'captives': 1112, 'roster': 6427, 'marilyn': 4627, 'impart': 3784, 'burgeon': 1023, 'leaving': 4342, 'austerity': 583, 'krawczyk': 4247, 'winning': 8369, 'ghostbusters': 3233, 'growth': 3394, 'ninth': 5107, 'relevant': 6177, '270': 54, 'treatise': 7788, 'university': 7982, 'departments': 1968, 'unity': 7978, 'swift': 7427, 'cinephile': 1303, 'invitation': 4044, 'countless': 1670, 'bend': 755, 'intensely': 3993, 'antidote': 414, 'doppelganger': 2231, 'flex': 2966, 'collaborative': 1410, 'timely': 7669, 'corporate': 1649, 'circus': 1308, 'current': 1795, 'climate': 1354, 'mergers': 4753, 'downsize': 2246, 'undeniable': 7910, '50s': 69, 'contagious': 1579, 'juliette': 4167, 'noche': 5112, 'stevens': 7201, 'maggie': 4555, 'o2': 5176, 'gasp': 3182, 'authentically': 590, 'collectively': 1418, 'stellar': 7187, 'brave': 930, 'portrayals': 5728, 'seed': 6636, 'ambivalent': 345, 'motivations': 4924, 'favour': 2833, 'weaving': 8271, 'sexually': 6727, 'explicit': 2705, 'manic': 4597, 'address': 191, 'engages': 2494, 'somewhat': 7001, 'ourselves': 5303, 'wang': 8219, 'forefront': 3022, 'fist': 2933, 'tip': 7676, 'herald': 3549, 'tips': 7677, 'adding': 189, 'bounty': 910, 'clutch': 1386, 'punctuation': 5944, 'stepson': 7192, 'divert': 2190, 'kindness': 4215, 'survival': 7402, 'reaching': 6060, 'suitable': 7353, 'noble': 5110, 'teacher': 7514, 'strict': 7255, 'code': 1398, 'nonetheless': 5127, 'appreciates': 450, 'kaufman': 4187, 'orleans': 5291, 'infinite': 3898, 'insecurity': 3944, 'rom': 6407, 'bubble': 1001, 'greatness': 3359, 'nancy': 5009, 'havoc': 3503, 'forge': 3031, 'reinvigorate': 6159, 'reinvigorated': 6160, 'metaphors': 4767, 'mystical': 4994, 'palace': 5393, 'polemic': 5685, 'lathe': 4302, 'convictions': 1624, 'liked': 4402, 'distinguished': 2178, 'populist': 5716, 'unapologetic': 7888, 'sweetheart': 7423, 'existential': 2683, 'associate': 532, 'lifts': 4394, 'filth': 2911, 'freshen': 3093, 'orange': 5272, 'county': 1672, 'minus': 4814, 'stepmother': 7190, 'lifetime': 4392, 'monologue': 4878, 'unmistakable': 7995, 'join': 4134, 'rodriguez': 6396, 'adorn': 209, 'maturity': 4680, 'scherfig': 6562, 'desperation': 2013, 'round': 6434, 'debrauwer': 1874, 'ana': 366, 'tragically': 7755, 'restart': 6273, 'fondness': 3004, 'salute': 6499, 'rims': 6356, 'prone': 5890, 'singular': 6857, 'postmodern': 5746, 'particle': 5438, 'gesture': 3225, 'hasn': 3492, 'banner': 660, 'breakthrough': 942, 'awesome': 612, 'ineffable': 3882, 'whirlwind': 8323, 'claustrophobia': 1337, 'sooner': 7012, 'explores': 2713, 'inquisitiveness': 3939, 'truffaut': 7827, 'scrutinize': 6611, 'cohesive': 1404, 'enthral': 2531, 'enthralling': 2533, 'clone': 1369, 'burden': 1022, 'signature': 6822, 'courtesy': 1681, 'yale': 8459, 'grad': 3322, 'skulls': 6891, 'environmental': 2547, '127': 13, 'repair': 6216, 'corruption': 1656, 'establishment': 2585, 'constructs': 1575, 'odyssey': 5207, 'exuberant': 2741, 'lore': 4484, 'hallmarks': 3437, 'canvas': 1100, 'ambiguities': 340, 'retains': 6284, 'sprawl': 7113, 'surehanded': 7386, 'uproarious': 8041, 'seriousness': 6693, 'sneaks': 6959, 'suke': 7354, 'dignity': 2074, 'refreshed': 6138, 'overtake': 5351, 'spinning': 7081, 'governmental': 3314, 'everyday': 2623, 'romaji': 6408, 'kudos': 4249, 'arnold': 482, 'schwarzenegger': 6574, 'cloud': 1375, 'illusion': 3760, 'invaluable': 4030, 'cultivation': 1781, 'devotion': 2047, 'readily': 6066, 'buoy': 1020, 'djeinaba': 2196, 'gai': 3162, 'relief': 6181, 'ballad': 648, 'seamstress': 6618, 'desirable': 2006, 'courtship': 1683, 'unstoppable': 8022, 'interdependence': 4000, 'accommodate': 136, 'practical': 5760, 'defies': 1911, 'enchanted': 2468, 'spike': 7077, 'espn': 2577, 'forgiveness': 3036, 'assets': 531, 'commend': 1449, 'forceful': 3017, 'passionately': 5453, 'uncover': 7906, 'funk': 3136, 'sentimentalize': 6678, 'celebratory': 1174, 'feisty': 2856, 'presentation': 5801, 'brewery': 955, 'zealand': 8488, 'cook': 1632, 'fourteen': 3057, 'mueller': 4960, 'grandstand': 3339, 'grandstanding': 3340, 'robin': 6386, 'astute': 547, 'defiance': 1909, 'dictate': 2059, 'detailed': 2026, 'bullseye': 1016, 'laboratory': 4256, 'rug': 6452, 'underneath': 7926, 'plug': 5666, 'buscemi': 1035, 'rosario': 6425, 'impulses': 3818, 'rejiggering': 6164, 'contraction': 1599, 'cam': 1074, 'ron': 6417, 'hispanic': 3587, 'gusts': 3414, 'caliber': 1065, 'delivering': 1942, 'interpretation': 4014, 'dearly': 1869, 'engined': 2496, '18': 22, 'weddings': 8278, 'enlightening': 2513, 'indulgently': 3879, 'raucously': 6053, 'highlighted': 3573, 'gritty': 3380, 'moody': 4895, 'mouse': 4933, 'lily': 4406, 'hou': 3671, 'plaintiveness': 5630, '80s': 83, 'confront': 1543, 'shade': 6729, 'components': 1494, 'craftsmen': 1699, 'lives': 4448, 'faint': 2772, 'san': 6508, 'francisco': 3071, 'spirited': 7087, 'quibble': 5980, 'campaign': 1083, 'trail': 7756, 'candidate': 1091, 'called': 1070, 'taiwanese': 7470, 'auteur': 588, 'ming': 4808, 'transcends': 7763, 'sublime': 7306, 'herring': 3556, 'ethos': 2598, 'clamor': 1317, 'wwii': 8454, 'computerize': 1505, 'yoga': 8476, 'ascend': 509, 'kinetic': 4217, 'crank': 1701, 'rediscovery': 6119, 'quiver': 5992, 'ascends': 510, 'virtuoso': 8158, 'thick': 7608, 'shear': 6752, 'goo': 3294, 'tremendously': 7795, 'devote': 2046, 'compositions': 1498, 'expressions': 2723, 'unflappable': 7954, 'urbanity': 8045, 'everest': 2618, 'widen': 8342, 'relax': 6170, 'birth': 798, 'displays': 2160, 'wins': 8370, 'prim': 5827, 'exterior': 2731, 'atlantic': 552, 'peacefully': 5491, 'israel': 4076, 'watchful': 8245, 'steadily': 7177, 'climactic': 1353, 'greg': 3365, 'fledge': 2962, 'addict': 187, 'simplicity': 6840, 'lan': 4277, 'ripen': 6362, 'separation': 6681, 'di': 2049, 'napoli': 5013, 'neville': 5082, 'whorl': 8334, 'gods': 3280, 'came': 1075, 'handed': 3447, 'skillfully': 6882, 'surefire': 7385, 'beloved': 749, 'aren': 470, 'fellowship': 2860, 'doo': 2223, 'shimmeringly': 6764, 'pleased': 5652, 'meticulous': 4771, 'withdraw': 8384, 'hiatus': 3561, 'utilize': 8062, 'catapult': 1154, 'hardy': 3476, 'zealanders': 8489, 'told': 7695, 'gong': 3293, 'ndia': 5043, 'mail': 4562, 'kidnap': 4204, 'accumulate': 146, 'holds': 3613, 'probes': 5849, 'individuals': 3872, 'omniscient': 5236, 'narrator': 5018, 'sly': 6935, 'ibn': 3725, 'hjelje': 3602, 'pertinent': 5551, 'collect': 1415, 'spiritually': 7091, 'vietnam': 8134, 'copious': 1640, 'myriad': 4988, 'harvest': 3489, 'korea': 4241, 'flawless': 2961, 'homelessness': 3631, 'milan': 4791, 'tartan': 7499, 'hybrid': 3716, 'triangle': 7800, 'proficient': 5870, 'thirst': 7619, 'patiently': 5471, 'distinct': 2172, 'rarity': 6044, 'shirt': 6772, 'ghostly': 3234, 'improbable': 3809, 'abbess': 100, 'elemental': 2415, 'shining': 6769, 'engulf': 2500, 'miraculous': 4819, 'dreamworks': 2277, 'pivotal': 5622, 'acidity': 157, 'perceptiveness': 5514, 'vastly': 8090, 'germany': 3224, 'hughes': 3686, 'elder': 2406, 'companionship': 1466, 'melts': 4733, 'guides': 3403, 'fluidity': 2989, 'bundle': 1019, 'perversity': 5554, 'tempt': 7545, 'bouquet': 911, 'convincing': 1627, 'region': 6149, 'inhabitants': 3918, 'barry': 684, 'reclaim': 6096, 'carmen': 1131, 'tour': 7733, 'bernard': 763, 'evans': 2607, 'tends': 7553, 'cad': 1056, 'mph': 4950, 'enthrall': 2532, 'turner': 7852, 'humanize': 3693, 'seduce': 6633, 'josh': 4144, 'butter': 1045, 'implicitly': 3793, 'acknowledge': 158, 'chicanery': 1256, 'delusion': 1946, 'businesses': 1039, 'sugarcoat': 7347, 'thorough': 7625, 'mountains': 4929, 'serrault': 6696, 'openness': 5250, 'mastery': 4667, 'offering': 5216, 'stevenson': 7202, 'froth': 3115, 'tales': 7480, 'preciseness': 5774, 'tundra': 7843, 'breach': 936, 'init': 3924, 'breaches': 937, 'alternating': 324, 'alec': 288, 'android': 378, 'lux': 4534, 'eighties': 2400, 'grandmother': 3337, 'biography': 794, 'superlative': 7374, 'sunshine': 7366, 'overture': 5352, 'aficionados': 242, 'megaplex': 4724, 'protein': 5905, 'luke': 4522, 'demands': 1950, '60s': 74, 'rhyme': 6325, 'inspection': 3959, 'acquires': 159, 'yeah': 8464, 'confirm': 1537, 'lynn': 4536, 'international': 4012, 'confirms': 1538, 'indoor': 3873, 'schweiz': 6575, 'graham': 3329, 'sales': 6496, 'resurrection': 6282, 'flavorful': 2956, 'casting': 1148, 'ballroom': 653, 'australia': 585, 'latin': 4303, 'trend': 7797, 'overdue': 5329, 'clayburgh': 1339, 'holofcener': 3625, 'fillies': 2901, 'breitbart': 951, 'westerns': 8302, 'filled': 2899, 'beguile': 731, 'revisit': 6310, 'bombshell': 879, 'aware': 608, 'mock': 4859, 'apollo': 432, 'artman': 503, 'spins': 7083, 'artwork': 506, 'japan': 4105, 'seldhal': 6647, 'layered': 4320, 'professionals': 5868, 'aboriginal': 110, 'spellbind': 7068, 'spellbinding': 7069, 'presented': 5802, 'tov': 7736, 'egoyan': 2396, 'duel': 2309, 'economical': 2369, 'rigid': 6352, 'evasive': 2609, 'erin': 2567, 'brockovich': 976, 'ocean': 5199, 'eleven': 2419, 'treble': 7791, 'gripping': 3377, 'commerce': 1452, 'signs': 6827, 'marker': 4633, 'essayist': 2579, 'monument': 4891, 'aggravate': 258, 'scathing': 6549, 'infrequently': 3907, 'slam': 6896, 'woolly': 8412, 'campanella': 1084, 'vow': 8190, 'turbulent': 7847, 'labyrinthine': 4260, 'rollicking': 6405, 'understatement': 7936, 'lease': 4335, 'gorefest': 3305, 'deity': 1923, 'steep': 7184, 'baroque': 678, 'precedent': 5770, 'jolly': 4137, 'broadway': 975, 'catfish': 1161, 'aggrandize': 257, 'perfected': 5519, 'worm': 8428, 'wireless': 8373, 'exceed': 2643, 'empire': 2459, 'majestic': 4568, 'exceeding': 2644, 'undercover': 7915, 'brother': 984, 'ton': 7701, 'dishes': 2135, 'sincerely': 6849, 'blender': 828, 'salmon': 6497, 'typically': 7870, 'schnitzler': 6569, 'icon': 3729, 'kingsley': 4219, 'stylize': 7299, 'misogynist': 4837, 'sorrow': 7020, 'cascade': 1143, 'surprises': 7392, 'tapestry': 7492, 'centuries': 1185, 'headache': 3509, 'someday': 6995, 'pedestal': 5496, 'higher': 3570, 'extremities': 2740, 'commander': 1447, 'propel': 5894, 'echelon': 2363, 'korean': 4242, 'sparked': 7044, 'moviegoer': 4941, 'dana': 1825, 'janklowicz': 4103, 'masters': 4666, 'friendships': 3105, 'track': 7743, 'biologically': 795, 'autopsy': 596, 'directly': 2093, 'cesar': 1191, 'local': 4455, 'gary': 3179, 'mordantly': 4905, 'soullessness': 7027, 'harness': 3482, 'embracing': 2442, 'mankind': 4604, 'delusions': 1948, 'unusual': 8028, 'instructive': 3974, 'net': 5077, 'popularity': 5711, 'groove': 3383, 'balanced': 644, 'manhunt': 4596, 'hooker': 3643, 'clients': 1351, 'foremost': 3026, 'jennings': 4119, 'numerous': 5172, 'praiseworthy': 5764, 'vegetables': 8094, 'batch': 697, 'angel': 381, 'optimism': 5268, 'sentiments': 6679, 'dismantle': 2145, 'facades': 2751, 'accomplishment': 141, 'veracity': 8104, 'crore': 1753, 'torment': 7719, 'bib': 779, 'results': 6280, 'honorable': 3640, 'france': 3069, 'conscience': 1555, 'pause': 5479, 'funnybone': 3140, 'touches': 7729, 'played': 5641, 'philippe': 5567, 'mora': 4898, 'hitler': 3598, 'chilling': 1267, 'immaculate': 3773, 'roussillon': 6438, 'providing': 5912, 'learning': 4334, 'jacques': 4096, 'belongs': 748, 'walt': 8213, 'becker': 717, 'chaplain': 1210, 'glue': 3271, 'glued': 3272, 'adapt': 183, 'wearing': 8265, 'panoramic': 5404, 'shooting': 6778, 'genetic': 3206, 'specifically': 7056, 'libretto': 4386, 'ideally': 3738, 'terrifically': 7566, 'specimen': 7057, 'spielbergian': 7075, 'landmark': 4281, '1937': 26, 'dwarf': 2329, 'oxford': 5365, 'thankful': 7583, 'napoleon': 5012, 'jacqueline': 4095, 'plimpton': 5660, 'marks': 4636, 'admittedly': 203, 'meddle': 4711, 'metropolis': 4772, 'whippersnappers': 8322, 'click': 1349, 'invisible': 4043, 'psychic': 5921, 'depressions': 1984, 'delights': 1936, 'simmer': 6836, 'prevalent': 5816, 'walsh': 8212, 'pipe': 5610, 'wisely': 8377, 'uninhabited': 7969, 'acres': 161, 'served': 6698, 'remembrance': 6196, 'delighted': 1934, 'reconstruction': 6105, 'unsung': 8025, '20th': 47, 'spaghetti': 7039, 'entertainments': 2530, 'athletic': 551, 'sportsmen': 7108, 'eats': 2360, 'heighten': 3536, 'heightened': 3537, 'nachtwey': 4999, 'famine': 2791, 'documented': 2205, 'turturro': 7855, 'butler': 1043, 'excel': 2647, 'disappear': 2102, 'excels': 2650, 'deadpan': 1864, 'consistency': 1565, 'parmentier': 5431, 'fanatical': 2795, 'adherents': 196, 'foreground': 3023, 'integrating': 3984, 'hue': 3681, 'drastic': 2265, 'iconography': 3732, 'superheroes': 7372, 'ants': 418, 'youngsters': 8481, 'vanessa': 8081, 'redgrave': 6118, 'koshashvili': 4244, 'laramie': 4291, 'decay': 1881, 'dismay': 2146, 'chaos': 1208, 'conflagration': 1539, 'nesbitt': 5076, 'hug': 3682, 'transparency': 7772, 'executive': 2671, 'trials': 7799, 'nano': 5010, 'rousing': 6437, 'persistence': 5540, 'robustness': 6392, 'bloodletting': 843, 'seiner': 6644, 'naturalism': 5028, 'relieve': 6183, 'mas': 4652, 'contemplative': 1583, 'influential': 3902, 'prepare': 5794, 'prepared': 5795, 'backhand': 628, 'compliment': 1493, 'forbid': 3014, '1950s': 28, 'alien': 294, 'revigorates': 6307, 'concentrate': 1510, 'sway': 7418, 'psychedelia': 5920, 'arrow': 491, 'unscathed': 8016, 'warfare': 8225, 'embroil': 2443, 'structured': 7272, 'twin': 7861, 'donald': 2219, 'placed': 5625, 'favorites': 2832, 'flexible': 2967, 'scriptwriter': 6608, 'implosion': 3794, 'slender': 6914, 'enable': 2466, 'safer': 6489, 'navigate': 5039, 'aplomb': 430, 'garcia': 3174, 'fashioning': 2815, 'backstage': 631, 'motherhood': 4919, 'goosebumps': 3303, 'discord': 2118, 'grin': 3373, 'ballplayers': 652, 'secretly': 6630, 'unsigned': 8019, 'president': 5807, 'isabelle': 4072, 'anna': 395, 'mouglalis': 4927, 'lewis': 4375, 'quixotic': 5993, 'patent': 5463, 'dramatize': 2263, 'shakes': 6735, 'vigorously': 8142, 'risk': 6366, 'glaring': 3254, 'verisimilitude': 8108, 'sunset': 7365, 'frightening': 3109, 'asian': 514, 'realist': 6072, 'playfulness': 5645, 'outlandishness': 5312, 'assassin': 522, 'pulling': 5936, 'heartstrings': 3523, 'dean': 1867, 'debris': 1875, 'cq': 1692, 'swimmers': 7432, 'saga': 6491, 'regards': 6147, 'shed': 6753, 'unnoticed': 7998, 'underappreciated': 7913, 'shedding': 6754, 'twinkle': 7862, 'sensors': 6672, 'enthronement': 2534, 'legend': 4350, 'sterling': 7198, 'embodies': 2438, 'fallibility': 2782, 'insists': 3957, 'tangle': 7488, 'workers': 8418, 'unprecedented': 8002, '1930s': 25, 'seventies': 6713, 'society': 6974, 'hire': 3585, 'justin': 4181, 'dosage': 2234, 'consummate': 1578, 'smoother': 6951, 'flabbergast': 2939, 'principals': 5834, '14': 17, 'macnaughton': 4546, 'visitor': 8167, 'parkway': 5429, 'anomaly': 404, 'alienation': 296, 'augustinian': 580, 'theology': 7599, 'swashbucklers': 7416, 'daniel': 1832, 'comical': 1444, 'predict': 5780, 'idemoto': 3740, 'rewritten': 6319, 'rarest': 6043, 'kinds': 4216, 'inescapably': 3886, 'skyscraper': 6894, 'trapeze': 7777, 'fantastical': 2801, 'invest': 4037, 'expressive': 2724, 'contribution': 1604, 'conversation': 1616, 'holmes': 3623, 'league': 4326, 'widowmaker': 8346, 'kim': 4212, 'rim': 6355, 'subgenre': 7302, 'coldest': 1408, 'environment': 2546, 'crumb': 1766, 'banquet': 662, 'recall': 6086, 'neorealism': 5072, 'viva': 8175, 'practice': 5762, 'flavor': 2955, 'advocacy': 223, 'torrent': 7721, 'touchstone': 7731, 'continuum': 1598, 'delhi': 1928, 'specialize': 7054, 'til': 7665, 'nurture': 5174, 'hence': 3546, 'august': 579, 'deterioration': 2031, 'depicts': 1977, 'elegiac': 2413, 'ample': 360, 'besides': 766, 'areas': 469, 'signal': 6821, 'rick': 6337, 'famuyiwa': 2793, 'emergence': 2445, 'william': 8353, 'sickeningly': 6812, 'knuckle': 4238, 'determination': 2032, 'patricia': 5472, 'gunman': 3411, 'dangerously': 1831, 'curtain': 1797, 'residents': 6254, 'copenhagen': 1639, 'neighborhood': 5065, 'befuddle': 727, 'mastering': 4663, 'formidable': 3042, 'arithmetic': 477, 'cameras': 1079, 'serene': 6687, 'imaginable': 3764, 'discussion': 2126, 'bliss': 834, 'quietude': 5986, 'neil': 5066, 'springboard': 7116, 'incurably': 3849, 'gazette': 3188, 'guilt': 3404, 'doodle': 2224, 'steamboat': 7183, 'coach': 1389, 'cleavage': 1344, 'principle': 5835, 'jane': 4102, 'scintillate': 6581, 'sparse': 7047, 'scintillating': 6582, 'civilization': 1311, 'complaint': 1482, 'berry': 764, 'sauce': 6531, 'barrier': 681, 'restrain': 6275, '12th': 15, '22': 50, 'tashlin': 7500, 'capitulation': 1106, 'millennium': 4799, 'pageant': 5382, 'roads': 6379, 'lean': 4329, 'leaning': 4330, 'exceeds': 2646, 'bolder': 871, 'girardot': 3243, 'palmer': 5400, 'fits': 2935, 'down': 2242, 'ape': 428, 'weary': 8266, 'journalist': 4146, 'crossover': 1757, 'nonethnic': 5128, 'brick': 957, 'seldom': 6648, 'furiously': 3141, 'indisputable': 3869, 'mexico': 4775, 'controversial': 1609, 'nonconformist': 5125, 'aerobic': 225, 'roof': 6418, 'crown': 1761, 'drawing': 2268, 'langue': 4286, 'romanticism': 6412, 'tyler': 7867, 'salary': 6495, 'afternoon': 246, 'retire': 6286, 'mirror': 4822, 'wrap': 8440, 'pound': 5753, 'wrapped': 8441, 'embark': 2433, 'outdoor': 5310, 'spit': 7092, 'raising': 6015, 'timeout': 7670, 'mobility': 4857, 'sullivan': 7355, 'venturesome': 8102, 'coral': 1644, 'heavyweight': 3529, 'behalf': 732, 'endanger': 2476, 'semimusical': 6656, 'rendition': 6208, 'peek': 5500, 'spectrum': 7062, 'mob': 4855, 'canon': 1097, '52': 71, 'versions': 8112, 'cameo': 1076, 'photographic': 5579, 'hashiguchi': 3491, 'gadget': 3157, 'muscle': 4973, 'depictions': 1976, 'justifying': 4180, 'pleas': 5649, 'wildlife': 8350, 'environ': 2545, 'comprehend': 1499, 'serpent': 6695, 'ripe': 6361, 'ingredients': 3916, 'certify': 1190, 'playable': 5640, 'jose': 4142, 'iris': 4055, 'bursting': 1033, 'musique': 4979, 'historic': 3588, 'scandal': 6542, 'springer': 7117, 'ong': 5241, 'immigrant': 3782, 'flame': 2946, 'valuable': 8075, 'unfussily': 7963, 'argument': 474, 'pro': 5844, 'wildcard': 8349, 'reminded': 6198, 'allison': 306, 'marveilleux': 4648, 'adobe': 204, 'palate': 5394, 'imply': 3795, 'suggestion': 7349, 'bonus': 884, 'modesty': 4866, 'grateful': 3346, 'freedom': 3084, 'liner': 4417, 'conclude': 1520, 'resentment': 6250, 'rhapsodic': 6321, 'creations': 1717, 'jumps': 4170, 'italy': 4082, 'reckon': 6095, 'vandals': 8080, 'correct': 1652, 'wick': 8337, 'sideman': 6816, 'instinct': 3971, 'rapturous': 6040, 'jonas': 4138, 'pythonesque': 5967, 'carbon': 1118, 'vivre': 8178, 'mournful': 4931, 'dynamics': 2332, 'disquiet': 2162, 'bicker': 782, 'siblings': 6809, 'vega': 8093, 'juni': 4173, 'cortex': 1657, 'bollywood': 873, 'funky': 3137, 'thrive': 7644, 'artificially': 496, 'alexander': 290, 'transfix': 7765, 'transfixes': 7766, 'leaping': 4332, 'featuring': 2848, 'orc': 5274, 'uru': 8051, 'hai': 3425, 'classy': 1333, 'naturalistic': 5029, 'overview': 5354, 'ancient': 375, 'holistic': 3618, 'developers': 2038, 'tourism': 7734, 'pageants': 5383, 'neglect': 5061, 'gon': 3291, 'pal': 5392, 'afghan': 241, 'refugees': 6140, 'catalyst': 1153, 'spotlight': 7110, 'administration': 197, 'complicity': 1492, 'orphan': 5292, 'stumble': 7287, 'apocalypse': 431, 'confidently': 1534, 'orchestrate': 5275, 'aesthetically': 227, 'rightly': 6351, 'unblock': 7894, 'piston': 5615, 'persuades': 5549, 'surplus': 7390, 'flesh': 2965, 'humans': 3695, 'plea': 5648, 'democracy': 1953, 'civic': 1310, 'audible': 573, 'reputedly': 6241, 'unfilmable': 7953, 'novels': 5160, 'backed': 626, 'yakusho': 8458, 'shimizu': 6761, 'dunk': 2319, 'underrate': 7928, 'squareness': 7125, 'darling': 1839, 'cable': 1055, 'palin': 5398, 'worlds': 8427, 'unnotable': 7997, 'closest': 1373, 'friends': 3103, 'coin': 1405, 'anew': 380, 'trumps': 7830, 'classify': 1331, 'werner': 8297, 'congratulate': 1548, 'sydney': 7441, 'harbour': 3467, 'seater': 6624, 'plane': 5631, 'glide': 3260, 'pristine': 5841, 'camerawork': 1080, 'humanistic': 3691, 'outsiders': 5318, 'applauded': 445, 'tireless': 7680, 'laced': 4262, 'liberal': 4381, 'stimulus': 7217, 'optic': 5267, 'fusion': 3147, 'broader': 974, 'concrete': 1523, 'mesmerise': 4755, 'mesmerised': 4756, 'competence': 1478, 'worldly': 8426, 'olympics': 5234, 'redolent': 6121, 'weissman': 8288, 'weber': 8274, 'corvettes': 1658, 'weaver': 8270, 'lapaglia': 4289, 'naughty': 5034, 'abroad': 113, 'affords': 240, 'marked': 4631, 'subjective': 7304, 'angela': 382, 'gheorghiu': 3230, 'rugged': 6454, 'align': 297, 'shimmer': 6762, 'shimmering': 6763, 'reassuringly': 6083, 'nervous': 5075, 'uncertainties': 7897, 'harmonic': 3480, 'armed': 479, 'mara': 4616, 'levy': 4374, 'namesake': 5008, 'ought': 5300, 'veterans': 8116, 'gossip': 3309, 'wealth': 8261, 'donovan': 2222, 'critically': 1747, 'perplex': 5538, 'austrian': 587, 'suppression': 7382, 'vocation': 8179, 'assurance': 536, 'acclaim': 135, 'tool': 7709, 'stepped': 7191, 'noteworthy': 5150, 'acts': 175, 'shaw': 6750, 'photon': 5581, 'attentions': 565, '1993': 40, 'naval': 5037, 'personnel': 5547, 'diego': 2065, 'titans': 7684, 'reopen': 6214, 'dome': 2216, 'bedfellows': 721, 'compatible': 1473, 'eventful': 2613, 'guru': 3413, 'essential': 2581, 'nonchalant': 5122, 'aa': 98, 'ee': 2383, 'rated': 6049, 'reflexive': 6136, 'entries': 2543, 'tart': 7497, 'stakes': 7142, 'modestly': 4865, 'instal': 3966, 'mores': 4907, 'fraser': 3077, 'scan': 6541, 'brent': 953, 'bolstered': 875, 'economics': 2370, 'fabulousness': 2749, 'cinematically': 1301, 'consequences': 1559, 'jake': 4100, 'susan': 7405, 'holly': 3620, 'ellen': 2423, 'pope': 5709, 'findaid': 2916, 'tennis': 7554, 'assay': 526, 'chardonne': 1219, 'crowdpleaser': 1760, 'resources': 6264, 'cant': 1098, 'poet': 5677, 'workplace': 8421, 'conceptually': 1516, 'reflective': 6135, 'rural': 6468, 'timer': 7671, 'hilary': 3578, 'birmingham': 797, 'portraiture': 5725, 'stretches': 7254, 'facts': 2763, 'cuban': 1773, 'gory': 3308, 'ethereal': 2593, 'item': 4083, 'unknown': 7983, 'recognizable': 6098, 'forester': 3028, 'highway': 3576, 'patrol': 5475, 'caution': 1169, 'ecological': 2367, 'relaxed': 6171, 'speculative': 7063, 'brainpower': 925, 'unfakable': 7952, 'coupled': 1674, 'demos': 1960, 'localize': 4457, 'aerial': 224, 'evergreen': 2619, 'lightly': 4399, 'contemplation': 1582, 'baffle': 635, 'changing': 1206, '16': 21, 'players': 5643, 'fore': 3021, 'inestimable': 3887, 'bust': 1040, 'tim': 7666, 'efficiency': 2389, 'nonchalantly': 5123, 'reluctant': 6186, 'captors': 1113, 'method': 4769, 'swords': 7440, 'traditionally': 7749, 'rigor': 6354, 'composer': 1496, 'insider': 3948, 'bladerunner': 812, 'samuel': 6506, 'tudes': 7840, 'berkeley': 762, 'dislocation': 2144, 'gracious': 3321, 'taxi': 7509, 'sanity': 6517}\n"
     ]
    }
   ],
   "source": [
    "from sklearn.feature_extraction.text import TfidfVectorizer\n",
    "# list of text documents\n",
    "text = X.input_data1.values\n",
    "# create the transform\n",
    "vectorizer = TfidfVectorizer()\n",
    "# tokenize and build vocab\n",
    "vectorizer.fit(text)\n",
    "# summarize\n",
    "print(vectorizer.vocabulary_)\n",
    "\n",
    "# encode document\n",
    "# vector = vectorizer.transform(text)"
   ]
  },
  {
   "cell_type": "code",
   "execution_count": 56,
   "id": "0232f57c",
   "metadata": {},
   "outputs": [
    {
     "name": "stdout",
     "output_type": "stream",
     "text": [
      "13023 13023\n",
      "3255 3255\n"
     ]
    }
   ],
   "source": [
    "train_x = vectorizer.transform(train.input_data1.values).toarray()\n",
    "train_y = train.Sentiment.values\n",
    "test_x = vectorizer.transform(test.input_data1.values).toarray()\n",
    "test_y = test.Sentiment.values\n",
    "print(len(train_x),len(train_y))\n",
    "print(len(test_x),len(test_y))"
   ]
  },
  {
   "cell_type": "markdown",
   "id": "f083ac80",
   "metadata": {},
   "source": [
    "# Train Vavie Bayes ML algorithm"
   ]
  },
  {
   "cell_type": "code",
   "execution_count": 57,
   "id": "3611d916",
   "metadata": {},
   "outputs": [
    {
     "data": {
      "text/plain": [
       "BernoulliNB()"
      ]
     },
     "execution_count": 57,
     "metadata": {},
     "output_type": "execute_result"
    }
   ],
   "source": [
    "from sklearn.naive_bayes import BernoulliNB\n",
    "clf = BernoulliNB()\n",
    "clf.fit(train_x,train_y)"
   ]
  },
  {
   "cell_type": "markdown",
   "id": "2661f90a",
   "metadata": {},
   "source": [
    "# Test Data"
   ]
  },
  {
   "cell_type": "code",
   "execution_count": 58,
   "id": "cbe2aaed",
   "metadata": {},
   "outputs": [
    {
     "data": {
      "text/plain": [
       "array([4, 4, 4, ..., 0, 0, 0], dtype=int64)"
      ]
     },
     "execution_count": 58,
     "metadata": {},
     "output_type": "execute_result"
    }
   ],
   "source": [
    "y_predict = clf.predict(test_x)\n",
    "y_predict"
   ]
  },
  {
   "cell_type": "markdown",
   "id": "034ce7ea",
   "metadata": {},
   "source": [
    "## Confusion Matrix"
   ]
  },
  {
   "cell_type": "code",
   "execution_count": 59,
   "id": "70c672e8",
   "metadata": {},
   "outputs": [
    {
     "data": {
      "text/plain": [
       "array([[1238,  176],\n",
       "       [  93, 1748]], dtype=int64)"
      ]
     },
     "execution_count": 59,
     "metadata": {},
     "output_type": "execute_result"
    }
   ],
   "source": [
    "from sklearn.metrics import confusion_matrix\n",
    "from sklearn.metrics import accuracy_score\n",
    "\n",
    "cm = confusion_matrix(test_y,y_predict)\n",
    "cm"
   ]
  },
  {
   "cell_type": "markdown",
   "id": "bbf68200",
   "metadata": {},
   "source": [
    "<img src='https://miro.medium.com/max/712/1*Z54JgbS4DUwWSknhDCvNTQ.png'>"
   ]
  },
  {
   "cell_type": "raw",
   "id": "de1368c3",
   "metadata": {},
   "source": [
    "label True, prediction Postive(True) = TP\n",
    "label False, prediction Negative(False) = TN\n",
    "\n",
    "label True, prediction Negative(False) = FN\n",
    "label False, prediction Positive(True) = FP"
   ]
  },
  {
   "cell_type": "code",
   "execution_count": 60,
   "id": "b2180399",
   "metadata": {},
   "outputs": [
    {
     "data": {
      "text/plain": [
       "0.917357910906298"
      ]
     },
     "execution_count": 60,
     "metadata": {},
     "output_type": "execute_result"
    }
   ],
   "source": [
    "accuracy_score(test_y, y_predict)"
   ]
  },
  {
   "cell_type": "code",
   "execution_count": null,
   "id": "bf13b111",
   "metadata": {},
   "outputs": [],
   "source": [
    "from sklearn import tree\n",
    "from sklearn.tree import DecisionTreeClassifier\n",
    "clf = DecisionTreeClassifier()\n",
    "clf.fit(train_x,train_y)"
   ]
  },
  {
   "cell_type": "code",
   "execution_count": 37,
   "id": "49089db2",
   "metadata": {},
   "outputs": [
    {
     "data": {
      "text/plain": [
       "array([4, 4, 4, ..., 0, 0, 0], dtype=int64)"
      ]
     },
     "execution_count": 37,
     "metadata": {},
     "output_type": "execute_result"
    }
   ],
   "source": [
    "y_predict = clf.predict(test_x)\n",
    "y_predict"
   ]
  },
  {
   "cell_type": "code",
   "execution_count": 40,
   "id": "6f68be06",
   "metadata": {},
   "outputs": [
    {
     "data": {
      "text/plain": [
       "0.8866359447004608"
      ]
     },
     "execution_count": 40,
     "metadata": {},
     "output_type": "execute_result"
    }
   ],
   "source": [
    "accuracy_score(test_y, y_predict)  #Decision TREE"
   ]
  },
  {
   "cell_type": "code",
   "execution_count": 46,
   "id": "67a707df",
   "metadata": {},
   "outputs": [
    {
     "data": {
      "text/plain": [
       "RandomForestClassifier()"
      ]
     },
     "execution_count": 46,
     "metadata": {},
     "output_type": "execute_result"
    }
   ],
   "source": [
    "from sklearn.ensemble import RandomForestClassifier  \n",
    "clf = RandomForestClassifier()  \n",
    "clf.fit(train_x,train_y)"
   ]
  },
  {
   "cell_type": "code",
   "execution_count": 47,
   "id": "4586ca2f",
   "metadata": {},
   "outputs": [
    {
     "data": {
      "text/plain": [
       "array([4, 4, 4, ..., 0, 0, 0], dtype=int64)"
      ]
     },
     "execution_count": 47,
     "metadata": {},
     "output_type": "execute_result"
    }
   ],
   "source": [
    "y_predict = clf.predict(test_x)\n",
    "y_predict"
   ]
  },
  {
   "cell_type": "code",
   "execution_count": 49,
   "id": "040d16d8",
   "metadata": {},
   "outputs": [
    {
     "data": {
      "text/plain": [
       "0.9127496159754225"
      ]
     },
     "execution_count": 49,
     "metadata": {},
     "output_type": "execute_result"
    }
   ],
   "source": [
    "accuracy_score(test_y, y_predict)  #Random Forest"
   ]
  },
  {
   "cell_type": "code",
   "execution_count": 79,
   "id": "5f76009d",
   "metadata": {},
   "outputs": [
    {
     "data": {
      "text/plain": [
       "SVC()"
      ]
     },
     "execution_count": 79,
     "metadata": {},
     "output_type": "execute_result"
    }
   ],
   "source": [
    "from sklearn import svm\n",
    "clf = svm.SVC()\n",
    "clf.fit(train_x,train_y)"
   ]
  },
  {
   "cell_type": "code",
   "execution_count": 80,
   "id": "617e2905",
   "metadata": {},
   "outputs": [
    {
     "data": {
      "text/plain": [
       "array([4, 4, 4, ..., 0, 0, 0], dtype=int64)"
      ]
     },
     "execution_count": 80,
     "metadata": {},
     "output_type": "execute_result"
    }
   ],
   "source": [
    "y_predict = clf.predict(test_x)\n",
    "y_predict"
   ]
  },
  {
   "cell_type": "code",
   "execution_count": 81,
   "id": "33970cd6",
   "metadata": {},
   "outputs": [
    {
     "data": {
      "text/plain": [
       "0.9453149001536099"
      ]
     },
     "execution_count": 81,
     "metadata": {},
     "output_type": "execute_result"
    }
   ],
   "source": [
    "accuracy_score(test_y, y_predict)  #SVM"
   ]
  },
  {
   "cell_type": "code",
   "execution_count": 82,
   "id": "b2c7b98f",
   "metadata": {},
   "outputs": [
    {
     "data": {
      "text/plain": [
       "KNeighborsClassifier(n_neighbors=1)"
      ]
     },
     "execution_count": 82,
     "metadata": {},
     "output_type": "execute_result"
    }
   ],
   "source": [
    "from sklearn.neighbors import KNeighborsClassifier\n",
    "clf = KNeighborsClassifier(n_neighbors=1)\n",
    "clf.fit(train_x,train_y)"
   ]
  },
  {
   "cell_type": "code",
   "execution_count": 83,
   "id": "73892c6d",
   "metadata": {
    "collapsed": true
   },
   "outputs": [
    {
     "name": "stderr",
     "output_type": "stream",
     "text": [
      "C:\\Users\\shaze\\anaconda3\\lib\\site-packages\\sklearn\\neighbors\\_classification.py:228: FutureWarning: Unlike other reduction functions (e.g. `skew`, `kurtosis`), the default behavior of `mode` typically preserves the axis it acts along. In SciPy 1.11.0, this behavior will change: the default value of `keepdims` will become False, the `axis` over which the statistic is taken will be eliminated, and the value None will no longer be accepted. Set `keepdims` to True or False to avoid this warning.\n",
      "  mode, _ = stats.mode(_y[neigh_ind, k], axis=1)\n"
     ]
    },
    {
     "data": {
      "text/plain": [
       "array([4, 4, 4, ..., 0, 0, 0], dtype=int64)"
      ]
     },
     "execution_count": 83,
     "metadata": {},
     "output_type": "execute_result"
    }
   ],
   "source": [
    "y_predict = clf.predict(test_x)\n",
    "y_predict"
   ]
  },
  {
   "cell_type": "code",
   "execution_count": 84,
   "id": "13a1fd65",
   "metadata": {},
   "outputs": [
    {
     "data": {
      "text/plain": [
       "0.9299539170506912"
      ]
     },
     "execution_count": 84,
     "metadata": {},
     "output_type": "execute_result"
    }
   ],
   "source": [
    "accuracy_score(test_y, y_predict)  #KNeighborsClassifier"
   ]
  },
  {
   "cell_type": "code",
   "execution_count": null,
   "id": "7795d4c8",
   "metadata": {},
   "outputs": [],
   "source": []
  }
 ],
 "metadata": {
  "kernelspec": {
   "display_name": "Python 3 (ipykernel)",
   "language": "python",
   "name": "python3"
  },
  "language_info": {
   "codemirror_mode": {
    "name": "ipython",
    "version": 3
   },
   "file_extension": ".py",
   "mimetype": "text/x-python",
   "name": "python",
   "nbconvert_exporter": "python",
   "pygments_lexer": "ipython3",
   "version": "3.9.13"
  }
 },
 "nbformat": 4,
 "nbformat_minor": 5
}
