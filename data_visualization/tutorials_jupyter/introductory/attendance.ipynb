{
 "cells": [
  {
   "cell_type": "code",
   "execution_count": 1,
   "metadata": {},
   "outputs": [],
   "source": [
    "import re"
   ]
  },
  {
   "cell_type": "code",
   "execution_count": 22,
   "metadata": {},
   "outputs": [
    {
     "name": "stdout",
     "output_type": "stream",
     "text": [
      "[46165, 45055, 46190, 40222, 44226, 41824, 40591, 40352, 47242, 51851, 40504, 47134, 47456, 46214, 43619, 46716, 44378, 40483, 40969, 40939, 40790, 49551, 40154, 43688, 43688, 42612, 50908, 40969, 42612, 50908, 42612, 40504, 47134]\n"
     ]
    },
    {
     "data": {
      "text/plain": [
       "33"
      ]
     },
     "execution_count": 22,
     "metadata": {},
     "output_type": "execute_result"
    }
   ],
   "source": [
    "with open(\"meeting_saved_chat.txt\") as f:\n",
    "    f = f.readlines()\n",
    "    f = [i.replace(\"-\",\" \") for i in f]\n",
    "    f = [re.findall(r'\\b[0-9]{5,6}',i) for i in f]\n",
    "    l = []\n",
    "    for roll in f:\n",
    "        if roll not in l and len(roll)>=1:\n",
    "            l.append(int(roll[0]))\n",
    "            \n",
    "    print(l)\n",
    "    \n",
    "len(l)\n"
   ]
  },
  {
   "cell_type": "code",
   "execution_count": 23,
   "metadata": {},
   "outputs": [
    {
     "name": "stdout",
     "output_type": "stream",
     "text": [
      "26\n"
     ]
    }
   ],
   "source": [
    "import pandas as pd\n",
    "df = pd.DataFrame({\"12Sep2022\":l}).drop_duplicates()\n",
    "print(len(df))"
   ]
  },
  {
   "cell_type": "code",
   "execution_count": 24,
   "metadata": {},
   "outputs": [],
   "source": [
    "df.sort_values(\"12Sep2022\").to_excel(\"12SepAI_9To12.xlsx\",index=False)"
   ]
  },
  {
   "cell_type": "code",
   "execution_count": null,
   "metadata": {},
   "outputs": [],
   "source": []
  }
 ],
 "metadata": {
  "kernelspec": {
   "display_name": "Python 3",
   "language": "python",
   "name": "python3"
  },
  "language_info": {
   "codemirror_mode": {
    "name": "ipython",
    "version": 3
   },
   "file_extension": ".py",
   "mimetype": "text/x-python",
   "name": "python",
   "nbconvert_exporter": "python",
   "pygments_lexer": "ipython3",
   "version": "3.7.6"
  }
 },
 "nbformat": 4,
 "nbformat_minor": 4
}
