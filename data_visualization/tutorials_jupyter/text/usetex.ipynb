{
  "cells": [
    {
      "cell_type": "code",
      "execution_count": null,
      "metadata": {
        "collapsed": false
      },
      "outputs": [],
      "source": [
        "%matplotlib inline"
      ]
    },
    {
      "cell_type": "markdown",
      "metadata": {},
      "source": [
        "\n# Text rendering with LaTeX\n\nMatplotlib can use LaTeX to render text.  This is activated by setting\n``text.usetex : True`` in your rcParams, or by setting the ``usetex`` property\nto True on individual `.Text` objects.  Text handling through LaTeX is slower\nthan Matplotlib's very capable :doc:`mathtext </tutorials/text/mathtext>`, but\nis more flexible, since different LaTeX packages (font packages, math packages,\netc.) can be used. The results can be striking, especially when you take care\nto use the same fonts in your figures as in the main document.\n\nMatplotlib's LaTeX support requires a working LaTeX_ installation.  For\nthe \\*Agg backends, dvipng_ is additionally required; for the PS backend,\nPSfrag_, dvips_ and Ghostscript_ are additionally required.  For the PDF\nand SVG backends, if LuaTeX is present, it will be used to speed up some\npost-processing steps, but note that it is not used to parse the TeX string\nitself (only LaTeX is supported).  The executables for these external\ndependencies must all be located on your :envvar:`PATH`.\n\nThere are a couple of options to mention, which can be changed using\n:doc:`rc settings </tutorials/introductory/customizing>`. Here is an example\nmatplotlibrc file::\n\n  font.family        : serif\n  font.serif         : Times, Palatino, New Century Schoolbook, Bookman, Computer Modern Roman\n  font.sans-serif    : Helvetica, Avant Garde, Computer Modern Sans Serif\n  font.cursive       : Zapf Chancery\n  font.monospace     : Courier, Computer Modern Typewriter\n\n  text.usetex        : true\n\nThe first valid font in each family is the one that will be loaded. If the\nfonts are not specified, the Computer Modern fonts are used by default. All of\nthe other fonts are Adobe fonts. Times and Palatino each have their own\naccompanying math fonts, while the other Adobe serif fonts make use of the\nComputer Modern math fonts. See the PSNFSS_ documentation for more details.\n\nTo use LaTeX and select Helvetica as the default font, without editing\nmatplotlibrc use::\n\n  import matplotlib.pyplot as plt\n  plt.rcParams.update({\n      \"text.usetex\": True,\n      \"font.family\": \"sans-serif\",\n      \"font.sans-serif\": [\"Helvetica\"]})\n  # for Palatino and other serif fonts use:\n  plt.rcParams.update({\n      \"text.usetex\": True,\n      \"font.family\": \"serif\",\n      \"font.serif\": [\"Palatino\"],\n  })\n  # It's also possible to use the reduced notation by directly setting font.family:\n  plt.rcParams.update({\n    \"text.usetex\": True,\n    \"font.family\": \"Helvetica\"\n  })\n\nCurrently, the supported fonts are:\n\n================= ============================================================\nfamily            fonts\n================= ============================================================\n``'serif'``         ``'New Century Schoolbook'``, ``'Bookman'``, ``'Times'``,\n                    ``'Palatino'``, ``'Charter'``, ``'Computer Modern Roman'``\n\n``'sans-serif'``  ``'Helvetica'``, ``'Avant Garde'``, ``'Computer Modern\n                  Serif'``\n\n``'cursive'``     ``'Zapf Chancery'``\n\n``'monospace'``   ``'Courier'``, ``'Computer Modern Typewriter'``\n================= ============================================================\n\nHere is the standard example,\n:doc:`/gallery/text_labels_and_annotations/tex_demo`:\n\n.. figure:: ../../gallery/text_labels_and_annotations/images/sphx_glr_tex_demo_001.png\n   :target: ../../gallery/text_labels_and_annotations/tex_demo.html\n   :align: center\n\nNote that display math mode (``$$ e=mc^2 $$``) is not supported, but adding the\ncommand ``\\displaystyle``, as in the above demo, will produce the same results.\n\nNon-ASCII characters (e.g. the degree sign in the y-label above) are supported\nto the extent that they are supported by inputenc_.\n\n<div class=\"alert alert-info\"><h4>Note</h4><p>Certain characters require special escaping in TeX, such as::\n\n     # $ % & ~ _ ^ \\ { } \\( \\) \\[ \\]\n\n   Therefore, these characters will behave differently depending on\n   :rc:`text.usetex`.</p></div>\n\n## PostScript options\n\nIn order to produce encapsulated PostScript (EPS) files that can be embedded\nin a new LaTeX document, the default behavior of Matplotlib is to distill the\noutput, which removes some PostScript operators used by LaTeX that are illegal\nin an EPS file. This step produces results which may be unacceptable to some\nusers, because the text is coarsely rasterized and converted to bitmaps, which\nare not scalable like standard PostScript, and the text is not searchable. One\nworkaround is to set :rc:`ps.distiller.res` to a higher value (perhaps 6000)\nin your rc settings, which will produce larger files but may look better and\nscale reasonably. A better workaround, which requires Poppler_ or Xpdf_, can\nbe activated by changing :rc:`ps.usedistiller` to ``xpdf``. This alternative\nproduces PostScript without rasterizing text, so it scales properly, can be\nedited in Adobe Illustrator, and searched text in pdf documents.\n\n\n## Possible hangups\n\n* On Windows, the :envvar:`PATH` environment variable may need to be modified\n  to include the directories containing the latex, dvipng and ghostscript\n  executables. See `environment-variables` and\n  `setting-windows-environment-variables` for details.\n\n* Using MiKTeX with Computer Modern fonts, if you get odd \\*Agg and PNG\n  results, go to MiKTeX/Options and update your format files\n\n* On Ubuntu and Gentoo, the base texlive install does not ship with\n  the type1cm package. You may need to install some of the extra\n  packages to get all the goodies that come bundled with other LaTeX\n  distributions.\n\n* Some progress has been made so Matplotlib uses the dvi files\n  directly for text layout. This allows LaTeX to be used for text\n  layout with the pdf and svg backends, as well as the \\*Agg and PS\n  backends. In the future, a LaTeX installation may be the only\n  external dependency.\n\n\n## Troubleshooting\n\n* Try deleting your :file:`.matplotlib/tex.cache` directory. If you don't know\n  where to find :file:`.matplotlib`, see `locating-matplotlib-config-dir`.\n\n* Make sure LaTeX, dvipng and ghostscript are each working and on your\n  :envvar:`PATH`.\n\n* Make sure what you are trying to do is possible in a LaTeX document,\n  that your LaTeX syntax is valid and that you are using raw strings\n  if necessary to avoid unintended escape sequences.\n\n* :rc:`text.latex.preamble` is not officially supported. This\n  option provides lots of flexibility, and lots of ways to cause\n  problems. Please disable this option before reporting problems to\n  the mailing list.\n\n* If you still need help, please see `reporting-problems`.\n\n"
      ]
    }
  ],
  "metadata": {
    "kernelspec": {
      "display_name": "Python 3",
      "language": "python",
      "name": "python3"
    },
    "language_info": {
      "codemirror_mode": {
        "name": "ipython",
        "version": 3
      },
      "file_extension": ".py",
      "mimetype": "text/x-python",
      "name": "python",
      "nbconvert_exporter": "python",
      "pygments_lexer": "ipython3",
      "version": "3.10.4"
    }
  },
  "nbformat": 4,
  "nbformat_minor": 0
}