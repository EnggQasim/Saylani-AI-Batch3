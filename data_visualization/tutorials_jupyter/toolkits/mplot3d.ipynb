{
  "cells": [
    {
      "cell_type": "code",
      "execution_count": null,
      "metadata": {
        "collapsed": false
      },
      "outputs": [],
      "source": [
        "%matplotlib inline"
      ]
    },
    {
      "cell_type": "markdown",
      "metadata": {},
      "source": [
        "\n# The mplot3d Toolkit\n\nGenerating 3D plots using the mplot3d toolkit.\n\n.. currentmodule:: mpl_toolkits.mplot3d\n   :backlinks: none\n\n3D Axes (of class `.Axes3D`) are created by passing the ``projection=\"3d\"``\nkeyword argument to `.Figure.add_subplot`::\n\n   import matplotlib.pyplot as plt\n   fig = plt.figure()\n   ax = fig.add_subplot(projection='3d')\n\nMultiple 3D subplots can be added on the same figure, as for 2D subplots.\n\n.. figure:: ../../gallery/mplot3d/images/sphx_glr_subplot3d_001.png\n   :target: ../../gallery/mplot3d/subplot3d.html\n   :align: center\n\n.. versionchanged:: 1.0.0\n   Prior to Matplotlib 1.0.0, only a single `.Axes3D` could be created per\n   figure; it needed to be directly instantiated as ``ax = Axes3D(fig)``.\n\n.. versionchanged:: 3.2.0\n   Prior to Matplotlib 3.2.0, it was necessary to explicitly import the\n   :mod:`mpl_toolkits.mplot3d` module to make the '3d' projection to\n   `.Figure.add_subplot`.\n\nSee the `toolkit_mplot3d-faq` for more information about the mplot3d\ntoolkit.\n\n\n## Line plots\n\n.. figure:: ../../gallery/mplot3d/images/sphx_glr_lines3d_001.png\n   :target: ../../gallery/mplot3d/lines3d.html\n   :align: center\n\n.. automethod:: Axes3D.plot\n\n\n## Scatter plots\n\n.. figure:: ../../gallery/mplot3d/images/sphx_glr_scatter3d_001.png\n   :target: ../../gallery/mplot3d/scatter3d.html\n   :align: center\n\n.. automethod:: Axes3D.scatter\n\n\n## Wireframe plots\n\n.. figure:: ../../gallery/mplot3d/images/sphx_glr_wire3d_001.png\n   :target: ../../gallery/mplot3d/wire3d.html\n   :align: center\n\n.. automethod:: Axes3D.plot_wireframe\n\n\n## Surface plots\n\n.. figure:: ../../gallery/mplot3d/images/sphx_glr_surface3d_001.png\n   :target: ../../gallery/mplot3d/surface3d.html\n   :align: center\n\n.. automethod:: Axes3D.plot_surface\n\n\n## Tri-Surface plots\n\n.. figure:: ../../gallery/mplot3d/images/sphx_glr_trisurf3d_001.png\n   :target: ../../gallery/mplot3d/trisurf3d.html\n   :align: center\n\n.. automethod:: Axes3D.plot_trisurf\n\n\n## Contour plots\n\n.. figure:: ../../gallery/mplot3d/images/sphx_glr_contour3d_001.png\n   :target: ../../gallery/mplot3d/contour3d.html\n   :align: center\n\n.. automethod:: Axes3D.contour\n\n\n## Filled contour plots\n\n.. figure:: ../../gallery/mplot3d/images/sphx_glr_contourf3d_001.png\n   :target: ../../gallery/mplot3d/contourf3d.html\n   :align: center\n\n.. automethod:: Axes3D.contourf\n\n.. versionadded:: 1.1.0\n   The feature demoed in the second contourf3d example was enabled as a\n   result of a bugfix for version 1.1.0.\n\n\n## Polygon plots\n\n.. figure:: ../../gallery/mplot3d/images/sphx_glr_polys3d_001.png\n   :target: ../../gallery/mplot3d/polys3d.html\n   :align: center\n\n.. automethod:: Axes3D.add_collection3d\n\n\n## Bar plots\n\n.. figure:: ../../gallery/mplot3d/images/sphx_glr_bars3d_001.png\n   :target: ../../gallery/mplot3d/bars3d.html\n   :align: center\n\n.. automethod:: Axes3D.bar\n\n\n## Quiver\n\n.. figure:: ../../gallery/mplot3d/images/sphx_glr_quiver3d_001.png\n   :target: ../../gallery/mplot3d/quiver3d.html\n   :align: center\n\n.. automethod:: Axes3D.quiver\n\n\n## 2D plots in 3D\n.. figure:: ../../gallery/mplot3d/images/sphx_glr_2dcollections3d_001.png\n   :target: ../../gallery/mplot3d/2dcollections3d.html\n   :align: center\n\n\n## Text\n\n.. figure:: ../../gallery/mplot3d/images/sphx_glr_text3d_001.png\n   :target: ../../gallery/mplot3d/text3d.html\n   :align: center\n\n.. automethod:: Axes3D.text\n"
      ]
    }
  ],
  "metadata": {
    "kernelspec": {
      "display_name": "Python 3",
      "language": "python",
      "name": "python3"
    },
    "language_info": {
      "codemirror_mode": {
        "name": "ipython",
        "version": 3
      },
      "file_extension": ".py",
      "mimetype": "text/x-python",
      "name": "python",
      "nbconvert_exporter": "python",
      "pygments_lexer": "ipython3",
      "version": "3.10.4"
    }
  },
  "nbformat": 4,
  "nbformat_minor": 0
}