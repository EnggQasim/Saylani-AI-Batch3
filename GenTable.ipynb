{
 "cells": [
  {
   "cell_type": "code",
   "execution_count": 1,
   "id": "6d185b8d",
   "metadata": {},
   "outputs": [
    {
     "name": "stdout",
     "output_type": "stream",
     "text": [
      "My Name is Shahzad Ahmed\n"
     ]
    }
   ],
   "source": [
    "print(\"My Name is Shahzad Ahmed\")"
   ]
  },
  {
   "cell_type": "code",
   "execution_count": 2,
   "id": "6bb52fd1",
   "metadata": {},
   "outputs": [
    {
     "name": "stdout",
     "output_type": "stream",
     "text": [
      "Select the Table Name55\n",
      "55 x 1 = 55\n",
      "55 x 2 = 110\n",
      "55 x 3 = 165\n",
      "55 x 4 = 220\n",
      "55 x 5 = 275\n",
      "55 x 6 = 330\n",
      "55 x 7 = 385\n",
      "55 x 8 = 440\n",
      "55 x 9 = 495\n",
      "55 x 10 = 550\n"
     ]
    }
   ],
   "source": [
    "v_table = input(\"Select the Table Name\")\n",
    "\n",
    "for x in range(1, 11): \n",
    "    print(v_table, 'x', x, '=', int(v_table)*x)"
   ]
  },
  {
   "cell_type": "code",
   "execution_count": null,
   "id": "da3cd260",
   "metadata": {},
   "outputs": [],
   "source": []
  }
 ],
 "metadata": {
  "kernelspec": {
   "display_name": "Python 3 (ipykernel)",
   "language": "python",
   "name": "python3"
  },
  "language_info": {
   "codemirror_mode": {
    "name": "ipython",
    "version": 3
   },
   "file_extension": ".py",
   "mimetype": "text/x-python",
   "name": "python",
   "nbconvert_exporter": "python",
   "pygments_lexer": "ipython3",
   "version": "3.9.12"
  }
 },
 "nbformat": 4,
 "nbformat_minor": 5
}
