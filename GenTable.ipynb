{
 "cells": [
  {
   "cell_type": "code",
   "execution_count": 1,
   "id": "6d185b8d",
   "metadata": {},
   "outputs": [
    {
     "name": "stdout",
     "output_type": "stream",
     "text": [
      "My Name is Shahzad Ahmed\n"
     ]
    }
   ],
   "source": [
    "print(\"My Name is Shahzad Ahmed\")"
   ]
  },
  {
   "cell_type": "code",
   "execution_count": 83,
   "id": "6bb52fd1",
   "metadata": {},
   "outputs": [
    {
     "name": "stdout",
     "output_type": "stream",
     "text": [
      "12 x 1 = 12\n",
      "12 x 2 = 24\n",
      "12 x 3 = 36\n",
      "12 x 4 = 48\n",
      "12 x 5 = 60\n",
      "12 x 6 = 72\n",
      "12 x 7 = 84\n",
      "12 x 8 = 96\n",
      "12 x 9 = 108\n",
      "12 x 10 = 120\n"
     ]
    }
   ],
   "source": [
    "v_table = 12 \n",
    "\n",
    "for x in range(1, 11): \n",
    "    print(v_table, 'x', x, '=', v_table*x)"
   ]
  },
  {
   "cell_type": "code",
   "execution_count": null,
   "id": "da3cd260",
   "metadata": {},
   "outputs": [],
   "source": []
  }
 ],
 "metadata": {
  "kernelspec": {
   "display_name": "Python 3 (ipykernel)",
   "language": "python",
   "name": "python3"
  },
  "language_info": {
   "codemirror_mode": {
    "name": "ipython",
    "version": 3
   },
   "file_extension": ".py",
   "mimetype": "text/x-python",
   "name": "python",
   "nbconvert_exporter": "python",
   "pygments_lexer": "ipython3",
   "version": "3.9.12"
  }
 },
 "nbformat": 4,
 "nbformat_minor": 5
}
