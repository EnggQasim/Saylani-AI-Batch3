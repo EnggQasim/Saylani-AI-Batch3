{
 "cells": [
  {
   "cell_type": "raw",
   "id": "b1df8ef2",
   "metadata": {},
   "source": [
    " def function_name(argument1,argument2,..):# function decriration\n",
    "    # function body start\n",
    "    print(argument1, argument2)# statment1\n",
    "    print(\"line1\")             #statment2\n",
    "    print(\"line2\")             #statment3\n",
    "    # end function body\n",
    "    \n",
    "function_name(1,2 )  # fucntion calling  \n",
    "function_name(\"A\",\"B\")  # fucntion calling"
   ]
  },
  {
   "cell_type": "markdown",
   "id": "832451f8",
   "metadata": {},
   "source": [
    "### Non-return function with required arguments"
   ]
  },
  {
   "cell_type": "code",
   "execution_count": 6,
   "id": "9ae1d40c",
   "metadata": {},
   "outputs": [
    {
     "name": "stdout",
     "output_type": "stream",
     "text": [
      "8\n",
      "10\n",
      "50\n",
      "None\n"
     ]
    }
   ],
   "source": [
    "def addition(num1,num2):\n",
    "    print(num1 + num2 )\n",
    "    \n",
    "addition(1,7)    \n",
    "addition(8,2)\n",
    "# print(num1, num2) variable local scope (only call within function body)\n",
    "abc = addition(20,30)\n",
    "print(abc)"
   ]
  },
  {
   "cell_type": "markdown",
   "id": "f24a7e87",
   "metadata": {},
   "source": [
    "### Return function with required arguments"
   ]
  },
  {
   "cell_type": "code",
   "execution_count": 7,
   "id": "088e498c",
   "metadata": {},
   "outputs": [
    {
     "name": "stdout",
     "output_type": "stream",
     "text": [
      "50\n"
     ]
    }
   ],
   "source": [
    "def addition(num1,num2):\n",
    "    return num1 + num2\n",
    "    \n",
    "addition(1,7)    \n",
    "addition(8,2)\n",
    "# print(num1, num2) variable local scope (only call within function body)\n",
    "abc = addition(20,30)\n",
    "print(abc)"
   ]
  },
  {
   "cell_type": "code",
   "execution_count": 8,
   "id": "d52f4232",
   "metadata": {},
   "outputs": [
    {
     "name": "stdout",
     "output_type": "stream",
     "text": [
      "8\n",
      "10\n",
      "50\n"
     ]
    }
   ],
   "source": [
    "print(addition(1,7))\n",
    "print(addition(8,2))\n",
    "# print(num1, num2) variable local scope (only call within function body)\n",
    "abc = addition(20,30)\n",
    "print(abc)"
   ]
  },
  {
   "cell_type": "markdown",
   "id": "93d5a6ee",
   "metadata": {},
   "source": [
    "### defualt function "
   ]
  },
  {
   "cell_type": "code",
   "execution_count": 10,
   "id": "de3a31fa",
   "metadata": {},
   "outputs": [],
   "source": [
    "# import this"
   ]
  },
  {
   "cell_type": "code",
   "execution_count": 14,
   "id": "ae650263",
   "metadata": {},
   "outputs": [],
   "source": [
    "def abc_defualt():\n",
    "    print(\"Saylani Welfer Trust...\")\n",
    "    print(\"Saylani Mass IT program\")\n",
    "    print(\"Advance Artificial Ingelligent and Data Science Batch-3\")\n",
    "    print(\"9 pm to 12 am\")"
   ]
  },
  {
   "cell_type": "code",
   "execution_count": 15,
   "id": "5195b89a",
   "metadata": {},
   "outputs": [
    {
     "name": "stdout",
     "output_type": "stream",
     "text": [
      "Saylani Welfer Trust...\n",
      "Saylani Mass IT program\n",
      "Advance Artificial Ingelligent and Data Science Batch-3\n",
      "9 pm to 12 am\n"
     ]
    }
   ],
   "source": [
    "abc_defualt()"
   ]
  },
  {
   "cell_type": "code",
   "execution_count": 16,
   "id": "c9b59ee8",
   "metadata": {},
   "outputs": [
    {
     "name": "stdout",
     "output_type": "stream",
     "text": [
      "Saylani Welfer Trust...\n",
      "Saylani Mass IT program\n",
      "Advance Artificial Ingelligent and Data Science Batch-3\n",
      "9 pm to 12 am\n"
     ]
    }
   ],
   "source": [
    "abc_defualt()"
   ]
  },
  {
   "cell_type": "markdown",
   "id": "7186327a",
   "metadata": {},
   "source": [
    "### function with required and defualt(optional) argument value"
   ]
  },
  {
   "cell_type": "code",
   "execution_count": 30,
   "id": "ea8f16b5",
   "metadata": {},
   "outputs": [
    {
     "name": "stdout",
     "output_type": "stream",
     "text": [
      "9\n",
      "90\n",
      "12\n",
      "21\n",
      "124\n"
     ]
    }
   ],
   "source": [
    "def addtiona2(num1,num2,num3=0, num4=0, num5=0):\n",
    "    return num1 + num2 + num3 + num4 + num5\n",
    "print(addtiona2(1,8))\n",
    "print(addtiona2(2,88))\n",
    "print(addtiona2(1,8,3))\n",
    "print(addtiona2(1,8,3,9))\n",
    "print(addtiona2(1,8,3,22,90))\n",
    "# addtiona2()"
   ]
  },
  {
   "cell_type": "code",
   "execution_count": null,
   "id": "023a61d3",
   "metadata": {},
   "outputs": [],
   "source": [
    "print(addtiona2(num2=1))"
   ]
  },
  {
   "cell_type": "code",
   "execution_count": 22,
   "id": "06840e71",
   "metadata": {},
   "outputs": [
    {
     "ename": "TypeError",
     "evalue": "addtiona2() takes from 2 to 5 positional arguments but 6 were given",
     "output_type": "error",
     "traceback": [
      "\u001b[1;31m---------------------------------------------------------------------------\u001b[0m",
      "\u001b[1;31mTypeError\u001b[0m                                 Traceback (most recent call last)",
      "\u001b[1;32mC:\\Users\\STUDEN~1\\AppData\\Local\\Temp/ipykernel_4676/1275102137.py\u001b[0m in \u001b[0;36m<module>\u001b[1;34m\u001b[0m\n\u001b[1;32m----> 1\u001b[1;33m \u001b[0mprint\u001b[0m\u001b[1;33m(\u001b[0m\u001b[0maddtiona2\u001b[0m\u001b[1;33m(\u001b[0m\u001b[1;36m1\u001b[0m\u001b[1;33m,\u001b[0m\u001b[1;36m8\u001b[0m\u001b[1;33m,\u001b[0m\u001b[1;36m3\u001b[0m\u001b[1;33m,\u001b[0m\u001b[1;36m22\u001b[0m\u001b[1;33m,\u001b[0m\u001b[1;36m90\u001b[0m\u001b[1;33m,\u001b[0m\u001b[1;36m99\u001b[0m\u001b[1;33m)\u001b[0m\u001b[1;33m)\u001b[0m\u001b[1;33m\u001b[0m\u001b[1;33m\u001b[0m\u001b[0m\n\u001b[0m",
      "\u001b[1;31mTypeError\u001b[0m: addtiona2() takes from 2 to 5 positional arguments but 6 were given"
     ]
    }
   ],
   "source": [
    "print(addtiona2(1,8,3,22,90,99))"
   ]
  },
  {
   "cell_type": "code",
   "execution_count": 29,
   "id": "a5316f5a",
   "metadata": {},
   "outputs": [
    {
     "name": "stdout",
     "output_type": "stream",
     "text": [
      "1 2 (3, 4, 5, 6, 7)\n",
      "25\n"
     ]
    },
    {
     "data": {
      "text/plain": [
       "3"
      ]
     },
     "execution_count": 29,
     "metadata": {},
     "output_type": "execute_result"
    }
   ],
   "source": [
    "def addition3(num1,num2, *x):\n",
    "    print(num1, num2, x)\n",
    "    result = num1 + num2\n",
    "   \n",
    "    for num in x:\n",
    "        result += num\n",
    "    \n",
    "    return result\n",
    "    \n",
    "addition3(1,2,3,4,5,6,7)    "
   ]
  },
  {
   "cell_type": "code",
   "execution_count": null,
   "id": "06719e9f",
   "metadata": {},
   "outputs": [],
   "source": []
  },
  {
   "cell_type": "markdown",
   "id": "66fa75de",
   "metadata": {},
   "source": [
    "# postional arguments"
   ]
  },
  {
   "cell_type": "code",
   "execution_count": 31,
   "id": "83cb7eed",
   "metadata": {},
   "outputs": [
    {
     "name": "stdout",
     "output_type": "stream",
     "text": [
      "num1 11 + num2 20 + num3 1 + num4 7  + num5 5 = 44\n"
     ]
    },
    {
     "data": {
      "text/plain": [
       "44"
      ]
     },
     "execution_count": 31,
     "metadata": {},
     "output_type": "execute_result"
    }
   ],
   "source": [
    "def addition2(num1,num2,num3=0, num4=0, num5=0):\n",
    "    print(f\"num1 {num1} + num2 {num2} + num3 {num3} + num4 {num4}  + num5 {num5} = {num1+num2+num3+num4+num5}\")\n",
    "    return num1 + num2 + num3 + num4 + num5\n",
    "\n",
    "addition2(num3=1, num2=20, num5=5, num4=7, num1=11)"
   ]
  },
  {
   "cell_type": "code",
   "execution_count": 32,
   "id": "1acece96",
   "metadata": {},
   "outputs": [
    {
     "name": "stdout",
     "output_type": "stream",
     "text": [
      "num1 1 + num2 20 + num3 5 + num4 7  + num5 11 = 44\n"
     ]
    },
    {
     "data": {
      "text/plain": [
       "44"
      ]
     },
     "execution_count": 32,
     "metadata": {},
     "output_type": "execute_result"
    }
   ],
   "source": [
    "addition2(1, 20, 5, 7, 11)"
   ]
  },
  {
   "cell_type": "code",
   "execution_count": 33,
   "id": "5c592392",
   "metadata": {},
   "outputs": [
    {
     "data": {
      "text/plain": [
       "'C:\\\\Users\\\\Student-PC\\\\Desktop\\\\python\\\\class8_function'"
      ]
     },
     "execution_count": 33,
     "metadata": {},
     "output_type": "execute_result"
    }
   ],
   "source": [
    "pwd()"
   ]
  },
  {
   "cell_type": "code",
   "execution_count": null,
   "id": "4b6a209a",
   "metadata": {},
   "outputs": [],
   "source": []
  }
 ],
 "metadata": {
  "kernelspec": {
   "display_name": "Python 3 (ipykernel)",
   "language": "python",
   "name": "python3"
  },
  "language_info": {
   "codemirror_mode": {
    "name": "ipython",
    "version": 3
   },
   "file_extension": ".py",
   "mimetype": "text/x-python",
   "name": "python",
   "nbconvert_exporter": "python",
   "pygments_lexer": "ipython3",
   "version": "3.9.12"
  }
 },
 "nbformat": 4,
 "nbformat_minor": 5
}
