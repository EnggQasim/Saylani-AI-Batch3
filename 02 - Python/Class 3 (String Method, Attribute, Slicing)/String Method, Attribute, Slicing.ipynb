{
 "cells": [
  {
   "cell_type": "markdown",
   "id": "00bc882a",
   "metadata": {},
   "source": [
    "# String methods and attributes"
   ]
  },
  {
   "cell_type": "code",
   "execution_count": 1,
   "id": "93fa2e4c",
   "metadata": {},
   "outputs": [
    {
     "name": "stdout",
     "output_type": "stream",
     "text": [
      "<class 'str'>\n"
     ]
    }
   ],
   "source": [
    "name = \"Muhammad Qasim\"\n",
    "print(type(name))"
   ]
  },
  {
   "cell_type": "code",
   "execution_count": 6,
   "id": "8cd0f961",
   "metadata": {},
   "outputs": [
    {
     "name": "stdout",
     "output_type": "stream",
     "text": [
      "46\n"
     ]
    },
    {
     "data": {
      "text/plain": [
       "['capitalize',\n",
       " 'casefold',\n",
       " 'center',\n",
       " 'count',\n",
       " 'encode',\n",
       " 'endswith',\n",
       " 'expandtabs',\n",
       " 'find',\n",
       " 'format',\n",
       " 'index',\n",
       " 'isalnum',\n",
       " 'isalpha',\n",
       " 'isascii',\n",
       " 'isdecimal',\n",
       " 'isdigit',\n",
       " 'isidentifier',\n",
       " 'islower',\n",
       " 'isnumeric',\n",
       " 'isprintable',\n",
       " 'isspace',\n",
       " 'istitle',\n",
       " 'isupper',\n",
       " 'join',\n",
       " 'ljust',\n",
       " 'lower',\n",
       " 'lstrip',\n",
       " 'maketrans',\n",
       " 'partition',\n",
       " 'removeprefix',\n",
       " 'removesuffix',\n",
       " 'replace',\n",
       " 'rfind',\n",
       " 'rindex',\n",
       " 'rjust',\n",
       " 'rpartition',\n",
       " 'rsplit',\n",
       " 'rstrip',\n",
       " 'split',\n",
       " 'splitlines',\n",
       " 'startswith',\n",
       " 'strip',\n",
       " 'swapcase',\n",
       " 'title',\n",
       " 'translate',\n",
       " 'upper',\n",
       " 'zfill']"
      ]
     },
     "execution_count": 6,
     "metadata": {},
     "output_type": "execute_result"
    }
   ],
   "source": [
    "a = [i for i in dir(name) if '_' not in i]\n",
    "print(len(a))\n",
    "a"
   ]
  },
  {
   "cell_type": "code",
   "execution_count": 5,
   "id": "96cf81e8",
   "metadata": {},
   "outputs": [
    {
     "name": "stdout",
     "output_type": "stream",
     "text": [
      "Muhammad qasim\n",
      "muhamMad QaSim\n"
     ]
    }
   ],
   "source": [
    "name = \"muhamMad QaSim\"\n",
    "print(name.capitalize())# in line operation\n",
    "print(name)"
   ]
  },
  {
   "cell_type": "code",
   "execution_count": 6,
   "id": "05c5cb2b",
   "metadata": {},
   "outputs": [
    {
     "name": "stdout",
     "output_type": "stream",
     "text": [
      "muhammad qasim\n",
      "muhamMad QaSim\n"
     ]
    }
   ],
   "source": [
    "name = \"muhamMad QaSim\"\n",
    "print(name.casefold())# in line operation\n",
    "print(name)"
   ]
  },
  {
   "cell_type": "code",
   "execution_count": 13,
   "id": "22a2c4c3",
   "metadata": {},
   "outputs": [
    {
     "name": "stdout",
     "output_type": "stream",
     "text": [
      "                  muhamMad QaSim                  \n",
      "50\n",
      "muhamMad QaSim\n"
     ]
    }
   ],
   "source": [
    "name = \"muhamMad QaSim\"\n",
    "print(name.center(50))# in line operation\n",
    "print(len(name.center(50)))\n",
    "print(name)"
   ]
  },
  {
   "cell_type": "code",
   "execution_count": 19,
   "id": "1975ea1f",
   "metadata": {},
   "outputs": [
    {
     "name": "stdout",
     "output_type": "stream",
     "text": [
      "1\n",
      "muhamMad QaSim\n"
     ]
    }
   ],
   "source": [
    "name = \"muhamMad QaSim\"\n",
    "print(name.count('aS'))# in line operation\n",
    "print(name)"
   ]
  },
  {
   "cell_type": "code",
   "execution_count": 20,
   "id": "6783f54b",
   "metadata": {},
   "outputs": [
    {
     "name": "stdout",
     "output_type": "stream",
     "text": [
      "5\n",
      "muhamMad QaSim, M\n"
     ]
    }
   ],
   "source": [
    "name = \"muhamMad QaSim, M\"\n",
    "print(name.casefold().count('m'))# in line operation\n",
    "print(name)"
   ]
  },
  {
   "cell_type": "code",
   "execution_count": 21,
   "id": "8230636d",
   "metadata": {},
   "outputs": [
    {
     "ename": "AttributeError",
     "evalue": "'int' object has no attribute 'casefold'",
     "output_type": "error",
     "traceback": [
      "\u001b[1;31m---------------------------------------------------------------------------\u001b[0m",
      "\u001b[1;31mAttributeError\u001b[0m                            Traceback (most recent call last)",
      "\u001b[1;32mC:\\Users\\ADMINI~1\\AppData\\Local\\Temp/ipykernel_4504/4103980280.py\u001b[0m in \u001b[0;36m<module>\u001b[1;34m\u001b[0m\n\u001b[0;32m      1\u001b[0m \u001b[0mname\u001b[0m \u001b[1;33m=\u001b[0m \u001b[1;34m\"muhamMad QaSim, M\"\u001b[0m\u001b[1;33m\u001b[0m\u001b[1;33m\u001b[0m\u001b[0m\n\u001b[1;32m----> 2\u001b[1;33m \u001b[0mprint\u001b[0m\u001b[1;33m(\u001b[0m\u001b[0mname\u001b[0m\u001b[1;33m.\u001b[0m\u001b[0mcount\u001b[0m\u001b[1;33m(\u001b[0m\u001b[1;34m'm'\u001b[0m\u001b[1;33m)\u001b[0m\u001b[1;33m.\u001b[0m\u001b[0mcasefold\u001b[0m\u001b[1;33m(\u001b[0m\u001b[1;33m)\u001b[0m\u001b[1;33m)\u001b[0m\u001b[1;31m# in line operation\u001b[0m\u001b[1;33m\u001b[0m\u001b[1;33m\u001b[0m\u001b[0m\n\u001b[0m\u001b[0;32m      3\u001b[0m \u001b[0mprint\u001b[0m\u001b[1;33m(\u001b[0m\u001b[0mname\u001b[0m\u001b[1;33m)\u001b[0m\u001b[1;33m\u001b[0m\u001b[1;33m\u001b[0m\u001b[0m\n",
      "\u001b[1;31mAttributeError\u001b[0m: 'int' object has no attribute 'casefold'"
     ]
    }
   ],
   "source": [
    "name = \"muhamMad QaSim, M\"\n",
    "print(name.count('m').casefold())# in line operation\n",
    "print(name)"
   ]
  },
  {
   "cell_type": "code",
   "execution_count": null,
   "id": "93b40cf2",
   "metadata": {},
   "outputs": [],
   "source": [
    "name = \"muhamMad QaSim, M\"\n",
    "print(name.encode())"
   ]
  },
  {
   "cell_type": "code",
   "execution_count": null,
   "id": "5d08cfe0",
   "metadata": {},
   "outputs": [],
   "source": [
    "AB┌0"
   ]
  },
  {
   "cell_type": "code",
   "execution_count": 22,
   "id": "7afb8574",
   "metadata": {},
   "outputs": [
    {
     "name": "stdout",
     "output_type": "stream",
     "text": [
      "پاکستان\n"
     ]
    }
   ],
   "source": [
    "name = \"پاکستان\"\n",
    "print(name)"
   ]
  },
  {
   "cell_type": "code",
   "execution_count": 25,
   "id": "b8ace1f1",
   "metadata": {},
   "outputs": [
    {
     "name": "stdout",
     "output_type": "stream",
     "text": [
      "b'\\xd9\\xbe\\xd8\\xa7\\xda\\xa9\\xd8\\xb3\\xd8\\xaa\\xd8\\xa7\\xd9\\x86 pakistan'\n"
     ]
    }
   ],
   "source": [
    "name = \"پاکستان pakistan\"\n",
    "print(name.encode('utf-8'))"
   ]
  },
  {
   "cell_type": "code",
   "execution_count": 26,
   "id": "4c06603e",
   "metadata": {},
   "outputs": [
    {
     "name": "stdout",
     "output_type": "stream",
     "text": [
      "True\n",
      "muhamMad QaSim\n"
     ]
    }
   ],
   "source": [
    "name = \"muhamMad QaSim\"\n",
    "print(name.endswith('im'))# in line operation\n",
    "print(name)"
   ]
  },
  {
   "cell_type": "code",
   "execution_count": 27,
   "id": "ced92280",
   "metadata": {},
   "outputs": [
    {
     "name": "stdout",
     "output_type": "stream",
     "text": [
      "True\n",
      "muhamMad QaSim\n"
     ]
    }
   ],
   "source": [
    "name = \"muhamMad QaSim\"\n",
    "print(name.startswith('mu'))# in line operation\n",
    "print(name)"
   ]
  },
  {
   "cell_type": "code",
   "execution_count": 34,
   "id": "bc1210ea",
   "metadata": {},
   "outputs": [
    {
     "name": "stdout",
     "output_type": "stream",
     "text": [
      "name:               Muhammad Qasim\n",
      "father's name:      Muhammad Aslam\n"
     ]
    }
   ],
   "source": [
    "name = \"name:\\tMuhammad Qasim\\nfather's name:\\tMuhammad Aslam\"\n",
    "print(name.expandtabs(20))# in line operation\n",
    "# print(name)"
   ]
  },
  {
   "cell_type": "code",
   "execution_count": 36,
   "id": "81d04d3c",
   "metadata": {},
   "outputs": [
    {
     "name": "stdout",
     "output_type": "stream",
     "text": [
      "15\n"
     ]
    }
   ],
   "source": [
    "name = \"name:\\tMuhammad Qasim\\nfather's name:\\tMuhammad Aslam\\nTeacherName: \\tQasim\"\n",
    "print(name.find(\"Qasim\"))"
   ]
  },
  {
   "cell_type": "code",
   "execution_count": 37,
   "id": "62bed71e",
   "metadata": {},
   "outputs": [
    {
     "name": "stdout",
     "output_type": "stream",
     "text": [
      "65\n"
     ]
    }
   ],
   "source": [
    "name = \"name:\\tMuhammad Qasim\\nfather's name:\\tMuhammad Aslam\\nTeacherName: \\tQasim\"\n",
    "print(name.find(\"Qasim\",16))"
   ]
  },
  {
   "cell_type": "code",
   "execution_count": 38,
   "id": "77fb5f7b",
   "metadata": {},
   "outputs": [
    {
     "name": "stdout",
     "output_type": "stream",
     "text": [
      "65\n"
     ]
    }
   ],
   "source": [
    "name = \"name:\\tMuhammad Qasim\\nfather's name:\\tMuhammad Aslam\\nTeacherName: \\tQasim\"\n",
    "print( name.find(\"Qasim\",name.find(\"Qasim\")+1))"
   ]
  },
  {
   "cell_type": "code",
   "execution_count": 40,
   "id": "8d4e6a8b",
   "metadata": {},
   "outputs": [
    {
     "data": {
      "text/plain": [
       "\"name:\\tAsif\\nfather's name:\\tAslam\\nTeacherName: \\tQasim\""
      ]
     },
     "execution_count": 40,
     "metadata": {},
     "output_type": "execute_result"
    }
   ],
   "source": [
    "name = \"name:\\t{}\\nfather's name:\\t{}\\nTeacherName: \\t{}\"\n",
    "name.format(\"Qasim\",\"Aslam\",\"Qasim\")\n",
    "name.format(\"Asif\",\"Aslam\",\"Qasim\")"
   ]
  },
  {
   "cell_type": "code",
   "execution_count": 44,
   "id": "09bc64fc",
   "metadata": {},
   "outputs": [
    {
     "data": {
      "text/plain": [
       "'name: Qasim\\n class: Saylani Batch3'"
      ]
     },
     "execution_count": 44,
     "metadata": {},
     "output_type": "execute_result"
    }
   ],
   "source": [
    "name = \"name: {nm}\\n class: {cl}\"\n",
    "\n",
    "data ={\"nm\":'Qasim',\n",
    "      'cl':\"Saylani Batch3\"}\n",
    "\n",
    "name.format_map(data)"
   ]
  },
  {
   "cell_type": "code",
   "execution_count": 45,
   "id": "f0548ac2",
   "metadata": {},
   "outputs": [
    {
     "data": {
      "text/plain": [
       "9"
      ]
     },
     "execution_count": 45,
     "metadata": {},
     "output_type": "execute_result"
    }
   ],
   "source": [
    "name = \"Muhammad Qasim\"\n",
    "name.index(\"Q\")"
   ]
  },
  {
   "cell_type": "code",
   "execution_count": 1,
   "id": "3394f201",
   "metadata": {},
   "outputs": [
    {
     "data": {
      "text/plain": [
       "True"
      ]
     },
     "execution_count": 1,
     "metadata": {},
     "output_type": "execute_result"
    }
   ],
   "source": [
    "name = \"abc\"\n",
    "name.isalnum()"
   ]
  },
  {
   "cell_type": "code",
   "execution_count": 3,
   "id": "b96e5e84",
   "metadata": {},
   "outputs": [
    {
     "data": {
      "text/plain": [
       "False"
      ]
     },
     "execution_count": 3,
     "metadata": {},
     "output_type": "execute_result"
    }
   ],
   "source": [
    "name = \"2abc\"\n",
    "name.isalpha()"
   ]
  },
  {
   "cell_type": "code",
   "execution_count": 4,
   "id": "e17827d6",
   "metadata": {},
   "outputs": [
    {
     "data": {
      "text/plain": [
       "True"
      ]
     },
     "execution_count": 4,
     "metadata": {},
     "output_type": "execute_result"
    }
   ],
   "source": [
    "name = \"pakistan\"\n",
    "name.isascii()"
   ]
  },
  {
   "cell_type": "markdown",
   "id": "86ca1c89",
   "metadata": {},
   "source": []
  },
  {
   "cell_type": "code",
   "execution_count": 11,
   "id": "025f8426",
   "metadata": {},
   "outputs": [
    {
     "data": {
      "text/plain": [
       "True"
      ]
     },
     "execution_count": 11,
     "metadata": {},
     "output_type": "execute_result"
    }
   ],
   "source": [
    "name = \"10\"\n",
    "name.isdecimal()"
   ]
  },
  {
   "cell_type": "code",
   "execution_count": 9,
   "id": "6507ef2a",
   "metadata": {},
   "outputs": [
    {
     "data": {
      "text/plain": [
       "False"
      ]
     },
     "execution_count": 9,
     "metadata": {},
     "output_type": "execute_result"
    }
   ],
   "source": [
    "name = '3.0'\n",
    "name.isdigit()"
   ]
  },
  {
   "cell_type": "code",
   "execution_count": 1,
   "id": "bd2f14db",
   "metadata": {},
   "outputs": [
    {
     "data": {
      "text/plain": [
       "True"
      ]
     },
     "execution_count": 1,
     "metadata": {},
     "output_type": "execute_result"
    }
   ],
   "source": [
    "name = \"pak\"\n",
    "name.isidentifier()"
   ]
  },
  {
   "cell_type": "code",
   "execution_count": 3,
   "id": "326b341c",
   "metadata": {},
   "outputs": [
    {
     "data": {
      "text/plain": [
       "False"
      ]
     },
     "execution_count": 3,
     "metadata": {},
     "output_type": "execute_result"
    }
   ],
   "source": [
    "name = \"pakIstan\"\n",
    "name.islower()"
   ]
  },
  {
   "cell_type": "code",
   "execution_count": 4,
   "id": "eb0fce86",
   "metadata": {},
   "outputs": [
    {
     "data": {
      "text/plain": [
       "True"
      ]
     },
     "execution_count": 4,
     "metadata": {},
     "output_type": "execute_result"
    }
   ],
   "source": [
    "name = \"pakistan\"\n",
    "name.islower()"
   ]
  },
  {
   "cell_type": "code",
   "execution_count": 7,
   "id": "6d9e0c75",
   "metadata": {},
   "outputs": [
    {
     "data": {
      "text/plain": [
       "'PAKISTANH'"
      ]
     },
     "execution_count": 7,
     "metadata": {},
     "output_type": "execute_result"
    }
   ],
   "source": [
    "name = \"pakistanh\"\n",
    "name.upper()"
   ]
  },
  {
   "cell_type": "code",
   "execution_count": 9,
   "id": "10642877",
   "metadata": {},
   "outputs": [
    {
     "data": {
      "text/plain": [
       "'Pakistanh Zinda Bad'"
      ]
     },
     "execution_count": 9,
     "metadata": {},
     "output_type": "execute_result"
    }
   ],
   "source": [
    "name = \"pakistanh zinda bad\"\n",
    "name.title()"
   ]
  },
  {
   "cell_type": "markdown",
   "id": "66ba236a",
   "metadata": {},
   "source": [
    "# complete remaining methods"
   ]
  },
  {
   "cell_type": "code",
   "execution_count": 10,
   "id": "3b118ab2",
   "metadata": {},
   "outputs": [],
   "source": [
    "# List Data type \n",
    "# index\n",
    "# slicing\n",
    "# methods\n",
    "# Attributes"
   ]
  },
  {
   "cell_type": "code",
   "execution_count": 13,
   "id": "9458c27a",
   "metadata": {},
   "outputs": [
    {
     "name": "stdout",
     "output_type": "stream",
     "text": [
      "<class 'list'>\n"
     ]
    },
    {
     "data": {
      "text/plain": [
       "['qasim', 'asif', 'noman', 'kamran']"
      ]
     },
     "execution_count": 13,
     "metadata": {},
     "output_type": "execute_result"
    }
   ],
   "source": [
    "#           0       1      2        3\n",
    "names = ['qasim','asif','noman','kamran']\n",
    "#          -4      -3      -2      -1\n",
    "print(type(names))\n",
    "names"
   ]
  },
  {
   "cell_type": "code",
   "execution_count": 14,
   "id": "68efa7c6",
   "metadata": {},
   "outputs": [
    {
     "name": "stdout",
     "output_type": "stream",
     "text": [
      "asif\n",
      "asif\n"
     ]
    }
   ],
   "source": [
    "print(names[1])\n",
    "print(names[-3])"
   ]
  },
  {
   "cell_type": "code",
   "execution_count": 17,
   "id": "e05e56d8",
   "metadata": {},
   "outputs": [
    {
     "name": "stdout",
     "output_type": "stream",
     "text": [
      "['qasim', 'asif', 'noman', 'kamran', 200, 300, 500, 20, 10]\n",
      "20 <class 'int'>\n",
      "asif <class 'str'>\n"
     ]
    }
   ],
   "source": [
    "#           0       1      2        3\n",
    "names = ['qasim','asif','noman','kamran',200,300,500,20,10]\n",
    "#                                       -4   -3  -2  -1\n",
    "print(names)\n",
    "print(names[-2], type(names[-2]))\n",
    "print(names[1], type(names[1]))"
   ]
  },
  {
   "cell_type": "code",
   "execution_count": 18,
   "id": "3c8b1a6e",
   "metadata": {},
   "outputs": [
    {
     "name": "stdout",
     "output_type": "stream",
     "text": [
      "['qasim', 'asif', 'noman', 'kamran', 200, 300, 500, 20, 10]\n",
      "['qasim', 'Hammad', 'noman', 'kamran', 200, 300, 500, 20, 10]\n"
     ]
    }
   ],
   "source": [
    "#           0       1      2        3\n",
    "names = ['qasim','asif','noman','kamran',200,300,500,20,10]\n",
    "print(names)\n",
    "names[1] = \"Hammad\"\n",
    "print(names)\n"
   ]
  },
  {
   "cell_type": "code",
   "execution_count": 20,
   "id": "8e248b10",
   "metadata": {},
   "outputs": [
    {
     "name": "stdout",
     "output_type": "stream",
     "text": [
      "['qasim', 'asif', 'noman', 'kamran', 200, 300, 500, 20, 10]\n"
     ]
    },
    {
     "ename": "IndexError",
     "evalue": "list index out of range",
     "output_type": "error",
     "traceback": [
      "\u001b[1;31m---------------------------------------------------------------------------\u001b[0m",
      "\u001b[1;31mIndexError\u001b[0m                                Traceback (most recent call last)",
      "\u001b[1;32mC:\\Users\\ADMINI~1\\AppData\\Local\\Temp/ipykernel_4444/1960281846.py\u001b[0m in \u001b[0;36m<module>\u001b[1;34m\u001b[0m\n\u001b[0;32m      2\u001b[0m \u001b[0mnames\u001b[0m \u001b[1;33m=\u001b[0m \u001b[1;33m[\u001b[0m\u001b[1;34m'qasim'\u001b[0m\u001b[1;33m,\u001b[0m\u001b[1;34m'asif'\u001b[0m\u001b[1;33m,\u001b[0m\u001b[1;34m'noman'\u001b[0m\u001b[1;33m,\u001b[0m\u001b[1;34m'kamran'\u001b[0m\u001b[1;33m,\u001b[0m\u001b[1;36m200\u001b[0m\u001b[1;33m,\u001b[0m\u001b[1;36m300\u001b[0m\u001b[1;33m,\u001b[0m\u001b[1;36m500\u001b[0m\u001b[1;33m,\u001b[0m\u001b[1;36m20\u001b[0m\u001b[1;33m,\u001b[0m\u001b[1;36m10\u001b[0m\u001b[1;33m]\u001b[0m\u001b[1;33m\u001b[0m\u001b[1;33m\u001b[0m\u001b[0m\n\u001b[0;32m      3\u001b[0m \u001b[0mprint\u001b[0m\u001b[1;33m(\u001b[0m\u001b[0mnames\u001b[0m\u001b[1;33m)\u001b[0m\u001b[1;33m\u001b[0m\u001b[1;33m\u001b[0m\u001b[0m\n\u001b[1;32m----> 4\u001b[1;33m \u001b[0mnames\u001b[0m\u001b[1;33m[\u001b[0m\u001b[1;36m100\u001b[0m\u001b[1;33m]\u001b[0m\u001b[1;33m\u001b[0m\u001b[1;33m\u001b[0m\u001b[0m\n\u001b[0m",
      "\u001b[1;31mIndexError\u001b[0m: list index out of range"
     ]
    }
   ],
   "source": [
    "#           0       1      2        3\n",
    "names = ['qasim','asif','noman','kamran',200,300,500,20,10]\n",
    "print(names)\n",
    "names[100]\n"
   ]
  },
  {
   "cell_type": "markdown",
   "id": "3c5ccbd1",
   "metadata": {},
   "source": [
    "# SLICING"
   ]
  },
  {
   "cell_type": "code",
   "execution_count": 22,
   "id": "9dd0217b",
   "metadata": {},
   "outputs": [],
   "source": [
    "# list[start:end:step]\n",
    "# defualt left to right (step=1, -1)\n",
    "#star: include\n",
    "#end:exlude\n",
    "#step: "
   ]
  },
  {
   "cell_type": "code",
   "execution_count": 33,
   "id": "230bcfb9",
   "metadata": {},
   "outputs": [
    {
     "data": {
      "text/plain": [
       "['qasim', 'asif', 'noman']"
      ]
     },
     "execution_count": 33,
     "metadata": {},
     "output_type": "execute_result"
    }
   ],
   "source": [
    "names = ['qasim','asif','noman','kamran',200,300,500,20,10]\n",
    "# same slicing with different values\n",
    "names[1]# index\n",
    "names[0:3]\n",
    "names[0:3:1]\n",
    "names[-9:-6]\n",
    "names[-9:-6:1]\n",
    "names[-9:3:1]\n"
   ]
  },
  {
   "cell_type": "code",
   "execution_count": 41,
   "id": "a186b4f3",
   "metadata": {},
   "outputs": [
    {
     "data": {
      "text/plain": [
       "['asif', 'noman', 'kamran', 200, 300, 500, 20, 10]"
      ]
     },
     "execution_count": 41,
     "metadata": {},
     "output_type": "execute_result"
    }
   ],
   "source": [
    "names[2:]\n",
    "names[2::]\n",
    "names[-8:]"
   ]
  },
  {
   "cell_type": "code",
   "execution_count": 42,
   "id": "2624962f",
   "metadata": {},
   "outputs": [
    {
     "name": "stdout",
     "output_type": "stream",
     "text": [
      "['qasim', 'asif', 'noman', 'kamran', 200, 300, 500, 20, 10]\n"
     ]
    },
    {
     "data": {
      "text/plain": [
       "[10, 20, 500, 300, 200, 'kamran', 'noman', 'asif', 'qasim']"
      ]
     },
     "execution_count": 42,
     "metadata": {},
     "output_type": "execute_result"
    }
   ],
   "source": [
    "names = ['qasim','asif','noman','kamran',200,300,500,20,10]\n",
    "print(names)\n",
    "names[::-1]\n",
    "\n"
   ]
  },
  {
   "cell_type": "code",
   "execution_count": 44,
   "id": "22b1f52b",
   "metadata": {},
   "outputs": [
    {
     "name": "stdout",
     "output_type": "stream",
     "text": [
      "noman\n",
      "kamran\n",
      "200\n",
      "300\n",
      "500\n",
      "20\n",
      "10\n"
     ]
    }
   ],
   "source": [
    "for i in range(2,len(names)):\n",
    "    print(names[i])"
   ]
  },
  {
   "cell_type": "code",
   "execution_count": null,
   "id": "2aaac63b",
   "metadata": {},
   "outputs": [],
   "source": []
  }
 ],
 "metadata": {
  "kernelspec": {
   "display_name": "Python 3 (ipykernel)",
   "language": "python",
   "name": "python3"
  },
  "language_info": {
   "codemirror_mode": {
    "name": "ipython",
    "version": 3
   },
   "file_extension": ".py",
   "mimetype": "text/x-python",
   "name": "python",
   "nbconvert_exporter": "python",
   "pygments_lexer": "ipython3",
   "version": "3.9.12"
  }
 },
 "nbformat": 4,
 "nbformat_minor": 5
}
