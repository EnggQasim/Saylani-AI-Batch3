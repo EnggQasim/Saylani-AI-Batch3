{
 "cells": [
  {
   "cell_type": "code",
   "execution_count": null,
   "id": "1d6abcad",
   "metadata": {},
   "outputs": [],
   "source": [
    "# https://www.w3schools.com/python/python_operators.asp\n",
    "operators\n",
    "= assign value\n",
    "+ addition\n",
    "- subtraction\n",
    "* multiplication\n",
    "/ Division\n",
    "% modulas\n",
    "// Flood Division\n",
    "\n"
   ]
  },
  {
   "cell_type": "markdown",
   "id": "92fe215b",
   "metadata": {},
   "source": [
    "# Assign operator"
   ]
  },
  {
   "cell_type": "code",
   "execution_count": 1,
   "id": "ec440df0",
   "metadata": {},
   "outputs": [
    {
     "name": "stdout",
     "output_type": "stream",
     "text": [
      "abc\n"
     ]
    }
   ],
   "source": [
    "# variable_name = value\n",
    "#               = \"\"\n",
    "              "
   ]
  },
  {
   "cell_type": "code",
   "execution_count": 6,
   "id": "f0c57bbe",
   "metadata": {},
   "outputs": [
    {
     "name": "stdout",
     "output_type": "stream",
     "text": [
      "Muhammad Qasim\n",
      "<class 'str'>\n",
      "2914909108464\n"
     ]
    }
   ],
   "source": [
    "# teacher_name = \"Muhammad Qasim\"\n",
    "# teacher_name = 'Muhammad Qasim'\n",
    "# teacher_name = \"\"\"Muhammad Qasim\"\"\"\n",
    "teacher_name = '''Muhammad Qasim'''\n",
    "\n",
    "print(teacher_name)\n",
    "print(type(teacher_name))\n",
    "print(id(teacher_name))"
   ]
  },
  {
   "cell_type": "code",
   "execution_count": 7,
   "id": "8b934f42",
   "metadata": {},
   "outputs": [
    {
     "name": "stdout",
     "output_type": "stream",
     "text": [
      "Qasim\n",
      "<class 'str'>\n",
      "2914869432624\n",
      "Qasim\n",
      "<class 'str'>\n",
      "2914869432624\n"
     ]
    }
   ],
   "source": [
    "t1 = \"Qasim\"\n",
    "t2 = \"Qasim\"\n",
    "\n",
    "print(t1)\n",
    "print(type(t1))\n",
    "print(id(t1))\n",
    "\n",
    "\n",
    "print(t2)\n",
    "print(type(t2))\n",
    "print(id(t2))"
   ]
  },
  {
   "cell_type": "code",
   "execution_count": 8,
   "id": "1d4176ad",
   "metadata": {},
   "outputs": [
    {
     "name": "stdout",
     "output_type": "stream",
     "text": [
      "15\n"
     ]
    }
   ],
   "source": [
    "num1 = 10 # int\n",
    "num2 = 5 # int\n",
    "print(num1 + num2) # result int"
   ]
  },
  {
   "cell_type": "code",
   "execution_count": 11,
   "id": "a7267fe9",
   "metadata": {},
   "outputs": [
    {
     "name": "stdout",
     "output_type": "stream",
     "text": [
      "5\n"
     ]
    }
   ],
   "source": [
    "num1 = 10 # int\n",
    "num2 = 5 # int\n",
    "print(num1 - num2) # result int"
   ]
  },
  {
   "cell_type": "code",
   "execution_count": 12,
   "id": "b07885e9",
   "metadata": {},
   "outputs": [
    {
     "name": "stdout",
     "output_type": "stream",
     "text": [
      "50\n"
     ]
    }
   ],
   "source": [
    "num1 = 10 # int\n",
    "num2 = 5 # int\n",
    "print(num1 * num2) # result int"
   ]
  },
  {
   "cell_type": "code",
   "execution_count": 13,
   "id": "37b022e8",
   "metadata": {},
   "outputs": [
    {
     "name": "stdout",
     "output_type": "stream",
     "text": [
      "2.0\n"
     ]
    }
   ],
   "source": [
    "num1 = 10 # int\n",
    "num2 = 5 # int\n",
    "print(num1 / num2) # result int"
   ]
  },
  {
   "cell_type": "code",
   "execution_count": 14,
   "id": "f3973717",
   "metadata": {},
   "outputs": [
    {
     "name": "stdout",
     "output_type": "stream",
     "text": [
      "2\n"
     ]
    }
   ],
   "source": [
    "num1 = 11 # int\n",
    "num2 = 3 # int\n",
    "print(num1 % num2) # result int"
   ]
  },
  {
   "cell_type": "code",
   "execution_count": 15,
   "id": "dfebe5ff",
   "metadata": {},
   "outputs": [
    {
     "name": "stdout",
     "output_type": "stream",
     "text": [
      "2\n"
     ]
    }
   ],
   "source": [
    "num1 = 10 # int\n",
    "num2 = 5 # int\n",
    "print(num1 // num2) # result int"
   ]
  },
  {
   "cell_type": "code",
   "execution_count": 16,
   "id": "55f398c7",
   "metadata": {},
   "outputs": [
    {
     "name": "stdout",
     "output_type": "stream",
     "text": [
      "2\n"
     ]
    }
   ],
   "source": [
    "num1 = 14 # int\n",
    "num2 = 5 # int\n",
    "print(num1 // num2) # result int"
   ]
  },
  {
   "cell_type": "code",
   "execution_count": 10,
   "id": "827f9bca",
   "metadata": {},
   "outputs": [
    {
     "name": "stdout",
     "output_type": "stream",
     "text": [
      "15.2\n",
      "<class 'float'>\n"
     ]
    }
   ],
   "source": [
    "num1 = 10.2 # int\n",
    "num2 = 5 # int\n",
    "result = num1 + num2\n",
    "print(result) # result float\n",
    "print(type(result)) # result float"
   ]
  },
  {
   "cell_type": "markdown",
   "id": "bd944879",
   "metadata": {},
   "source": [
    "## Assign operators +=, -="
   ]
  },
  {
   "cell_type": "code",
   "execution_count": 20,
   "id": "ccca6869",
   "metadata": {},
   "outputs": [
    {
     "name": "stdout",
     "output_type": "stream",
     "text": [
      "5\n",
      "8\n",
      "12\n"
     ]
    }
   ],
   "source": [
    "a = 5\n",
    "print(a)\n",
    "a = a + 3\n",
    "print(a)\n",
    "a += 4\n",
    "print(a)\n"
   ]
  },
  {
   "cell_type": "markdown",
   "id": "6ed86977",
   "metadata": {},
   "source": [
    "# String concatination\n",
    "### string formation"
   ]
  },
  {
   "cell_type": "markdown",
   "id": "821913ed",
   "metadata": {},
   "source": [
    "# https://www.tutorialspoint.com/python/python_strings.htm"
   ]
  },
  {
   "cell_type": "code",
   "execution_count": 22,
   "id": "ca84379a",
   "metadata": {},
   "outputs": [
    {
     "name": "stdout",
     "output_type": "stream",
     "text": [
      "\n",
      "a           pakistan\n",
      "b\n",
      "c\n",
      "\n"
     ]
    }
   ],
   "source": [
    "# if we did'nt use \"\"\" \"\"\" then we have to apply all scape character in values\n",
    "\n",
    "student_card = \"\"\"\n",
    "a           pakistan\n",
    "b\n",
    "c\n",
    "\"\"\"\n",
    "\n",
    "print(student_card)"
   ]
  },
  {
   "cell_type": "code",
   "execution_count": 23,
   "id": "b0842e80",
   "metadata": {},
   "outputs": [
    {
     "name": "stdout",
     "output_type": "stream",
     "text": [
      "\n",
      "Saylani Welfar International Trust\n",
      "Advance Data Science / Artificial Intelligent\n",
      "\n",
      "Roll no: 0001\n",
      "\n",
      "Name: Muhammad Qasaim \t Father's Name: Muhammad Aslam\n",
      "Batch: 3                 timing: 9 pm to 12 am\n",
      "\n"
     ]
    }
   ],
   "source": [
    "student_card = \"\"\"\n",
    "Saylani Welfar International Trust\n",
    "Advance Data Science / Artificial Intelligent\n",
    "\n",
    "Roll no: 0001\n",
    "\n",
    "Name: Muhammad Qasaim \\t Father's Name: Muhammad Aslam\n",
    "Batch: 3                 timing: 9 pm to 12 am\n",
    "\"\"\"\n",
    "\n",
    "print(student_card)"
   ]
  },
  {
   "cell_type": "code",
   "execution_count": 24,
   "id": "1bdd67cf",
   "metadata": {},
   "outputs": [
    {
     "name": "stdout",
     "output_type": "stream",
     "text": [
      "\n",
      "Saylani Welfar International Trust\n",
      "Advance Data Science / Artificial Intelligent\n",
      "\n",
      "Roll no: {}\n",
      "\n",
      "Name: {} \t Father's Name: {}\n",
      "Batch: {}                 timing: {}\n",
      "\n"
     ]
    }
   ],
   "source": [
    "student_card = \"\"\"\n",
    "Saylani Welfar International Trust\n",
    "Advance Data Science / Artificial Intelligent\n",
    "\n",
    "Roll no: {}\n",
    "\n",
    "Name: {} \\t Father's Name: {}\n",
    "Batch: {}                 timing: {}\n",
    "\"\"\"\n",
    "\n",
    "print(student_card)"
   ]
  },
  {
   "cell_type": "code",
   "execution_count": 25,
   "id": "78027057",
   "metadata": {},
   "outputs": [
    {
     "name": "stdout",
     "output_type": "stream",
     "text": [
      "\n",
      "Saylani Welfar International Trust\n",
      "Advance Data Science / Artificial Intelligent\n",
      "\n",
      "Roll no: {}\n",
      "\n",
      "Name: {} \t Father's Name: {}\n",
      "Batch: {}                 timing: {}\n",
      "\n"
     ]
    }
   ],
   "source": [
    "roll_no = '00012'\n",
    "student_name = \"Mustufa\"\n",
    "f_name = \"Abdul Raziq\"\n",
    "batch = \"Batch 3\"\n",
    "timing = \"9 pm to 12 am\"\n",
    "\n",
    "student_card = \"\"\"\n",
    "Saylani Welfar International Trust\n",
    "Advance Data Science / Artificial Intelligent\n",
    "\n",
    "Roll no: {}\n",
    "\n",
    "Name: {} \\t Father's Name: {}\n",
    "Batch: {}                 timing: {}\n",
    "\"\"\"\n",
    "\n",
    "print(student_card)"
   ]
  },
  {
   "cell_type": "code",
   "execution_count": 31,
   "id": "72d5c3e4",
   "metadata": {},
   "outputs": [
    {
     "name": "stdout",
     "output_type": "stream",
     "text": [
      "\n",
      "Saylani Welfar International Trust\n",
      "Advance Data Science / Artificial Intelligent\n",
      "\n",
      "Roll no: 000123\n",
      "\n",
      "Name: Mustufa \t Father's Name: Abdul Raziq\n",
      "Batch: Batch 3                 timing: 9 pm to 12 am\n",
      "Age: 24\n",
      "\n"
     ]
    }
   ],
   "source": [
    "# f\"\"\" \"\"\"\n",
    "\n",
    "\n",
    "roll_no = '000123'\n",
    "student_name = \"Mustufa\"\n",
    "f_name = \"Abdul Raziq\"\n",
    "batch = \"Batch 3\"\n",
    "timing = \"9 pm to 12 am\"\n",
    "age = 24\n",
    "\n",
    "student_card = f\"\"\"\n",
    "Saylani Welfar International Trust\n",
    "Advance Data Science / Artificial Intelligent\n",
    "\n",
    "Roll no: {roll_no}\n",
    "\n",
    "Name: {student_name} \\t Father's Name: {f_name}\n",
    "Batch: {batch}                 timing: {timing}\n",
    "Age: {age}\n",
    "\"\"\"\n",
    "\n",
    "print(student_card)"
   ]
  },
  {
   "cell_type": "code",
   "execution_count": 28,
   "id": "a63601cc",
   "metadata": {},
   "outputs": [
    {
     "name": "stdout",
     "output_type": "stream",
     "text": [
      "\n",
      "Saylani Welfar International Trust\n",
      "Advance Data Science / Artificial Intelligent\n",
      "\n",
      "Roll no: 00012\n",
      "\n",
      "Name: Mustufa \t Father's Name: Abdul Raziq\n",
      "Batch: Batch 3                 timing: 9 pm to 12 am\n",
      "\n"
     ]
    }
   ],
   "source": [
    "# \"\"\" \"\"\".format()\n",
    "roll_no = '00012'\n",
    "student_name = \"Mustufa\"\n",
    "f_name = \"Abdul Raziq\"\n",
    "batch = \"Batch 3\"\n",
    "timing = \"9 pm to 12 am\"\n",
    "\n",
    "student_card = \"\"\"\n",
    "Saylani Welfar International Trust\n",
    "Advance Data Science / Artificial Intelligent\n",
    "\n",
    "Roll no: {}\n",
    "\n",
    "Name: {} \\t Father's Name: {}\n",
    "Batch: {}                 timing: {}\n",
    "\"\"\".format(roll_no, student_name, f_name, batch,timing)\n",
    "\n",
    "print(student_card)"
   ]
  },
  {
   "cell_type": "code",
   "execution_count": 30,
   "id": "3e59653b",
   "metadata": {},
   "outputs": [
    {
     "name": "stdout",
     "output_type": "stream",
     "text": [
      "\n",
      "Saylani Welfar International Trust\n",
      "Advance Data Science / Artificial Intelligent\n",
      "\n",
      "Roll no: Mustufa\n",
      "\n",
      "Name: 00012 \t Father's Name: Abdul Raziq\n",
      "Batch: Batch 3                 timing: 9 pm to 12 am\n",
      "\n"
     ]
    }
   ],
   "source": [
    "# \"\"\" \"\"\".format()\n",
    "roll_no = '00012'\n",
    "student_name = \"Mustufa\"\n",
    "f_name = \"Abdul Raziq\"\n",
    "batch = \"Batch 3\"\n",
    "timing = \"9 pm to 12 am\"\n",
    "\n",
    "student_card = \"\"\"\n",
    "Saylani Welfar International Trust\n",
    "Advance Data Science / Artificial Intelligent\n",
    "\n",
    "Roll no: {1}\n",
    "\n",
    "Name: {0} \\t Father's Name: {2}\n",
    "Batch: {3}                 timing: {4}\n",
    "\"\"\".format(roll_no, student_name, f_name, batch,timing)\n",
    "#            0         1            2        3    4\n",
    "print(student_card)"
   ]
  },
  {
   "cell_type": "markdown",
   "id": "fc2dbab4",
   "metadata": {},
   "source": [
    "# + operator with string"
   ]
  },
  {
   "cell_type": "code",
   "execution_count": 37,
   "id": "3575c1e7",
   "metadata": {},
   "outputs": [
    {
     "data": {
      "text/plain": [
       "'11'"
      ]
     },
     "execution_count": 37,
     "metadata": {},
     "output_type": "execute_result"
    }
   ],
   "source": [
    "a1 = \"1\"\n",
    "a2 = \"1\"\n",
    "a1+a2"
   ]
  },
  {
   "cell_type": "code",
   "execution_count": 33,
   "id": "ccb30865",
   "metadata": {},
   "outputs": [
    {
     "ename": "TypeError",
     "evalue": "can only concatenate str (not \"int\") to str",
     "output_type": "error",
     "traceback": [
      "\u001b[1;31m---------------------------------------------------------------------------\u001b[0m",
      "\u001b[1;31mTypeError\u001b[0m                                 Traceback (most recent call last)",
      "\u001b[1;32mC:\\Users\\STUDEN~1\\AppData\\Local\\Temp/ipykernel_9776/991885494.py\u001b[0m in \u001b[0;36m<module>\u001b[1;34m\u001b[0m\n\u001b[1;32m----> 1\u001b[1;33m \u001b[1;34m\"1\"\u001b[0m \u001b[1;33m+\u001b[0m \u001b[1;36m1\u001b[0m\u001b[1;33m\u001b[0m\u001b[1;33m\u001b[0m\u001b[0m\n\u001b[0m",
      "\u001b[1;31mTypeError\u001b[0m: can only concatenate str (not \"int\") to str"
     ]
    }
   ],
   "source": [
    "\"1\" + 1"
   ]
  },
  {
   "cell_type": "code",
   "execution_count": 35,
   "id": "9f194ca1",
   "metadata": {},
   "outputs": [
    {
     "data": {
      "text/plain": [
       "str"
      ]
     },
     "execution_count": 35,
     "metadata": {},
     "output_type": "execute_result"
    }
   ],
   "source": [
    "type(\"1\")"
   ]
  },
  {
   "cell_type": "code",
   "execution_count": 36,
   "id": "bcc26a82",
   "metadata": {},
   "outputs": [
    {
     "data": {
      "text/plain": [
       "'11'"
      ]
     },
     "execution_count": 36,
     "metadata": {},
     "output_type": "execute_result"
    }
   ],
   "source": [
    "\"1\" + str(1)"
   ]
  },
  {
   "cell_type": "code",
   "execution_count": 38,
   "id": "ddc10559",
   "metadata": {},
   "outputs": [
    {
     "data": {
      "text/plain": [
       "2"
      ]
     },
     "execution_count": 38,
     "metadata": {},
     "output_type": "execute_result"
    }
   ],
   "source": [
    "1 + 1"
   ]
  },
  {
   "cell_type": "code",
   "execution_count": 39,
   "id": "adc3403e",
   "metadata": {},
   "outputs": [
    {
     "data": {
      "text/plain": [
       "'total obtain marks: 230'"
      ]
     },
     "execution_count": 39,
     "metadata": {},
     "output_type": "execute_result"
    }
   ],
   "source": [
    "s1 = 70\n",
    "s2 = 50\n",
    "s3 = 80\n",
    "s4 = 30\n",
    "\n",
    "\"total obtain marks: \" + str(s1 + s2 + s3 + s4)"
   ]
  },
  {
   "cell_type": "code",
   "execution_count": 40,
   "id": "2b528ce0",
   "metadata": {},
   "outputs": [
    {
     "data": {
      "text/plain": [
       "'total obtain marks: 230'"
      ]
     },
     "execution_count": 40,
     "metadata": {},
     "output_type": "execute_result"
    }
   ],
   "source": [
    "s1 = 70\n",
    "s2 = 50\n",
    "s3 = 80\n",
    "s4 = 30\n",
    "\n",
    "f\"total obtain marks: {s1+s2+s3+s4}\""
   ]
  },
  {
   "cell_type": "markdown",
   "id": "ffdfe72b",
   "metadata": {},
   "source": [
    "# Get result on run time"
   ]
  },
  {
   "cell_type": "code",
   "execution_count": 42,
   "id": "24fef841",
   "metadata": {},
   "outputs": [
    {
     "name": "stdout",
     "output_type": "stream",
     "text": [
      "Qasim\n",
      "None\n"
     ]
    }
   ],
   "source": [
    "a1 = print(\"Qasim\") # Non-return function\n",
    "print(a1)"
   ]
  },
  {
   "cell_type": "code",
   "execution_count": 43,
   "id": "4847ee16",
   "metadata": {},
   "outputs": [
    {
     "name": "stdout",
     "output_type": "stream",
     "text": [
      "Qasim\n",
      "Qasim\n"
     ]
    }
   ],
   "source": [
    "a1 = input() # always return string value\n",
    "print(a1)"
   ]
  },
  {
   "cell_type": "code",
   "execution_count": 44,
   "id": "82f56bab",
   "metadata": {},
   "outputs": [
    {
     "name": "stdout",
     "output_type": "stream",
     "text": [
      "Your Good name: Muhammad Qasim\n",
      "Muhammad Qasim\n"
     ]
    }
   ],
   "source": [
    "a1 = input(\"Your Good name: \")\n",
    "print(a1)"
   ]
  },
  {
   "cell_type": "code",
   "execution_count": 45,
   "id": "e6a32c8d",
   "metadata": {},
   "outputs": [
    {
     "name": "stdout",
     "output_type": "stream",
     "text": [
      "Muhammad Qasim\n",
      "<class 'str'>\n"
     ]
    }
   ],
   "source": [
    "print(a1)\n",
    "print(type(a1))"
   ]
  },
  {
   "cell_type": "markdown",
   "id": "f21d9d26",
   "metadata": {},
   "source": [
    "# Logical Operators"
   ]
  },
  {
   "cell_type": "code",
   "execution_count": 46,
   "id": "677b4a56",
   "metadata": {},
   "outputs": [
    {
     "data": {
      "text/plain": [
       "False"
      ]
     },
     "execution_count": 46,
     "metadata": {},
     "output_type": "execute_result"
    }
   ],
   "source": [
    "a1 = \"Qasim\"\n",
    "a2 = \"Muhammad Qasim\"\n",
    "\n",
    "a1 == a2\n",
    "# \"Qasim\" == \"Muhammad Qasim\"\n",
    "# False"
   ]
  },
  {
   "cell_type": "code",
   "execution_count": 47,
   "id": "e7671f91",
   "metadata": {},
   "outputs": [
    {
     "data": {
      "text/plain": [
       "False"
      ]
     },
     "execution_count": 47,
     "metadata": {},
     "output_type": "execute_result"
    }
   ],
   "source": [
    "a1 = \"Qasim\"\n",
    "a2 = \"qasim\"\n",
    "\n",
    "a1 == a2\n",
    "#Qasim == qasim\n",
    "# False"
   ]
  },
  {
   "cell_type": "code",
   "execution_count": 48,
   "id": "9e147635",
   "metadata": {},
   "outputs": [
    {
     "data": {
      "text/plain": [
       "True"
      ]
     },
     "execution_count": 48,
     "metadata": {},
     "output_type": "execute_result"
    }
   ],
   "source": [
    "5 > 3"
   ]
  },
  {
   "cell_type": "code",
   "execution_count": 49,
   "id": "613eda09",
   "metadata": {},
   "outputs": [
    {
     "data": {
      "text/plain": [
       "False"
      ]
     },
     "execution_count": 49,
     "metadata": {},
     "output_type": "execute_result"
    }
   ],
   "source": [
    "5 > 5"
   ]
  },
  {
   "cell_type": "code",
   "execution_count": 50,
   "id": "e99beaae",
   "metadata": {},
   "outputs": [
    {
     "data": {
      "text/plain": [
       "False"
      ]
     },
     "execution_count": 50,
     "metadata": {},
     "output_type": "execute_result"
    }
   ],
   "source": [
    "5 > 7"
   ]
  },
  {
   "cell_type": "code",
   "execution_count": 51,
   "id": "74896fb2",
   "metadata": {},
   "outputs": [
    {
     "data": {
      "text/plain": [
       "True"
      ]
     },
     "execution_count": 51,
     "metadata": {},
     "output_type": "execute_result"
    }
   ],
   "source": [
    "7 < 10"
   ]
  },
  {
   "cell_type": "code",
   "execution_count": 52,
   "id": "07b03abd",
   "metadata": {},
   "outputs": [
    {
     "data": {
      "text/plain": [
       "True"
      ]
     },
     "execution_count": 52,
     "metadata": {},
     "output_type": "execute_result"
    }
   ],
   "source": [
    "5 >= 5"
   ]
  },
  {
   "cell_type": "code",
   "execution_count": 53,
   "id": "a54a3586",
   "metadata": {},
   "outputs": [
    {
     "data": {
      "text/plain": [
       "False"
      ]
     },
     "execution_count": 53,
     "metadata": {},
     "output_type": "execute_result"
    }
   ],
   "source": [
    "6 >= 8"
   ]
  },
  {
   "cell_type": "code",
   "execution_count": 54,
   "id": "0c988ac3",
   "metadata": {},
   "outputs": [
    {
     "data": {
      "text/plain": [
       "False"
      ]
     },
     "execution_count": 54,
     "metadata": {},
     "output_type": "execute_result"
    }
   ],
   "source": [
    "5 != 5 # not equal"
   ]
  },
  {
   "cell_type": "code",
   "execution_count": 55,
   "id": "6caaddc7",
   "metadata": {},
   "outputs": [
    {
     "ename": "SyntaxError",
     "evalue": "invalid syntax (Temp/ipykernel_9776/3638499027.py, line 1)",
     "output_type": "error",
     "traceback": [
      "\u001b[1;36m  File \u001b[1;32m\"C:\\Users\\STUDEN~1\\AppData\\Local\\Temp/ipykernel_9776/3638499027.py\"\u001b[1;36m, line \u001b[1;32m1\u001b[0m\n\u001b[1;33m    5 <> 5\u001b[0m\n\u001b[1;37m      ^\u001b[0m\n\u001b[1;31mSyntaxError\u001b[0m\u001b[1;31m:\u001b[0m invalid syntax\n"
     ]
    }
   ],
   "source": [
    "5 <> 5"
   ]
  },
  {
   "cell_type": "markdown",
   "id": "ec1e4d02",
   "metadata": {},
   "source": [
    "# Python Membership Operators"
   ]
  },
  {
   "cell_type": "code",
   "execution_count": 59,
   "id": "159aaa01",
   "metadata": {},
   "outputs": [
    {
     "data": {
      "text/plain": [
       "True"
      ]
     },
     "execution_count": 59,
     "metadata": {},
     "output_type": "execute_result"
    }
   ],
   "source": [
    "p1 = \"\"\"\n",
    "we are learning AI in Saylani, we love to write python code...\n",
    "\"\"\"\n",
    "\n",
    "'Saylani' in p1"
   ]
  },
  {
   "cell_type": "code",
   "execution_count": 57,
   "id": "f884542c",
   "metadata": {},
   "outputs": [
    {
     "data": {
      "text/plain": [
       "False"
      ]
     },
     "execution_count": 57,
     "metadata": {},
     "output_type": "execute_result"
    }
   ],
   "source": [
    "p1 = \"\"\"\n",
    "we are learning AI in Saylani, we love to write python code...\n",
    "\"\"\"\n",
    "\n",
    "'Saylani' not in p1"
   ]
  },
  {
   "cell_type": "markdown",
   "id": "2cc07be6",
   "metadata": {},
   "source": [
    "# Python Identity Operators"
   ]
  },
  {
   "cell_type": "code",
   "execution_count": 60,
   "id": "f6e60568",
   "metadata": {},
   "outputs": [
    {
     "data": {
      "text/plain": [
       "True"
      ]
     },
     "execution_count": 60,
     "metadata": {},
     "output_type": "execute_result"
    }
   ],
   "source": [
    "a1 = \"Qasim\"\n",
    "a2 = \"Qasim\"\n",
    "\n",
    "a1 is a2"
   ]
  },
  {
   "cell_type": "code",
   "execution_count": null,
   "id": "da70ea14",
   "metadata": {},
   "outputs": [],
   "source": []
  }
 ],
 "metadata": {
  "kernelspec": {
   "display_name": "Python 3 (ipykernel)",
   "language": "python",
   "name": "python3"
  },
  "language_info": {
   "codemirror_mode": {
    "name": "ipython",
    "version": 3
   },
   "file_extension": ".py",
   "mimetype": "text/x-python",
   "name": "python",
   "nbconvert_exporter": "python",
   "pygments_lexer": "ipython3",
   "version": "3.9.7"
  }
 },
 "nbformat": 4,
 "nbformat_minor": 5
}
