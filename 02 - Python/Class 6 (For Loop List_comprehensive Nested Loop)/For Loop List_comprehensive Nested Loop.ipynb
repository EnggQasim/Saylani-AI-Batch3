{
 "cells": [
  {
   "cell_type": "code",
   "execution_count": null,
   "id": "0f8642ac",
   "metadata": {},
   "outputs": [],
   "source": [
    "for variable in list:\n",
    "    for_loop_body"
   ]
  },
  {
   "cell_type": "code",
   "execution_count": 4,
   "id": "9ef45b30",
   "metadata": {},
   "outputs": [
    {
     "name": "stdout",
     "output_type": "stream",
     "text": [
      "A\n",
      "B\n",
      "C\n",
      "D\n"
     ]
    }
   ],
   "source": [
    "names = [\"A\",\"B\",\"C\",\"D\"]\n",
    "\n",
    "i = 0\n",
    "while i < len(names):\n",
    "    print(names[i])\n",
    "    i += 1"
   ]
  },
  {
   "cell_type": "code",
   "execution_count": 5,
   "id": "2ec61818",
   "metadata": {},
   "outputs": [
    {
     "name": "stdout",
     "output_type": "stream",
     "text": [
      "A\n",
      "B\n",
      "C\n",
      "D\n"
     ]
    }
   ],
   "source": [
    "for name in names:\n",
    "    print(name)"
   ]
  },
  {
   "cell_type": "code",
   "execution_count": 20,
   "id": "a53064d8",
   "metadata": {},
   "outputs": [
    {
     "name": "stdout",
     "output_type": "stream",
     "text": [
      "1\n",
      "Qasim\n",
      "DS\n"
     ]
    }
   ],
   "source": [
    "data = {\n",
    "    \"id\":1,\n",
    "    \"name\":\"Qasim\",\n",
    "    \"course\":\"DS\"\n",
    "       }\n",
    "\n",
    "i = 0\n",
    "while i<len(data):\n",
    "    print(data[list(data.keys())[i]])\n",
    "    i +=1"
   ]
  },
  {
   "cell_type": "code",
   "execution_count": 19,
   "id": "7ec7dbff",
   "metadata": {},
   "outputs": [
    {
     "name": "stdout",
     "output_type": "stream",
     "text": [
      "1\n",
      "Qasim\n",
      "DS\n"
     ]
    }
   ],
   "source": [
    "data = {\n",
    "    \"id\":1,\n",
    "    \"name\":\"Qasim\",\n",
    "    \"course\":\"DS\"\n",
    "       }\n",
    "\n",
    "for k in data:\n",
    "    print(data[k])"
   ]
  },
  {
   "cell_type": "code",
   "execution_count": 28,
   "id": "8d32861a",
   "metadata": {},
   "outputs": [
    {
     "name": "stdout",
     "output_type": "stream",
     "text": [
      "id\n",
      "name\n",
      "course\n"
     ]
    }
   ],
   "source": [
    "data = {\n",
    "    \"id\":1,\n",
    "    \"name\":\"Qasim\",\n",
    "    \"course\":\"DS\"\n",
    "       }\n",
    "\n",
    "for k in data.keys():\n",
    "    print(k)"
   ]
  },
  {
   "cell_type": "code",
   "execution_count": 29,
   "id": "c418dedc",
   "metadata": {},
   "outputs": [
    {
     "name": "stdout",
     "output_type": "stream",
     "text": [
      "1\n",
      "Qasim\n",
      "DS\n"
     ]
    }
   ],
   "source": [
    "data = {\n",
    "    \"id\":1,\n",
    "    \"name\":\"Qasim\",\n",
    "    \"course\":\"DS\"\n",
    "       }\n",
    "\n",
    "for v in data.values():\n",
    "    print(v)"
   ]
  },
  {
   "cell_type": "code",
   "execution_count": 24,
   "id": "df9bf3ef",
   "metadata": {},
   "outputs": [
    {
     "name": "stdout",
     "output_type": "stream",
     "text": [
      "id 1\n",
      "name Qasim\n",
      "course DS\n"
     ]
    }
   ],
   "source": [
    "data = {\n",
    "    \"id\":1,\n",
    "    \"name\":\"Qasim\",\n",
    "    \"course\":\"DS\"\n",
    "       }\n",
    "\n",
    "i = 0\n",
    "while i<len(data):\n",
    "    print(list(data.keys())[i],  list(data.values())[i]  )\n",
    "    i +=1"
   ]
  },
  {
   "cell_type": "code",
   "execution_count": 27,
   "id": "a3ab4180",
   "metadata": {},
   "outputs": [
    {
     "name": "stdout",
     "output_type": "stream",
     "text": [
      "('id', 1)\n",
      "('name', 'Qasim')\n",
      "('course', 'DS')\n"
     ]
    }
   ],
   "source": [
    "data = {\n",
    "    \"id\":1,\n",
    "    \"name\":\"Qasim\",\n",
    "    \"course\":\"DS\"\n",
    "       }\n",
    "\n",
    "i = 0\n",
    "while i<len(data):\n",
    "    print( list(data.items())[i]  )\n",
    "    i +=1"
   ]
  },
  {
   "cell_type": "code",
   "execution_count": 30,
   "id": "83b933d5",
   "metadata": {},
   "outputs": [
    {
     "name": "stdout",
     "output_type": "stream",
     "text": [
      "1\n",
      "2\n",
      "3\n"
     ]
    }
   ],
   "source": [
    "a, b ,c = 1, 2, 3\n",
    "print(a)\n",
    "print(b)\n",
    "print(c)"
   ]
  },
  {
   "cell_type": "code",
   "execution_count": 36,
   "id": "9ddc52ea",
   "metadata": {},
   "outputs": [
    {
     "name": "stdout",
     "output_type": "stream",
     "text": [
      "id 1\n",
      "name Qasim\n",
      "course DS\n"
     ]
    }
   ],
   "source": [
    "data = {\n",
    "    \"id\":1,\n",
    "    \"name\":\"Qasim\",\n",
    "    \"course\":\"DS\"\n",
    "       }\n",
    "\n",
    "for k, v in data.items():\n",
    "    print(k, v)\n"
   ]
  },
  {
   "cell_type": "code",
   "execution_count": 35,
   "id": "b9dcf87f",
   "metadata": {},
   "outputs": [
    {
     "name": "stdout",
     "output_type": "stream",
     "text": [
      "100 200\n"
     ]
    }
   ],
   "source": [
    "a,b = (100,200)\n",
    "print(a,b)"
   ]
  },
  {
   "cell_type": "markdown",
   "id": "25f83da6",
   "metadata": {},
   "source": [
    "# comprehensive style"
   ]
  },
  {
   "cell_type": "raw",
   "id": "3cfd3e6a",
   "metadata": {},
   "source": [
    "if\n",
    "loop and nested loop\n"
   ]
  },
  {
   "cell_type": "markdown",
   "id": "93aaa6c6",
   "metadata": {},
   "source": [
    "```if logic:\n",
    "    true_block\n",
    "else:\n",
    "    false_block```\n",
    "    \n",
    "``` true_block if logic else false_block```    "
   ]
  },
  {
   "cell_type": "code",
   "execution_count": 47,
   "id": "1314d90d",
   "metadata": {},
   "outputs": [
    {
     "data": {
      "text/plain": [
       "'Odd'"
      ]
     },
     "execution_count": 47,
     "metadata": {},
     "output_type": "execute_result"
    }
   ],
   "source": [
    "num = 21\n",
    "\"Even\" if num % 2 == 0 else \"Odd\""
   ]
  },
  {
   "cell_type": "code",
   "execution_count": 52,
   "id": "910bc076",
   "metadata": {},
   "outputs": [
    {
     "name": "stdout",
     "output_type": "stream",
     "text": [
      "[0, 1, 2, 3, 4, 5, 6, 7, 8, 9]\n",
      "[3, 4, 5, 6, 7, 8, 9]\n",
      "[0, 1, 2, 3, 4, 5, 6, 7, 8, 9]\n",
      "[2, 4, 6, 8, 10, 12, 14, 16, 18, 20]\n"
     ]
    }
   ],
   "source": [
    "#range(start,end,step)\n",
    "print(list(range(10)))\n",
    "print(list(range(3,10)))\n",
    "print(list(range(10)))\n",
    "print(list(range(2,21,2)))"
   ]
  },
  {
   "cell_type": "code",
   "execution_count": 59,
   "id": "9dfe853b",
   "metadata": {},
   "outputs": [
    {
     "data": {
      "text/plain": [
       "[9, 8, 7, 6, 5, 4, 3, 2, 1, 0]"
      ]
     },
     "execution_count": 59,
     "metadata": {},
     "output_type": "execute_result"
    }
   ],
   "source": [
    "a = list(range(10))\n",
    "a.reverse()\n",
    "a"
   ]
  },
  {
   "cell_type": "markdown",
   "id": "e08272e4",
   "metadata": {},
   "source": [
    "# List comprehensive\n",
    "```\n",
    "for variable in list:\n",
    "   for_loop_body\n",
    "```\n",
    "\n",
    "```[for_loop_body for in list]```"
   ]
  },
  {
   "cell_type": "code",
   "execution_count": 68,
   "id": "a12575b9",
   "metadata": {},
   "outputs": [
    {
     "data": {
      "text/plain": [
       "[1, 2, 3, 4, 5, 6, 7, 8, 9, 10]"
      ]
     },
     "execution_count": 68,
     "metadata": {},
     "output_type": "execute_result"
    }
   ],
   "source": [
    "l = []\n",
    "for num in range(1,11):\n",
    "    l.append(num)\n",
    "    \n",
    "l    \n",
    "    "
   ]
  },
  {
   "cell_type": "code",
   "execution_count": 69,
   "id": "669a71e2",
   "metadata": {},
   "outputs": [
    {
     "data": {
      "text/plain": [
       "[1, 2, 3, 4, 5, 6, 7, 8, 9, 10]"
      ]
     },
     "execution_count": 69,
     "metadata": {},
     "output_type": "execute_result"
    }
   ],
   "source": [
    "\n",
    "[num for num in range(1,11)]\n",
    "    "
   ]
  },
  {
   "cell_type": "code",
   "execution_count": 63,
   "id": "c1d2ad57",
   "metadata": {},
   "outputs": [
    {
     "data": {
      "text/plain": [
       "[1, 2, 3, 4, 5, 6, 7, 8, 9, 10]"
      ]
     },
     "execution_count": 63,
     "metadata": {},
     "output_type": "execute_result"
    }
   ],
   "source": [
    "[num for num in range(1,11)]"
   ]
  },
  {
   "cell_type": "code",
   "execution_count": 67,
   "id": "296eed75",
   "metadata": {},
   "outputs": [
    {
     "name": "stdout",
     "output_type": "stream",
     "text": [
      "[2, 4, 6, 8, 10, 12, 14, 16, 18, 20]\n",
      "[1, 4, 9, 16, 25, 36, 49, 64, 81, 100]\n",
      "[1, 8, 27, 64, 125, 216, 343, 512, 729, 1000]\n"
     ]
    }
   ],
   "source": [
    "print([num*2 for num in range(1,11)])\n",
    "print([num**2 for num in range(1,11)])\n",
    "print([num**3 for num in range(1,11)])"
   ]
  },
  {
   "cell_type": "markdown",
   "id": "ae9b2c1a",
   "metadata": {},
   "source": [
    "# Nest Loop"
   ]
  },
  {
   "cell_type": "code",
   "execution_count": 78,
   "id": "25b5612e",
   "metadata": {},
   "outputs": [
    {
     "name": "stdout",
     "output_type": "stream",
     "text": [
      "a web child\n",
      "a ds child\n",
      "b web child\n",
      "b ds child\n",
      "c web child\n",
      "c ds child\n",
      "d web child\n",
      "d ds child\n"
     ]
    }
   ],
   "source": [
    "students = ['a','b','c','d']\n",
    "courses = ['web','ds']\n",
    "\n",
    "for student in students:\n",
    "#     print(student,\"parent\")\n",
    "    for course in courses:\n",
    "        print(student, course,\"child\")"
   ]
  },
  {
   "cell_type": "code",
   "execution_count": 92,
   "id": "d5930d48",
   "metadata": {},
   "outputs": [
    {
     "data": {
      "text/plain": [
       "[[1, 'a', 'ds'], [2, 'b', 'web'], [3, 'c', 'web'], [4, 'd', 'ds']]"
      ]
     },
     "execution_count": 92,
     "metadata": {},
     "output_type": "execute_result"
    }
   ],
   "source": [
    "data = [[1,'a','ds'],\n",
    "       [2,'b','web'],\n",
    "       [3,'c','web'],\n",
    "       [4,'d','ds']]\n",
    "# data = ['a','b','c']\n",
    "data"
   ]
  },
  {
   "cell_type": "code",
   "execution_count": 93,
   "id": "259adbde",
   "metadata": {},
   "outputs": [
    {
     "name": "stdout",
     "output_type": "stream",
     "text": [
      "1\n",
      "a\n",
      "ds\n",
      "2\n",
      "b\n",
      "web\n",
      "3\n",
      "c\n",
      "web\n",
      "4\n",
      "d\n",
      "ds\n"
     ]
    }
   ],
   "source": [
    "for row in  data:\n",
    "    for cell in row:\n",
    "        print(cell)"
   ]
  },
  {
   "cell_type": "code",
   "execution_count": 95,
   "id": "d59aa733",
   "metadata": {},
   "outputs": [
    {
     "name": "stdout",
     "output_type": "stream",
     "text": [
      "1====a====ds====\n",
      "2====b====web====\n",
      "3====c====web====\n",
      "4====d====ds====\n"
     ]
    }
   ],
   "source": [
    "for row in  data:\n",
    "    for cell in row:\n",
    "        print(cell, end=\"====\")\n",
    "    print(end=\"\\n\")"
   ]
  },
  {
   "cell_type": "code",
   "execution_count": 96,
   "id": "fe222fef",
   "metadata": {},
   "outputs": [
    {
     "name": "stdout",
     "output_type": "stream",
     "text": [
      "1,a,ds,2,b,web,3,c,web,4,d,ds,"
     ]
    }
   ],
   "source": [
    "for row in  data:\n",
    "    for cell in row:\n",
    "        print(cell,end=\",\")"
   ]
  },
  {
   "cell_type": "code",
   "execution_count": 97,
   "id": "cfd40d0c",
   "metadata": {},
   "outputs": [
    {
     "data": {
      "text/plain": [
       "[1, 'a', 'ds', 2, 'b', 'web', 3, 'c', 'web', 4, 'd', 'ds']"
      ]
     },
     "execution_count": 97,
     "metadata": {},
     "output_type": "execute_result"
    }
   ],
   "source": [
    "l = []\n",
    "for row in  data:\n",
    "    for cell in row:\n",
    "        l.append(cell)\n",
    "l"
   ]
  },
  {
   "cell_type": "code",
   "execution_count": 99,
   "id": "a470af9c",
   "metadata": {},
   "outputs": [
    {
     "data": {
      "text/plain": [
       "[1, 'a', 'ds', 2, 'b', 'web', 3, 'c', 'web', 4, 'd', 'ds']"
      ]
     },
     "execution_count": 99,
     "metadata": {},
     "output_type": "execute_result"
    }
   ],
   "source": [
    "data = [[1,'a','ds'],\n",
    "       [2,'b','web'],\n",
    "       [3,'c','web'],\n",
    "       [4,'d','ds']]\n",
    "\n",
    "[cell for row in data for cell in row]\n",
    "#[neted_body parent_loop child_loop]"
   ]
  },
  {
   "cell_type": "code",
   "execution_count": 102,
   "id": "070a8c14",
   "metadata": {},
   "outputs": [
    {
     "data": {
      "text/plain": [
       "[1, 'a', 'ds', 2, 'b', 'web', 3, 'c', 'web', 4, 'd', 'ds']"
      ]
     },
     "execution_count": 102,
     "metadata": {},
     "output_type": "execute_result"
    }
   ],
   "source": [
    "[cell \n",
    " for row in data \n",
    " for cell in row]"
   ]
  },
  {
   "cell_type": "code",
   "execution_count": 108,
   "id": "14f7195e",
   "metadata": {},
   "outputs": [
    {
     "data": {
      "text/plain": [
       "['Odd', 'Even', 'Odd', 'Even', 'Odd', 'Even', 'Odd', 'Even', 'Odd', 'Even']"
      ]
     },
     "execution_count": 108,
     "metadata": {},
     "output_type": "execute_result"
    }
   ],
   "source": [
    "[\"Even\" if num%2==0 else \"Odd\" for num in range(1,11)]"
   ]
  },
  {
   "cell_type": "code",
   "execution_count": 109,
   "id": "5f519045",
   "metadata": {},
   "outputs": [
    {
     "data": {
      "text/plain": [
       "[('Odd', 1),\n",
       " ('Even', 2),\n",
       " ('Odd', 3),\n",
       " ('Even', 4),\n",
       " ('Odd', 5),\n",
       " ('Even', 6),\n",
       " ('Odd', 7),\n",
       " ('Even', 8),\n",
       " ('Odd', 9),\n",
       " ('Even', 10)]"
      ]
     },
     "execution_count": 109,
     "metadata": {},
     "output_type": "execute_result"
    }
   ],
   "source": [
    "[(\"Even\",num) if num%2==0 else (\"Odd\",num) for num in range(1,11)]"
   ]
  },
  {
   "cell_type": "code",
   "execution_count": 105,
   "id": "ce9affab",
   "metadata": {},
   "outputs": [
    {
     "data": {
      "text/plain": [
       "[2, 4, 6, 8, 10]"
      ]
     },
     "execution_count": 105,
     "metadata": {},
     "output_type": "execute_result"
    }
   ],
   "source": [
    "[num for num in range(1,11) if num%2==0]"
   ]
  },
  {
   "cell_type": "code",
   "execution_count": 112,
   "id": "086bb3f5",
   "metadata": {},
   "outputs": [
    {
     "data": {
      "text/plain": [
       "[(0, 'a'), (1, 'b'), (2, 'c'), (3, 'd')]"
      ]
     },
     "execution_count": 112,
     "metadata": {},
     "output_type": "execute_result"
    }
   ],
   "source": [
    "names = ['a','b','c','d']\n",
    "list(enumerate(names))"
   ]
  },
  {
   "cell_type": "code",
   "execution_count": 113,
   "id": "b2df9b44",
   "metadata": {},
   "outputs": [
    {
     "name": "stdout",
     "output_type": "stream",
     "text": [
      "0 a\n",
      "1 b\n",
      "2 c\n",
      "3 d\n"
     ]
    }
   ],
   "source": [
    "for indx, name in enumerate(names):\n",
    "    print(indx, name)"
   ]
  },
  {
   "cell_type": "code",
   "execution_count": 5,
   "id": "a54c1141",
   "metadata": {},
   "outputs": [
    {
     "data": {
      "text/plain": [
       "[('a', 4), ('b', 5), ('x', 6)]"
      ]
     },
     "execution_count": 5,
     "metadata": {},
     "output_type": "execute_result"
    }
   ],
   "source": [
    "list(zip  (['a','b','x'],[4,5,6]) )"
   ]
  },
  {
   "cell_type": "code",
   "execution_count": 7,
   "id": "5449e412",
   "metadata": {},
   "outputs": [],
   "source": [
    "mydict = {k:v for k,v in list(zip(['a','b','c'],[4,5,6]))}"
   ]
  },
  {
   "cell_type": "code",
   "execution_count": 6,
   "id": "76a809e4",
   "metadata": {},
   "outputs": [
    {
     "data": {
      "text/plain": [
       "[('a', 4), ('b', 5), ('c', 6)]"
      ]
     },
     "execution_count": 6,
     "metadata": {},
     "output_type": "execute_result"
    }
   ],
   "source": [
    "list(zip(['a','b','c'],[4,5,6]))"
   ]
  },
  {
   "cell_type": "code",
   "execution_count": 8,
   "id": "fd962424",
   "metadata": {},
   "outputs": [
    {
     "name": "stdout",
     "output_type": "stream",
     "text": [
      "{'a': 4, 'b': 5, 'c': 6}\n"
     ]
    }
   ],
   "source": [
    "print(mydict)"
   ]
  },
  {
   "cell_type": "code",
   "execution_count": null,
   "id": "60b5546c",
   "metadata": {},
   "outputs": [],
   "source": []
  }
 ],
 "metadata": {
  "kernelspec": {
   "display_name": "Python 3 (ipykernel)",
   "language": "python",
   "name": "python3"
  },
  "language_info": {
   "codemirror_mode": {
    "name": "ipython",
    "version": 3
   },
   "file_extension": ".py",
   "mimetype": "text/x-python",
   "name": "python",
   "nbconvert_exporter": "python",
   "pygments_lexer": "ipython3",
   "version": "3.9.12"
  }
 },
 "nbformat": 4,
 "nbformat_minor": 5
}
