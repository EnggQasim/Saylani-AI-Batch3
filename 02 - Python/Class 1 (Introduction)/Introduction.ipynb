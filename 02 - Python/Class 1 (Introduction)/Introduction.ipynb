{
 "cells": [
  {
   "cell_type": "code",
   "execution_count": 1,
   "metadata": {},
   "outputs": [
    {
     "name": "stdout",
     "output_type": "stream",
     "text": [
      "Pakistan zinda bad!\n"
     ]
    }
   ],
   "source": [
    "print(\"Pakistan zinda bad!\")"
   ]
  },
  {
   "cell_type": "code",
   "execution_count": 5,
   "metadata": {},
   "outputs": [
    {
     "name": "stdout",
     "output_type": "stream",
     "text": [
      "We are pakistani\n"
     ]
    }
   ],
   "source": [
    "print('We are pakistani')"
   ]
  },
  {
   "cell_type": "code",
   "execution_count": 3,
   "metadata": {},
   "outputs": [
    {
     "name": "stdout",
     "output_type": "stream",
     "text": [
      "Hello world\n"
     ]
    }
   ],
   "source": [
    "print(\"Hello world\")"
   ]
  },
  {
   "cell_type": "raw",
   "metadata": {},
   "source": [
    "function abc(a, b){\n",
    "    return a + b;\n",
    "}"
   ]
  },
  {
   "cell_type": "markdown",
   "metadata": {},
   "source": [
    "# string method"
   ]
  },
  {
   "cell_type": "code",
   "execution_count": 6,
   "metadata": {},
   "outputs": [
    {
     "name": "stdout",
     "output_type": "stream",
     "text": [
      "pakistan piaic 27\n"
     ]
    }
   ],
   "source": [
    "a = 'pakistan'\n",
    "b = \"piaic\"\n",
    "c = 27\n",
    "\n",
    "print(a, b, c)"
   ]
  },
  {
   "cell_type": "code",
   "execution_count": 4,
   "metadata": {},
   "outputs": [
    {
     "name": "stdout",
     "output_type": "stream",
     "text": [
      "Your Timing9 - 12\n",
      "Enter your NameQasim\n",
      "Enter your father name\n",
      "\n",
      "SAYLANI AI BATCH3\n",
      "TIMING: 9 - 12\n",
      "Name: Qasim\n",
      "Father's Name: \n",
      "\n"
     ]
    }
   ],
   "source": [
    "timing = input(\"Your Timing\")\n",
    "name = input(\"Enter your Name\")\n",
    "father_name = input(\"Enter your father name\")\n",
    "\n",
    "message = \"\"\"\n",
    "SAYLANI AI BATCH3\n",
    "TIMING: {}\n",
    "Name: {}\n",
    "Father's Name: {}\n",
    "\"\"\"\n",
    "\n",
    "message = message.format(timing, name, father_name)\n",
    "\n",
    "print(message)"
   ]
  }
 ],
 "metadata": {
  "kernelspec": {
   "display_name": "Python 3 (ipykernel)",
   "language": "python",
   "name": "python3"
  },
  "language_info": {
   "codemirror_mode": {
    "name": "ipython",
    "version": 3
   },
   "file_extension": ".py",
   "mimetype": "text/x-python",
   "name": "python",
   "nbconvert_exporter": "python",
   "pygments_lexer": "ipython3",
   "version": "3.9.12"
  }
 },
 "nbformat": 4,
 "nbformat_minor": 2
}
