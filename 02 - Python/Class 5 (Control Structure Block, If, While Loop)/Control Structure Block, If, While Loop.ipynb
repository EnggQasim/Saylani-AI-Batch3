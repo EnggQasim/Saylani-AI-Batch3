{
 "cells": [
  {
   "cell_type": "markdown",
   "id": "11949e7a",
   "metadata": {},
   "source": [
    "# controls \n",
    "* if\n",
    "    * elif\n",
    "    * else\n",
    "* loop\n",
    "    * for\n",
    "    * while\n",
    "    * key_word\n",
    "        * pass\n",
    "        * continue\n",
    "        * break\n",
    "* try\n",
    "    * except\n",
    "    \n",
    "* def (for creating your own function)    "
   ]
  },
  {
   "cell_type": "markdown",
   "id": "e9c60634",
   "metadata": {},
   "source": [
    "# if\n",
    "    * elif\n",
    "    * else\n",
    "Syntax\n",
    "\n",
    "`\n",
    " if logic:\n",
    "     True block\n",
    " else:\n",
    "     Flase block\n",
    "`\n",
    "\n",
    "note: logic return **True/False**\n"
   ]
  },
  {
   "cell_type": "code",
   "execution_count": 3,
   "id": "0c70aeee",
   "metadata": {},
   "outputs": [
    {
     "name": "stdout",
     "output_type": "stream",
     "text": [
      "Pakistan\n"
     ]
    }
   ],
   "source": [
    "if True:\n",
    "    print(\"Pakistan\")\n",
    "else:\n",
    "    print(\"USA\")"
   ]
  },
  {
   "cell_type": "code",
   "execution_count": 5,
   "id": "1dba5897",
   "metadata": {},
   "outputs": [
    {
     "name": "stdout",
     "output_type": "stream",
     "text": [
      "USA\n",
      "India\n",
      "Japan\n"
     ]
    }
   ],
   "source": [
    "if False:\n",
    "    print(\"Pakistan\")\n",
    "else:\n",
    "    print(\"USA\")\n",
    "    print(\"India\")\n",
    "    print(\"Japan\")"
   ]
  },
  {
   "cell_type": "code",
   "execution_count": 11,
   "id": "39d99869",
   "metadata": {},
   "outputs": [
    {
     "name": "stdout",
     "output_type": "stream",
     "text": [
      "Enter any number: 60\n",
      "Even\n"
     ]
    }
   ],
   "source": [
    "num = int(input(\"Enter any number: \"))\n",
    "\n",
    "if num % 2 == 0:\n",
    "    print(\"Even\")\n",
    "else:\n",
    "    print(\"Odd\")"
   ]
  },
  {
   "cell_type": "code",
   "execution_count": 12,
   "id": "ad76bb36",
   "metadata": {},
   "outputs": [
    {
     "name": "stdout",
     "output_type": "stream",
     "text": [
      "Enter any number: 96\n",
      "this 96 is Even\n"
     ]
    }
   ],
   "source": [
    "num = int(input(\"Enter any number: \"))\n",
    "\n",
    "if num % 2 == 0:\n",
    "    print(f\"this {num} is Even\")\n",
    "else:\n",
    "    print(f\"this {num} is Odd\")"
   ]
  },
  {
   "cell_type": "markdown",
   "id": "5faa3f37",
   "metadata": {},
   "source": [
    "# and(Lazmi) or (optional)"
   ]
  },
  {
   "cell_type": "code",
   "execution_count": 18,
   "id": "7d38995a",
   "metadata": {},
   "outputs": [
    {
     "data": {
      "text/plain": [
       "False"
      ]
     },
     "execution_count": 18,
     "metadata": {},
     "output_type": "execute_result"
    }
   ],
   "source": [
    "a = 21\n",
    "b = 60\n",
    "c = 30\n",
    "\n",
    "(a % 2 == 0) and (b % 2 == 0) and (c % 2 == 0)\n",
    "#(21 % 2 == 0) and (60 % 2 == 0) and (30 % 2 == 0)\n",
    "#(1 == 0) and (0 == 0) and (0 == 0)\n",
    "#(False) and (True) and (True)\n",
    "# False"
   ]
  },
  {
   "cell_type": "code",
   "execution_count": 19,
   "id": "7f9df496",
   "metadata": {},
   "outputs": [
    {
     "data": {
      "text/plain": [
       "True"
      ]
     },
     "execution_count": 19,
     "metadata": {},
     "output_type": "execute_result"
    }
   ],
   "source": [
    "a = 21\n",
    "b = 60\n",
    "c = 30\n",
    "\n",
    "(a % 2 == 0) or (b % 2 == 0) or (c % 2 == 0)\n",
    "#(21 % 2 == 0) or (60 % 2 == 0) or (30 % 2 == 0)\n",
    "#(1 == 0) or (0 == 0) or (0 == 0)\n",
    "#(False) or (True) or (True)\n",
    "# True"
   ]
  },
  {
   "cell_type": "code",
   "execution_count": 22,
   "id": "a65097ee",
   "metadata": {},
   "outputs": [
    {
     "name": "stdout",
     "output_type": "stream",
     "text": [
      "UserName:Saylani\n",
      "PasswordSaylani123\n",
      "Valid User\n"
     ]
    }
   ],
   "source": [
    "user = input(\"UserName:\")\n",
    "password = input(\"Password\")\n",
    "\n",
    "if (user == \"Saylani\") and (password == \"Saylani123\"):\n",
    "    print(\"Valid User\")\n",
    "else:\n",
    "    print(\"Invalid information please try again!\")"
   ]
  },
  {
   "cell_type": "code",
   "execution_count": 23,
   "id": "648499a9",
   "metadata": {},
   "outputs": [
    {
     "name": "stdout",
     "output_type": "stream",
     "text": [
      "UserName:Saylani\n",
      "Passwordabc22\n",
      "Invalid information please try again!\n"
     ]
    }
   ],
   "source": [
    "user = input(\"UserName:\")\n",
    "password = input(\"Password\")\n",
    "\n",
    "if (user == \"Saylani\") and (password == \"Saylani123\"):\n",
    "    print(\"Valid User\")\n",
    "else:\n",
    "    print(\"Invalid information please try again!\")"
   ]
  },
  {
   "cell_type": "code",
   "execution_count": 24,
   "id": "8c8c091b",
   "metadata": {},
   "outputs": [
    {
     "name": "stdout",
     "output_type": "stream",
     "text": [
      "E\n"
     ]
    }
   ],
   "source": [
    "grade = 70\n",
    "\n",
    "if grade >=33 :\n",
    "    print(\"E\")\n",
    "elif grade >= 40:\n",
    "    print(\"D\")\n",
    "elif grade >= 50:\n",
    "    print(\"C\")\n",
    "elif grade >= 60:\n",
    "    print(\"B\")\n",
    "elif grade >= 70:\n",
    "    print(\"A\")\n",
    "elif grade >= 80:\n",
    "    print(\"A+\")"
   ]
  },
  {
   "cell_type": "code",
   "execution_count": 38,
   "id": "c4674b55",
   "metadata": {},
   "outputs": [
    {
     "name": "stdout",
     "output_type": "stream",
     "text": [
      "Fail\n"
     ]
    }
   ],
   "source": [
    "# wrong logic\n",
    "grade = 32\n",
    "\n",
    "if grade >=33 :\n",
    "    if grade < 40:\n",
    "        print(\"E\")\n",
    "elif grade >= 40:\n",
    "    if grade < 50:\n",
    "        print(\"D\")\n",
    "elif grade >= 50:\n",
    "    if grade <60:\n",
    "        print(\"C\")\n",
    "elif grade >= 60:\n",
    "    if grade < 70:\n",
    "        print(\"B\")\n",
    "elif grade >= 70:\n",
    "    if grade < 80:\n",
    "        print(\"A\")\n",
    "elif grade >= 80:\n",
    "    if grade <= 100:\n",
    "        print(\"A+\")\n",
    "else:\n",
    "    print(\"Fail\")"
   ]
  },
  {
   "cell_type": "code",
   "execution_count": 25,
   "id": "97a931a0",
   "metadata": {},
   "outputs": [
    {
     "name": "stdout",
     "output_type": "stream",
     "text": [
      "A\n"
     ]
    }
   ],
   "source": [
    "grade = 70\n",
    "\n",
    "if grade >= 0 and grade <33:\n",
    "    print(\"Fail\")\n",
    "if grade >=33 and grade <40 :\n",
    "    print(\"E\")\n",
    "elif grade >= 40 and grade < 50:\n",
    "    print(\"D\")\n",
    "elif grade >= 50 and grade < 60:\n",
    "    print(\"C\")\n",
    "elif grade >= 60 and grade < 70:\n",
    "    print(\"B\")\n",
    "elif grade >= 70 and grade < 80:\n",
    "    print(\"A\")\n",
    "elif grade >= 80 and grade <=100:\n",
    "    print(\"A+\")"
   ]
  },
  {
   "cell_type": "code",
   "execution_count": 26,
   "id": "8aee898b",
   "metadata": {},
   "outputs": [
    {
     "name": "stdout",
     "output_type": "stream",
     "text": [
      "A+\n"
     ]
    }
   ],
   "source": [
    "g = 80\n",
    "\n",
    "if g >= 80:\n",
    "    print(\"A+\")\n",
    "elif g>=70:\n",
    "    print(\"A\")\n",
    "elif g>= 60:\n",
    "    print(\"B\")\n",
    "else:\n",
    "    print(\"Fail\")"
   ]
  },
  {
   "cell_type": "code",
   "execution_count": 27,
   "id": "7e220097",
   "metadata": {},
   "outputs": [
    {
     "data": {
      "text/plain": [
       "4.0"
      ]
     },
     "execution_count": 27,
     "metadata": {},
     "output_type": "execute_result"
    }
   ],
   "source": [
    "# pemdas\n",
    "# bodmas\n",
    "1+2-3+4*2/2\n",
    "#1+2-3+4*1\n",
    "#1+2-3+4\n",
    "#1+2-3+4\n",
    "#3-3+4\n",
    "#0+4\n",
    "#4"
   ]
  },
  {
   "cell_type": "code",
   "execution_count": 28,
   "id": "b1863c7f",
   "metadata": {},
   "outputs": [
    {
     "data": {
      "text/plain": [
       "4.0"
      ]
     },
     "execution_count": 28,
     "metadata": {},
     "output_type": "execute_result"
    }
   ],
   "source": [
    "1+2-3+4*2/2\n",
    "#1+2-3+4*1\n",
    "#1+2-3+4\n",
    "#1+2-3+4\n",
    "#1+2-3+4\n",
    "#1+2+4-3\n",
    "#7-3\n",
    "#4"
   ]
  },
  {
   "cell_type": "markdown",
   "id": "4dce4c7f",
   "metadata": {},
   "source": [
    "# https://techvidvan.com/tutorials/wp-content/uploads/sites/2/2019/12/python-operator-precedence.jpg"
   ]
  },
  {
   "cell_type": "code",
   "execution_count": 32,
   "id": "ac6e9e5f",
   "metadata": {},
   "outputs": [
    {
     "data": {
      "text/plain": [
       "2.814814814814815"
      ]
     },
     "execution_count": 32,
     "metadata": {},
     "output_type": "execute_result"
    }
   ],
   "source": [
    "3-5*2/6**3*(1-2+5)\n",
    "# 3-5*2/216*(1-2+5)\n",
    "# 3-5*2/216*(-1+5)\n",
    "# 3-5*2/216*4\n",
    "# 3-5*0.009259259259259259*4\n",
    "# 3-0.18518518518518517\n",
    "# 2.814"
   ]
  },
  {
   "cell_type": "markdown",
   "id": "96f89376",
   "metadata": {},
   "source": [
    "# While Loop\n",
    "\n",
    "Syntax:\n",
    "``` \n",
    "flag = True\n",
    "\n",
    "while flag:\n",
    "    loop body\n",
    "    flag update\n",
    "```"
   ]
  },
  {
   "cell_type": "code",
   "execution_count": 44,
   "id": "c09270ae",
   "metadata": {},
   "outputs": [
    {
     "name": "stdout",
     "output_type": "stream",
     "text": [
      "0\n",
      "1\n",
      "2\n",
      "3\n",
      "4\n",
      "5\n",
      "6\n",
      "7\n",
      "8\n"
     ]
    }
   ],
   "source": [
    "counter = 0\n",
    "\n",
    "while  counter <= 8:\n",
    "    print(counter)\n",
    "    counter += 1"
   ]
  },
  {
   "cell_type": "code",
   "execution_count": 43,
   "id": "03bc8564",
   "metadata": {},
   "outputs": [
    {
     "name": "stdout",
     "output_type": "stream",
     "text": [
      "1\n",
      "2\n",
      "3\n",
      "4\n",
      "5\n",
      "6\n",
      "7\n",
      "8\n",
      "9\n"
     ]
    }
   ],
   "source": [
    "counter = 0\n",
    "\n",
    "while  counter <= 8 :\n",
    "    counter += 1\n",
    "    print(counter)\n",
    "    \n",
    "    \n",
    "# print(0) ; counter = 1\n",
    "# print(1) ; counter = 2\n",
    "# print(2) ; counter = 3\n",
    "# print(3) ; counter = 4\n",
    "# print(4) ; counter = 5\n",
    "# print(5) ; counter = 6\n",
    "# print(6) ; counter = 7\n",
    "# print(7) ; counter = 8\n",
    "# print(8) ; counter = 9\n"
   ]
  },
  {
   "cell_type": "code",
   "execution_count": 52,
   "id": "256cc065",
   "metadata": {},
   "outputs": [
    {
     "name": "stdout",
     "output_type": "stream",
     "text": [
      "1\n",
      "2\n",
      "4\n",
      "5\n",
      "6\n",
      "7\n",
      "8\n",
      "9\n"
     ]
    }
   ],
   "source": [
    "i = 0\n",
    "while i < 9:\n",
    "  i += 1\n",
    "  if i == 3:\n",
    "    continue\n",
    "  print(i)"
   ]
  },
  {
   "cell_type": "code",
   "execution_count": 60,
   "id": "bad38350",
   "metadata": {},
   "outputs": [
    {
     "name": "stdout",
     "output_type": "stream",
     "text": [
      "1\n",
      "2\n",
      "Pakistan\n"
     ]
    }
   ],
   "source": [
    "i = 0\n",
    "while i < 9:\n",
    "    i += 1\n",
    "    if i == 3:\n",
    "        break\n",
    "    print(i)\n",
    "\n",
    "print(\"Pakistan\")"
   ]
  },
  {
   "cell_type": "code",
   "execution_count": 55,
   "id": "8bf48470",
   "metadata": {},
   "outputs": [
    {
     "ename": "SyntaxError",
     "evalue": "invalid syntax (Temp/ipykernel_6712/2060776853.py, line 5)",
     "output_type": "error",
     "traceback": [
      "\u001b[1;36m  File \u001b[1;32m\"C:\\Users\\STUDEN~1\\AppData\\Local\\Temp/ipykernel_6712/2060776853.py\"\u001b[1;36m, line \u001b[1;32m5\u001b[0m\n\u001b[1;33m    final:\u001b[0m\n\u001b[1;37m          ^\u001b[0m\n\u001b[1;31mSyntaxError\u001b[0m\u001b[1;31m:\u001b[0m invalid syntax\n"
     ]
    }
   ],
   "source": [
    "if True:\n",
    "    pass\n",
    "else:\n",
    "    pass\n"
   ]
  },
  {
   "cell_type": "code",
   "execution_count": null,
   "id": "586822c8",
   "metadata": {},
   "outputs": [],
   "source": []
  }
 ],
 "metadata": {
  "kernelspec": {
   "display_name": "Python 3 (ipykernel)",
   "language": "python",
   "name": "python3"
  },
  "language_info": {
   "codemirror_mode": {
    "name": "ipython",
    "version": 3
   },
   "file_extension": ".py",
   "mimetype": "text/x-python",
   "name": "python",
   "nbconvert_exporter": "python",
   "pygments_lexer": "ipython3",
   "version": "3.9.12"
  }
 },
 "nbformat": 4,
 "nbformat_minor": 5
}
