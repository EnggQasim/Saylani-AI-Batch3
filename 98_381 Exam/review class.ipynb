{
 "cells": [
  {
   "cell_type": "code",
   "execution_count": 5,
   "metadata": {},
   "outputs": [],
   "source": [
    "def add_two_number(num1=0,num2=0):\n",
    "    \"\"\"\n",
    "    add_two_number(num1, num2)\n",
    "    add two numbers\n",
    "    num1 and num2 must be are numbers\n",
    "    \n",
    "    add_two_number(2,7)\n",
    "    \n",
    "    output: \n",
    "    \"\"\"\n",
    "    return num1 + num2"
   ]
  },
  {
   "cell_type": "code",
   "execution_count": 6,
   "metadata": {},
   "outputs": [
    {
     "data": {
      "text/plain": [
       "8"
      ]
     },
     "execution_count": 6,
     "metadata": {},
     "output_type": "execute_result"
    }
   ],
   "source": [
    "add_two_number(1,7)\n"
   ]
  },
  {
   "cell_type": "code",
   "execution_count": 7,
   "metadata": {},
   "outputs": [
    {
     "data": {
      "text/plain": [
       "'\\n22:50:29 From Shahzad Ahmed To Everyone : AI - 46165\\n22:50:33 From HP To Everyone : AI-49551\\n22:50:39 From Ahsan Uddin To Everyone : AI-43505\\n22:50:40 From Mehmood Suleman To Everyone : AI-41824\\n22:50:44 From Ali Nasir To Everyone : AI-47134\\n22:50:45 From ~Saad Ahmed To Everyone : AI-47242\\n22:50:46 From Faraz Uddin To Everyone : AI-44226\\n22:50:47 From Mooazam To Everyone : AI-40222\\n22:50:48 From Adil Irfan (AI) To Everyone : AI-46249\\n22:50:50 From Subhash To Everyone : AI-44246\\n22:50:58 From Syed Salman Ali To Everyone : AI-40969\\n22:51:01 From Abdul Sami AI-40352 To Everyone : AI-40352\\n22:51:03 From Hamza Ahmed Ansari To Everyone : AI 40591\\n22:51:03 From Sami Khan To Everyone : AI-40483\\n22:51:05 From Ahmed Uddin Khan To Everyone : AI 54408\\n22:51:07 From Muhammad Saad To Everyone : AI-46190\\n22:51:08 From Muhammad Faizan To Everyone : AI-40939\\n22:51:14 From Iqbal Ahmed To Everyone : AI-46214\\n22:51:16 From Zubair Rasheed To Everyone : Al 40200\\n22:51:17 From Daniyal Azam To Everyone : AI-47456\\n22:51:19 From Lenovo To Everyone : AI-50908\\n22:51:23 From Ahmed saleem To Everyone : AI-44378\\n22:51:25 From Umair Taqi To Everyone : AI-45939\\n22:51:31 From Yasoob Naqvi To Everyone : AI-43688\\n22:51:41 From Wajahat Mobin Qadri To Everyone : AI 51851\\n22:51:46 From Abdur rasheed To Everyone : AI-40154\\n22:52:28 From Atiq Raza To Everyone : AI-42612\\n22:54:09 From Irfan To Everyone : AI-45055\\nIrfan:AI-43619\\n'"
      ]
     },
     "execution_count": 7,
     "metadata": {},
     "output_type": "execute_result"
    }
   ],
   "source": [
    "x = \"\"\"\n",
    "22:50:29 From Shahzad Ahmed To Everyone : AI - 46165\n",
    "22:50:33 From HP To Everyone : AI-49551\n",
    "22:50:39 From Ahsan Uddin To Everyone : AI-43505\n",
    "22:50:40 From Mehmood Suleman To Everyone : AI-41824\n",
    "22:50:44 From Ali Nasir To Everyone : AI-47134\n",
    "22:50:45 From ~Saad Ahmed To Everyone : AI-47242\n",
    "22:50:46 From Faraz Uddin To Everyone : AI-44226\n",
    "22:50:47 From Mooazam To Everyone : AI-40222\n",
    "22:50:48 From Adil Irfan (AI) To Everyone : AI-46249\n",
    "22:50:50 From Subhash To Everyone : AI-44246\n",
    "22:50:58 From Syed Salman Ali To Everyone : AI-40969\n",
    "22:51:01 From Abdul Sami AI-40352 To Everyone : AI-40352\n",
    "22:51:03 From Hamza Ahmed Ansari To Everyone : AI 40591\n",
    "22:51:03 From Sami Khan To Everyone : AI-40483\n",
    "22:51:05 From Ahmed Uddin Khan To Everyone : AI 54408\n",
    "22:51:07 From Muhammad Saad To Everyone : AI-46190\n",
    "22:51:08 From Muhammad Faizan To Everyone : AI-40939\n",
    "22:51:14 From Iqbal Ahmed To Everyone : AI-46214\n",
    "22:51:16 From Zubair Rasheed To Everyone : Al 40200\n",
    "22:51:17 From Daniyal Azam To Everyone : AI-47456\n",
    "22:51:19 From Lenovo To Everyone : AI-50908\n",
    "22:51:23 From Ahmed saleem To Everyone : AI-44378\n",
    "22:51:25 From Umair Taqi To Everyone : AI-45939\n",
    "22:51:31 From Yasoob Naqvi To Everyone : AI-43688\n",
    "22:51:41 From Wajahat Mobin Qadri To Everyone : AI 51851\n",
    "22:51:46 From Abdur rasheed To Everyone : AI-40154\n",
    "22:52:28 From Atiq Raza To Everyone : AI-42612\n",
    "22:54:09 From Irfan To Everyone : AI-45055\n",
    "Irfan:AI-43619\n",
    "\"\"\"\n",
    "x"
   ]
  },
  {
   "cell_type": "code",
   "execution_count": 36,
   "metadata": {},
   "outputs": [],
   "source": [
    "import re"
   ]
  },
  {
   "cell_type": "code",
   "execution_count": 132,
   "metadata": {},
   "outputs": [
    {
     "data": {
      "text/plain": [
       "'pakistan zindaba bad we love our country'"
      ]
     },
     "execution_count": 132,
     "metadata": {},
     "output_type": "execute_result"
    }
   ],
   "source": [
    "x1 = \"pakistan     zindaba    bad  we love our  country\"\n",
    "re.sub(\"\\s{2,100}\",\" \",x1)"
   ]
  },
  {
   "cell_type": "code",
   "execution_count": null,
   "metadata": {},
   "outputs": [],
   "source": []
  },
  {
   "cell_type": "code",
   "execution_count": 126,
   "metadata": {},
   "outputs": [
    {
     "data": {
      "text/plain": [
       "['46165',\n",
       " '49551',\n",
       " '43505',\n",
       " '41824',\n",
       " '47134',\n",
       " '47242',\n",
       " '44226',\n",
       " '40222',\n",
       " '46249',\n",
       " '44246',\n",
       " '40969',\n",
       " '40352',\n",
       " '40591',\n",
       " '40483',\n",
       " '54408',\n",
       " '46190',\n",
       " '40939',\n",
       " '46214',\n",
       " '40200',\n",
       " '47456',\n",
       " '50908',\n",
       " '44378',\n",
       " '45939',\n",
       " '43688',\n",
       " '51851',\n",
       " '40154',\n",
       " '42612',\n",
       " '45055']"
      ]
     },
     "execution_count": 126,
     "metadata": {},
     "output_type": "execute_result"
    }
   ],
   "source": [
    "[re.findall(\"\\d+\",i)[0] for i in re.findall(\": .{7,11}\",x)]"
   ]
  },
  {
   "cell_type": "code",
   "execution_count": 96,
   "metadata": {},
   "outputs": [
    {
     "name": "stdout",
     "output_type": "stream",
     "text": [
      "[]\n",
      "\n",
      "[]\n",
      "22:50:29 From Shahzad Ahmed To Everyone : AI - 46165\n",
      "[' AI-49551']\n",
      "22:50:33 From HP To Everyone : AI-49551\n",
      "[' AI-43505']\n",
      "22:50:39 From Ahsan Uddin To Everyone : AI-43505\n",
      "[' AI-41824']\n",
      "22:50:40 From Mehmood Suleman To Everyone : AI-41824\n",
      "[' AI-47134']\n",
      "22:50:44 From Ali Nasir To Everyone : AI-47134\n",
      "[' AI-47242']\n",
      "22:50:45 From ~Saad Ahmed To Everyone : AI-47242\n",
      "[' AI-44226']\n",
      "22:50:46 From Faraz Uddin To Everyone : AI-44226\n",
      "[' AI-40222']\n",
      "22:50:47 From Mooazam To Everyone : AI-40222\n",
      "[' AI-46249']\n",
      "22:50:48 From Adil Irfan (AI) To Everyone : AI-46249\n",
      "[' AI-44246']\n",
      "22:50:50 From Subhash To Everyone : AI-44246\n",
      "[' AI-40969']\n",
      "22:50:58 From Syed Salman Ali To Everyone : AI-40969\n",
      "[' AI-40352']\n",
      "22:51:01 From Abdul Sami AI-40352 To Everyone : AI-40352\n",
      "[]\n",
      "22:51:03 From Hamza Ahmed Ansari To Everyone : AI 40591\n",
      "[' AI-40483']\n",
      "22:51:03 From Sami Khan To Everyone : AI-40483\n",
      "[]\n",
      "22:51:05 From Ahmed Uddin Khan To Everyone : AI 54408\n",
      "[' AI-46190']\n",
      "22:51:07 From Muhammad Saad To Everyone : AI-46190\n",
      "[' AI-40939']\n",
      "22:51:08 From Muhammad Faizan To Everyone : AI-40939\n",
      "[' AI-46214']\n",
      "22:51:14 From Iqbal Ahmed To Everyone : AI-46214\n",
      "[]\n",
      "22:51:16 From Zubair Rasheed To Everyone : Al 40200\n",
      "[' AI-47456']\n",
      "22:51:17 From Daniyal Azam To Everyone : AI-47456\n",
      "[' AI-50908']\n",
      "22:51:19 From Lenovo To Everyone : AI-50908\n",
      "[' AI-44378']\n",
      "22:51:23 From Ahmed saleem To Everyone : AI-44378\n",
      "[' AI-45939']\n",
      "22:51:25 From Umair Taqi To Everyone : AI-45939\n",
      "[' AI-43688']\n",
      "22:51:31 From Yasoob Naqvi To Everyone : AI-43688\n",
      "[]\n",
      "22:51:41 From Wajahat Mobin Qadri To Everyone : AI 51851\n",
      "[' AI-40154']\n",
      "22:51:46 From Abdur rasheed To Everyone : AI-40154\n",
      "[' AI-42612']\n",
      "22:52:28 From Atiq Raza To Everyone : AI-42612\n",
      "[' AI-45055']\n",
      "22:54:09 From Irfan To Everyone : AI-45055\n",
      "[':AI-43619']\n",
      "Irfan:AI-43619\n",
      "[]\n",
      "\n"
     ]
    }
   ],
   "source": [
    "for i in x.split(\"\\n\"):\n",
    "    print(re.findall(\".{3}-.{5}$\",i))\n",
    "    print(i)\n",
    "    print()\n",
    "    print(\"======\")\n",
    "    "
   ]
  },
  {
   "cell_type": "code",
   "execution_count": 74,
   "metadata": {},
   "outputs": [
    {
     "data": {
      "text/plain": [
       "[[],\n",
       " [': AI - 46165'],\n",
       " [': AI-49551'],\n",
       " [': AI-43505'],\n",
       " [': AI-41824'],\n",
       " [': AI-47134'],\n",
       " [': AI-47242'],\n",
       " [': AI-44226'],\n",
       " [': AI-40222'],\n",
       " [': AI-46249'],\n",
       " [': AI-44246'],\n",
       " [': AI-40969'],\n",
       " [': AI-40352'],\n",
       " [': AI 40591'],\n",
       " [': AI-40483'],\n",
       " [': AI 54408'],\n",
       " [': AI-46190'],\n",
       " [': AI-40939'],\n",
       " [': AI-46214'],\n",
       " [': Al 40200'],\n",
       " [': AI-47456'],\n",
       " [': AI-50908'],\n",
       " [': AI-44378'],\n",
       " [': AI-45939'],\n",
       " [': AI-43688'],\n",
       " [': AI 51851'],\n",
       " [': AI-40154'],\n",
       " [': AI-42612'],\n",
       " [': AI-45055'],\n",
       " [],\n",
       " []]"
      ]
     },
     "execution_count": 74,
     "metadata": {},
     "output_type": "execute_result"
    }
   ],
   "source": [
    "[re.findall(\": .*\\d$\",i) for i in re.split(\"\\n\",x)]"
   ]
  },
  {
   "cell_type": "code",
   "execution_count": null,
   "metadata": {},
   "outputs": [],
   "source": []
  },
  {
   "cell_type": "code",
   "execution_count": null,
   "metadata": {},
   "outputs": [],
   "source": []
  },
  {
   "cell_type": "code",
   "execution_count": null,
   "metadata": {},
   "outputs": [],
   "source": []
  },
  {
   "cell_type": "code",
   "execution_count": 38,
   "metadata": {},
   "outputs": [
    {
     "data": {
      "text/plain": [
       "['\\n22:50:29 From Shahzad Ahmed To Everyone : AI - 46165\\n22:50:33 From HP To Everyone : AI-49551\\n22:50:39 From Ahsan Uddin To Everyone : AI-43505\\n22:50:40 From Mehmood Suleman To Everyone : AI-41824\\n22:50:44 From Ali Nasir To Everyone : AI-47134\\n22:50:45 From ~Saad Ahmed To Everyone : AI-47242\\n22:50:46 From Faraz Uddin To Everyone : AI-44226\\n22:50:47 From Mooazam To Everyone : AI-40222\\n22:50:48 From Adil Irfan (AI) To Everyone : AI-46249\\n22:50:50 From Subhash To Everyone : AI-44246\\n22:50:58 From Syed Salman Ali To Everyone : AI-40969\\n22:51:01 From Abdul Sami AI-40352 To Everyone : AI-40352\\n22:51:03 From Hamza Ahmed Ansari To Everyone : AI 40591\\n22:51:03 From Sami Khan To Everyone : AI-40483\\n22:51:05 From Ahmed Uddin Khan To Everyone : AI 54408\\n22:51:07 From Muhammad Saad To Everyone : AI-46190\\n22:51:08 From Muhammad Faizan To Everyone : AI-40939\\n22:51:14 From Iqbal Ahmed To Everyone : AI-46214\\n22:51:16 From Zubair Rasheed To Everyone : Al 40200\\n22:51:17 From Daniyal Azam To Everyone : AI-47456\\n22:51:19 From Lenovo To Everyone : AI-50908\\n22:51:23 From Ahmed saleem To Everyone : AI-44378\\n22:51:25 From Umair Taqi To Everyone : AI-45939\\n22:51:31 From Yasoob Naqvi To Everyone : AI-43688\\n22:51:41 From Wajahat Mobin Qadri To Everyone : AI 51851\\n22:51:46 From Abdur rasheed To Everyone : AI-40154\\n22:52:28 From Atiq Raza To Everyone : AI-42612\\n22:54:09 From Irfan To Everyone : AI-45055\\nIrfan:AI-43619\\n']"
      ]
     },
     "execution_count": 38,
     "metadata": {},
     "output_type": "execute_result"
    }
   ],
   "source": [
    "[i.spre.split(\" \\n \",x)"
   ]
  },
  {
   "cell_type": "code",
   "execution_count": 35,
   "metadata": {},
   "outputs": [
    {
     "data": {
      "text/plain": [
       "['ai - 46165\\n',\n",
       " 'ai-49551\\n',\n",
       " 'ai-43505\\n',\n",
       " 'ai-41824\\n',\n",
       " 'ai-47134\\n',\n",
       " 'ai-47242\\n',\n",
       " 'ai-44226\\n',\n",
       " 'ai-40222\\n',\n",
       " 'ai) to everyone : ai-46249\\n',\n",
       " 'ai-44246\\n',\n",
       " 'ai-40969\\n',\n",
       " 'ai-40352 to everyone : ai-40352\\n',\n",
       " 'ai 40591\\n',\n",
       " 'ai-40483\\n',\n",
       " 'ai 54408\\n',\n",
       " 'ai-46190\\n',\n",
       " 'aizan to everyone : ai-40939\\n',\n",
       " 'ai-46214\\n',\n",
       " 'air rasheed to everyone : al 40200\\n',\n",
       " 'ai-47456\\n',\n",
       " 'ai-50908\\n',\n",
       " 'ai-44378\\n',\n",
       " 'air taqi to everyone : ai-45939\\n',\n",
       " 'ai-43688\\n',\n",
       " 'ai 51851\\n',\n",
       " 'ai-40154\\n',\n",
       " 'ai-42612\\n',\n",
       " 'ai-45055\\n',\n",
       " 'ai-43619\\n']"
      ]
     },
     "execution_count": 35,
     "metadata": {},
     "output_type": "execute_result"
    }
   ],
   "source": [
    "re.findall(\"ai.*\\n\",x.lower())"
   ]
  },
  {
   "cell_type": "code",
   "execution_count": 32,
   "metadata": {},
   "outputs": [
    {
     "data": {
      "text/plain": [
       "['AI46165',\n",
       " 'AI49551',\n",
       " 'AI43505',\n",
       " 'AI41824',\n",
       " 'AI47134',\n",
       " 'AI47242',\n",
       " 'AI44226',\n",
       " 'AI40222',\n",
       " 'AI46249',\n",
       " 'AI44246',\n",
       " 'AI40969',\n",
       " 'AI40352',\n",
       " 'AI40591',\n",
       " 'AI40483',\n",
       " 'AI54408',\n",
       " 'AI46190',\n",
       " 'AI40939',\n",
       " 'AI46214',\n",
       " 'Al40200',\n",
       " 'AI47456',\n",
       " 'AI50908',\n",
       " 'AI44378',\n",
       " 'AI45939',\n",
       " 'AI43688',\n",
       " 'AI51851',\n",
       " 'AI40154',\n",
       " 'AI42612',\n",
       " 'AI45055']"
      ]
     },
     "execution_count": 32,
     "metadata": {},
     "output_type": "execute_result"
    }
   ],
   "source": [
    "l = re.findall(\" :.*\\n\",x)\n",
    "[i.strip().replace(\":\",\"\").replace(\" \",\"\").replace(\"-\",\"\") for i in l]"
   ]
  },
  {
   "cell_type": "code",
   "execution_count": 15,
   "metadata": {},
   "outputs": [
    {
     "name": "stdout",
     "output_type": "stream",
     "text": [
      "29\n"
     ]
    },
    {
     "data": {
      "text/plain": [
       "['AI46165',\n",
       " 'AI49551',\n",
       " 'AI43505',\n",
       " 'AI41824',\n",
       " 'AI47134',\n",
       " 'AI47242',\n",
       " 'AI44226',\n",
       " 'AI40222',\n",
       " 'AI46249',\n",
       " 'AI44246',\n",
       " 'AI40969',\n",
       " 'AI40352',\n",
       " 'AI40591',\n",
       " 'AI40483',\n",
       " 'AI54408',\n",
       " 'AI46190',\n",
       " 'AI40939',\n",
       " 'AI46214',\n",
       " 'Al40200',\n",
       " 'AI47456',\n",
       " 'AI50908',\n",
       " 'AI44378',\n",
       " 'AI45939',\n",
       " 'AI43688',\n",
       " 'AI51851',\n",
       " 'AI40154',\n",
       " 'AI42612',\n",
       " 'AI45055',\n",
       " 'AI43619']"
      ]
     },
     "execution_count": 15,
     "metadata": {},
     "output_type": "execute_result"
    }
   ],
   "source": [
    "roll_numbers = []\n",
    "for r in x.split(\"\\n\"):\n",
    "    c=r.split(\":\")[-1].replace(\" \",\"\").replace(\"-\",\"\")\n",
    "    if c not in roll_numbers and c!=\"\":\n",
    "        roll_numbers.append(c)\n",
    "print(len(roll_numbers))        \n",
    "roll_numbers        "
   ]
  },
  {
   "cell_type": "code",
   "execution_count": null,
   "metadata": {},
   "outputs": [],
   "source": []
  }
 ],
 "metadata": {
  "kernelspec": {
   "display_name": "Python 3",
   "language": "python",
   "name": "python3"
  },
  "language_info": {
   "codemirror_mode": {
    "name": "ipython",
    "version": 3
   },
   "file_extension": ".py",
   "mimetype": "text/x-python",
   "name": "python",
   "nbconvert_exporter": "python",
   "pygments_lexer": "ipython3",
   "version": "3.7.6"
  }
 },
 "nbformat": 4,
 "nbformat_minor": 4
}
