{
 "cells": [
  {
   "cell_type": "code",
   "execution_count": 1,
   "id": "9786a76b",
   "metadata": {},
   "outputs": [
    {
     "name": "stdout",
     "output_type": "stream",
     "text": [
      "Collecting pyqt5\n",
      "  Downloading PyQt5-5.15.7-cp37-abi3-win_amd64.whl (6.8 MB)\n",
      "Collecting PyQt5-Qt5>=5.15.0\n",
      "  Downloading PyQt5_Qt5-5.15.2-py3-none-win_amd64.whl (50.1 MB)\n",
      "Collecting PyQt5-sip<13,>=12.11\n",
      "  Downloading PyQt5_sip-12.11.0-cp39-cp39-win_amd64.whl (78 kB)\n",
      "Installing collected packages: PyQt5-sip, PyQt5-Qt5, pyqt5\n",
      "Successfully installed PyQt5-Qt5-5.15.2 PyQt5-sip-12.11.0 pyqt5-5.15.7\n"
     ]
    },
    {
     "name": "stderr",
     "output_type": "stream",
     "text": [
      "ERROR: pip's dependency resolver does not currently take into account all the packages that are installed. This behaviour is the source of the following dependency conflicts.\n",
      "spyder 5.1.5 requires pyqtwebengine<5.13, which is not installed.\n",
      "spyder 5.1.5 requires pyqt5<5.13, but you have pyqt5 5.15.7 which is incompatible.\n"
     ]
    }
   ],
   "source": [
    "!pip install pyqt5"
   ]
  },
  {
   "cell_type": "code",
   "execution_count": 2,
   "id": "de781f04",
   "metadata": {},
   "outputs": [
    {
     "name": "stdout",
     "output_type": "stream",
     "text": [
      "Collecting PyQt5Designer\n",
      "  Downloading PyQt5Designer-5.14.1-py3-none-win_amd64.whl (40.8 MB)\n",
      "Installing collected packages: PyQt5Designer\n",
      "Successfully installed PyQt5Designer-5.14.1\n"
     ]
    }
   ],
   "source": [
    "!pip install PyQt5Designer"
   ]
  },
  {
   "cell_type": "code",
   "execution_count": null,
   "id": "5bc800f5",
   "metadata": {},
   "outputs": [],
   "source": []
  }
 ],
 "metadata": {
  "kernelspec": {
   "display_name": "Python 3 (ipykernel)",
   "language": "python",
   "name": "python3"
  },
  "language_info": {
   "codemirror_mode": {
    "name": "ipython",
    "version": 3
   },
   "file_extension": ".py",
   "mimetype": "text/x-python",
   "name": "python",
   "nbconvert_exporter": "python",
   "pygments_lexer": "ipython3",
   "version": "3.9.7"
  }
 },
 "nbformat": 4,
 "nbformat_minor": 5
}
